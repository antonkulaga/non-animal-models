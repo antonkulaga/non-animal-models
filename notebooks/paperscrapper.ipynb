{
 "cells": [
  {
   "cell_type": "markdown",
   "source": [
    "# Paperscrapper"
   ],
   "metadata": {
    "collapsed": false
   }
  },
  {
   "cell_type": "code",
   "execution_count": null,
   "outputs": [],
   "source": [
    "from paperscraper.get_dumps import biorxiv, medrxiv, chemrxiv\n",
    "medrxiv()  #  Takes ~30min and should result in ~35 MB file\n",
    "biorxiv()  # Takes ~1h and should result in ~350 MB file\n",
    "chemrxiv()  #  Takes ~45min and should result in ~20 MB file"
   ],
   "metadata": {
    "collapsed": false
   }
  },
  {
   "cell_type": "code",
   "execution_count": null,
   "outputs": [],
   "source": [],
   "metadata": {
    "collapsed": false
   }
  }
 ],
 "metadata": {
  "kernelspec": {
   "display_name": "Python 3",
   "language": "python",
   "name": "python3"
  },
  "language_info": {
   "codemirror_mode": {
    "name": "ipython",
    "version": 2
   },
   "file_extension": ".py",
   "mimetype": "text/x-python",
   "name": "python",
   "nbconvert_exporter": "python",
   "pygments_lexer": "ipython2",
   "version": "2.7.6"
  }
 },
 "nbformat": 4,
 "nbformat_minor": 0
}
