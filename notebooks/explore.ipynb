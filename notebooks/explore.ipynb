{
 "cells": [
  {
   "cell_type": "code",
   "execution_count": 1,
   "metadata": {
    "collapsed": true,
    "ExecuteTime": {
     "end_time": "2023-06-23T21:44:12.006968283Z",
     "start_time": "2023-06-23T21:44:10.611572610Z"
    }
   },
   "outputs": [],
   "source": [
    "from pycomfort.files import *\n",
    "from pathlib import Path\n",
    "from collections import OrderedDict\n",
    "import polars as pl\n",
    "from nam.config import Locations\n",
    "from nam.datasets import DatasetNAM, read_tsv"
   ]
  },
  {
   "cell_type": "code",
   "execution_count": 2,
   "outputs": [],
   "source": [
    "import nest_asyncio\n",
    "nest_asyncio.apply()"
   ],
   "metadata": {
    "collapsed": false,
    "ExecuteTime": {
     "end_time": "2023-06-23T21:44:12.007385429Z",
     "start_time": "2023-06-23T21:44:12.000143325Z"
    }
   }
  },
  {
   "cell_type": "code",
   "execution_count": 3,
   "outputs": [
    {
     "data": {
      "text/plain": "polars.config.Config"
     },
     "execution_count": 3,
     "metadata": {},
     "output_type": "execute_result"
    }
   ],
   "source": [
    "from polars import Config\n",
    "Config.set_fmt_str_lengths(5000)"
   ],
   "metadata": {
    "collapsed": false,
    "ExecuteTime": {
     "end_time": "2023-06-23T21:44:12.035695229Z",
     "start_time": "2023-06-23T21:44:12.004974676Z"
    }
   }
  },
  {
   "cell_type": "code",
   "execution_count": 4,
   "outputs": [
    {
     "name": "stdout",
     "output_type": "stream",
     "text": [
      "/home/antonkulaga/sources/non-animal-models\n"
     ]
    },
    {
     "data": {
      "text/plain": "OrderedDict([('respiratory', <nam.datasets.DatasetNAM at 0x7f225bb7b7c0>),\n             ('immuno-oncology', <nam.datasets.DatasetNAM at 0x7f2207a22020>),\n             ('neurodegenerative',\n              <nam.datasets.DatasetNAM at 0x7f2207a233d0>),\n             ('ATMP', <nam.datasets.DatasetNAM at 0x7f2207a222f0>),\n             ('breast-cancer', <nam.datasets.DatasetNAM at 0x7f2207a21f00>),\n             ('CVD', <nam.datasets.DatasetNAM at 0x7f2207a21a80>)])"
     },
     "execution_count": 4,
     "metadata": {},
     "output_type": "execute_result"
    }
   ],
   "source": [
    "base = Path(\"..\").absolute().resolve()\n",
    "print(base)\n",
    "locations = Locations(base)\n",
    "datasets = OrderedDict ((d.name, DatasetNAM(d)) for d in dirs(locations.datasets) if (d / \"models.tsv\").exists())\n",
    "datasets"
   ],
   "metadata": {
    "collapsed": false,
    "ExecuteTime": {
     "end_time": "2023-06-23T21:44:12.141282955Z",
     "start_time": "2023-06-23T21:44:12.024163980Z"
    }
   }
  },
  {
   "cell_type": "markdown",
   "source": [
    "# Exploring dataset"
   ],
   "metadata": {
    "collapsed": false
   }
  },
  {
   "cell_type": "code",
   "execution_count": 5,
   "outputs": [
    {
     "data": {
      "text/plain": "OrderedDict([('respiratory', <nam.datasets.DatasetNAM at 0x7f225bb7b7c0>),\n             ('immuno-oncology', <nam.datasets.DatasetNAM at 0x7f2207a22020>),\n             ('neurodegenerative',\n              <nam.datasets.DatasetNAM at 0x7f2207a233d0>),\n             ('ATMP', <nam.datasets.DatasetNAM at 0x7f2207a222f0>),\n             ('breast-cancer', <nam.datasets.DatasetNAM at 0x7f2207a21f00>),\n             ('CVD', <nam.datasets.DatasetNAM at 0x7f2207a21a80>)])"
     },
     "execution_count": 5,
     "metadata": {},
     "output_type": "execute_result"
    }
   ],
   "source": [
    "datasets"
   ],
   "metadata": {
    "collapsed": false,
    "ExecuteTime": {
     "end_time": "2023-06-23T21:44:12.152127995Z",
     "start_time": "2023-06-23T21:44:12.119665040Z"
    }
   }
  },
  {
   "cell_type": "code",
   "execution_count": 6,
   "outputs": [],
   "source": [
    "# ATMP"
   ],
   "metadata": {
    "collapsed": false,
    "ExecuteTime": {
     "end_time": "2023-06-23T21:44:12.152457982Z",
     "start_time": "2023-06-23T21:44:12.120000536Z"
    }
   }
  },
  {
   "cell_type": "code",
   "execution_count": 7,
   "outputs": [
    {
     "data": {
      "text/plain": "['Link to Abstract (DOI)']"
     },
     "execution_count": 7,
     "metadata": {},
     "output_type": "execute_result"
    }
   ],
   "source": [
    "atmp = datasets[\"ATMP\"]\n",
    "atmp.models\n",
    "atmp.doi_cols"
   ],
   "metadata": {
    "collapsed": false,
    "ExecuteTime": {
     "end_time": "2023-06-23T21:44:12.153271779Z",
     "start_time": "2023-06-23T21:44:12.120204869Z"
    }
   }
  },
  {
   "cell_type": "code",
   "execution_count": 8,
   "outputs": [
    {
     "data": {
      "text/plain": "shape: (88, 27)\n┌────────────┬────────────┬────────────┬─────────────┬───┬────────────┬──────┬────────────┬────────┐\n│ Model      ┆ Disease    ┆ Study /    ┆ ATMP type   ┆ … ┆ First      ┆ Year ┆ path       ┆ exists │\n│ number     ┆ area       ┆ Disease    ┆ ---         ┆   ┆ Author     ┆ ---  ┆ ---        ┆ ---    │\n│ ---        ┆ ---        ┆ Feature    ┆ str         ┆   ┆ Name       ┆ i64  ┆ object     ┆ bool   │\n│ i64        ┆ str        ┆ ---        ┆             ┆   ┆ ---        ┆      ┆            ┆        │\n│            ┆            ┆ str        ┆             ┆   ┆ str        ┆      ┆            ┆        │\n╞════════════╪════════════╪════════════╪═════════════╪═══╪════════════╪══════╪════════════╪════════╡\n│ 1          ┆ Cardiovasc ┆ Immunogeni ┆ Tissue      ┆ … ┆ Becker, M  ┆ 2018 ┆ /home/anto ┆ true   │\n│            ┆ ular       ┆ c          ┆ engineering ┆   ┆            ┆      ┆ nkulaga/so ┆        │\n│            ┆            ┆ properties ┆             ┆   ┆            ┆      ┆ urces/non- ┆        │\n│            ┆            ┆            ┆             ┆   ┆            ┆      ┆ animal-mod ┆        │\n│            ┆            ┆            ┆             ┆   ┆            ┆      ┆ els/data/i ┆        │\n│            ┆            ┆            ┆             ┆   ┆            ┆      ┆ nputs/data ┆        │\n│            ┆            ┆            ┆             ┆   ┆            ┆      ┆ sets/ATMP/ ┆        │\n│            ┆            ┆            ┆             ┆   ┆            ┆      ┆ papers/10. ┆        │\n│            ┆            ┆            ┆             ┆   ┆            ┆      ┆ 3390/ijms1 ┆        │\n│            ┆            ┆            ┆             ┆   ┆            ┆      ┆ 9041032.pd ┆        │\n│            ┆            ┆            ┆             ┆   ┆            ┆      ┆ f          ┆        │\n│ 2          ┆ Allotransp ┆ Immune     ┆ Cell        ┆ … ┆ Bettens, F ┆ 2016 ┆ /home/anto ┆ true   │\n│            ┆ lantation  ┆ response   ┆ therapy     ┆   ┆            ┆      ┆ nkulaga/so ┆        │\n│            ┆            ┆ mechanism  ┆             ┆   ┆            ┆      ┆ urces/non- ┆        │\n│            ┆            ┆            ┆             ┆   ┆            ┆      ┆ animal-mod ┆        │\n│            ┆            ┆            ┆             ┆   ┆            ┆      ┆ els/data/i ┆        │\n│            ┆            ┆            ┆             ┆   ┆            ┆      ┆ nputs/data ┆        │\n│            ┆            ┆            ┆             ┆   ┆            ┆      ┆ sets/ATMP/ ┆        │\n│            ┆            ┆            ┆             ┆   ┆            ┆      ┆ papers/10. ┆        │\n│            ┆            ┆            ┆             ┆   ┆            ┆      ┆ 3389/fimmu ┆        │\n│            ┆            ┆            ┆             ┆   ┆            ┆      ┆ .2016.0058 ┆        │\n│            ┆            ┆            ┆             ┆   ┆            ┆      ┆ 4.pdf      ┆        │\n│ 3          ┆ Cardiovasc ┆ Immune     ┆ Cell        ┆ … ┆ Boukouaci, ┆ 2014 ┆ /home/anto ┆ true   │\n│            ┆ ular       ┆ response   ┆ therapy     ┆   ┆ W          ┆      ┆ nkulaga/so ┆        │\n│            ┆            ┆ mechanism  ┆             ┆   ┆            ┆      ┆ urces/non- ┆        │\n│            ┆            ┆            ┆             ┆   ┆            ┆      ┆ animal-mod ┆        │\n│            ┆            ┆            ┆             ┆   ┆            ┆      ┆ els/data/i ┆        │\n│            ┆            ┆            ┆             ┆   ┆            ┆      ┆ nputs/data ┆        │\n│            ┆            ┆            ┆             ┆   ┆            ┆      ┆ sets/ATMP/ ┆        │\n│            ┆            ┆            ┆             ┆   ┆            ┆      ┆ papers/10. ┆        │\n│            ┆            ┆            ┆             ┆   ┆            ┆      ┆ 1093/cvr/c ┆        │\n│            ┆            ┆            ┆             ┆   ┆            ┆      ┆ vu208.pdf  ┆        │\n│ 4          ┆ Liver      ┆ Immunogeni ┆ Cell        ┆ … ┆ Bruno, S   ┆ 2016 ┆ /home/anto ┆ true   │\n│            ┆ disease    ┆ c          ┆ therapy     ┆   ┆            ┆      ┆ nkulaga/so ┆        │\n│            ┆            ┆ properties ┆             ┆   ┆            ┆      ┆ urces/non- ┆        │\n│            ┆            ┆            ┆             ┆   ┆            ┆      ┆ animal-mod ┆        │\n│            ┆            ┆            ┆             ┆   ┆            ┆      ┆ els/data/i ┆        │\n│            ┆            ┆            ┆             ┆   ┆            ┆      ┆ nputs/data ┆        │\n│            ┆            ┆            ┆             ┆   ┆            ┆      ┆ sets/ATMP/ ┆        │\n│            ┆            ┆            ┆             ┆   ┆            ┆      ┆ papers/10. ┆        │\n│            ┆            ┆            ┆             ┆   ┆            ┆      ┆ 1155/2016/ ┆        │\n│            ┆            ┆            ┆             ┆   ┆            ┆      ┆ 8468549.pd ┆        │\n│            ┆            ┆            ┆             ┆   ┆            ┆      ┆ f          ┆        │\n│ …          ┆ …          ┆ …          ┆ …           ┆ … ┆ …          ┆ …    ┆ …          ┆ …      │\n│ 85         ┆ Eye        ┆ Immunogeni ┆ Cell        ┆ … ┆ Wang, ZY   ┆ 2016 ┆ /home/anto ┆ true   │\n│            ┆ diseases   ┆ c          ┆ therapy     ┆   ┆            ┆      ┆ nkulaga/so ┆        │\n│            ┆            ┆ properties ┆             ┆   ┆            ┆      ┆ urces/non- ┆        │\n│            ┆            ┆            ┆             ┆   ┆            ┆      ┆ animal-mod ┆        │\n│            ┆            ┆            ┆             ┆   ┆            ┆      ┆ els/data/i ┆        │\n│            ┆            ┆            ┆             ┆   ┆            ┆      ┆ nputs/data ┆        │\n│            ┆            ┆            ┆             ┆   ┆            ┆      ┆ sets/ATMP/ ┆        │\n│            ┆            ┆            ┆             ┆   ┆            ┆      ┆ papers/10. ┆        │\n│            ┆            ┆            ┆             ┆   ┆            ┆      ┆ 1371/journ ┆        │\n│            ┆            ┆            ┆             ┆   ┆            ┆      ┆ al.pone.01 ┆        │\n│            ┆            ┆            ┆             ┆   ┆            ┆      ┆ 50731.pdf  ┆        │\n│ 86         ┆ AIDS       ┆ Immunother ┆ Gene        ┆ … ┆ Wolstein,  ┆ 2014 ┆ /home/anto ┆ true   │\n│            ┆            ┆ apy        ┆ therapy     ┆   ┆ O          ┆      ┆ nkulaga/so ┆        │\n│            ┆            ┆            ┆             ┆   ┆            ┆      ┆ urces/non- ┆        │\n│            ┆            ┆            ┆             ┆   ┆            ┆      ┆ animal-mod ┆        │\n│            ┆            ┆            ┆             ┆   ┆            ┆      ┆ els/data/i ┆        │\n│            ┆            ┆            ┆             ┆   ┆            ┆      ┆ nputs/data ┆        │\n│            ┆            ┆            ┆             ┆   ┆            ┆      ┆ sets/ATMP/ ┆        │\n│            ┆            ┆            ┆             ┆   ┆            ┆      ┆ papers/10. ┆        │\n│            ┆            ┆            ┆             ┆   ┆            ┆      ┆ 1038/mtm.2 ┆        │\n│            ┆            ┆            ┆             ┆   ┆            ┆      ┆ 013.11.pdf ┆        │\n│ 87         ┆ Inflammato ┆ Modulation ┆ Cell        ┆ … ┆ Yang, FY   ┆ 2018 ┆ /home/anto ┆ true   │\n│            ┆ ry bowel   ┆ of immune  ┆ therapy     ┆   ┆            ┆      ┆ nkulaga/so ┆        │\n│            ┆ disease    ┆ response   ┆             ┆   ┆            ┆      ┆ urces/non- ┆        │\n│            ┆            ┆            ┆             ┆   ┆            ┆      ┆ animal-mod ┆        │\n│            ┆            ┆            ┆             ┆   ┆            ┆      ┆ els/data/i ┆        │\n│            ┆            ┆            ┆             ┆   ┆            ┆      ┆ nputs/data ┆        │\n│            ┆            ┆            ┆             ┆   ┆            ┆      ┆ sets/ATMP/ ┆        │\n│            ┆            ┆            ┆             ┆   ┆            ┆      ┆ papers/10. ┆        │\n│            ┆            ┆            ┆             ┆   ┆            ┆      ┆ 1177/09636 ┆        │\n│            ┆            ┆            ┆             ┆   ┆            ┆      ┆ 8971878030 ┆        │\n│            ┆            ┆            ┆             ┆   ┆            ┆      ┆ 4.pdf      ┆        │\n│ 88         ┆ Skeletal   ┆ Modulation ┆ Cell        ┆ … ┆ Zhang, L   ┆ 2015 ┆ /home/anto ┆ true   │\n│            ┆            ┆ of immune  ┆ therapy     ┆   ┆            ┆      ┆ nkulaga/so ┆        │\n│            ┆            ┆ response   ┆             ┆   ┆            ┆      ┆ urces/non- ┆        │\n│            ┆            ┆            ┆             ┆   ┆            ┆      ┆ animal-mod ┆        │\n│            ┆            ┆            ┆             ┆   ┆            ┆      ┆ els/data/i ┆        │\n│            ┆            ┆            ┆             ┆   ┆            ┆      ┆ nputs/data ┆        │\n│            ┆            ┆            ┆             ┆   ┆            ┆      ┆ sets/ATMP/ ┆        │\n│            ┆            ┆            ┆             ┆   ┆            ┆      ┆ papers/10. ┆        │\n│            ┆            ┆            ┆             ┆   ┆            ┆      ┆ 1186/0717- ┆        │\n│            ┆            ┆            ┆             ┆   ┆            ┆      ┆ 6287-48-6. ┆        │\n│            ┆            ┆            ┆             ┆   ┆            ┆      ┆ pdf        ┆        │\n└────────────┴────────────┴────────────┴─────────────┴───┴────────────┴──────┴────────────┴────────┘",
      "text/html": "<div><style>\n.dataframe > thead > tr > th,\n.dataframe > tbody > tr > td {\n  text-align: right;\n}\n</style>\n<small>shape: (88, 27)</small><table border=\"1\" class=\"dataframe\"><thead><tr><th>Model number</th><th>Disease area</th><th>Study / Disease Feature</th><th>ATMP type</th><th>Category</th><th>Type</th><th>Cells</th><th>ATMP Input</th><th>Cell culture type</th><th>Cell culture dimensions</th><th>3D type</th><th>Model Cell Source 1</th><th>Model Cell Source 2</th><th>Model Cell Source 3</th><th>Biological endpoints</th><th>Throughput</th><th>Potential</th><th>Potential 2</th><th>Relevance</th><th>Status</th><th>Content</th><th>Predictive</th><th>Link to Abstract (DOI)</th><th>First Author Name</th><th>Year</th><th>path</th><th>exists</th></tr><tr><td>i64</td><td>str</td><td>str</td><td>str</td><td>str</td><td>str</td><td>str</td><td>str</td><td>str</td><td>str</td><td>str</td><td>str</td><td>str</td><td>str</td><td>str</td><td>str</td><td>str</td><td>str</td><td>str</td><td>str</td><td>str</td><td>str</td><td>str</td><td>str</td><td>i64</td><td>object</td><td>bool</td></tr></thead><tbody><tr><td>1</td><td>&quot;Cardiovascular&quot;</td><td>&quot;Immunogenic properties&quot;</td><td>&quot;Tissue engineering&quot;</td><td>&quot;In vitro&quot;</td><td>&quot;Cells&quot;</td><td>&quot;Primary cell culture&quot;</td><td>&quot;ECM&quot;</td><td>&quot;Co-culture&quot;</td><td>&quot;3D&quot;</td><td>&quot;Scaffolds&quot;</td><td>&quot;T cells&quot;</td><td>&quot;Macrophages&quot;</td><td>&quot;Monocytes&quot;</td><td>&quot;Proliferation, cytokines production and immune activation&quot;</td><td>&quot;Low&quot;</td><td>&quot;Therapy development&quot;</td><td>&quot;Yes&quot;</td><td>&quot;Direct&quot;</td><td>&quot;In research use&quot;</td><td>&quot;Low&quot;</td><td>&quot;n/a&quot;</td><td>&quot;10.3390/ijms19041032&quot;</td><td>&quot;Becker, M&quot;</td><td>2018</td><td>/home/antonkulaga/sources/non-animal-models/data/inputs/datasets/ATMP/papers/10.3390/ijms19041032.pdf</td><td>true</td></tr><tr><td>2</td><td>&quot;Allotransplantation&quot;</td><td>&quot;Immune response mechanism&quot;</td><td>&quot;Cell therapy&quot;</td><td>&quot;In vitro&quot;</td><td>&quot;Cells&quot;</td><td>&quot;Primary cell culture&quot;</td><td>&quot;CTL&quot;</td><td>&quot;Co-culture&quot;</td><td>&quot;2D&quot;</td><td>&quot;n/a&quot;</td><td>&quot;T cells&quot;</td><td>&quot;n/a&quot;</td><td>&quot;n/a&quot;</td><td>&quot;MLR&quot;</td><td>&quot;High&quot;</td><td>&quot;Therapy development / mechanism of action&quot;</td><td>&quot;n/a&quot;</td><td>&quot;Direct&quot;</td><td>&quot;In research use&quot;</td><td>&quot;Low&quot;</td><td>&quot;Yes&quot;</td><td>&quot;10.3389/fimmu.2016.00584&quot;</td><td>&quot;Bettens, F&quot;</td><td>2016</td><td>/home/antonkulaga/sources/non-animal-models/data/inputs/datasets/ATMP/papers/10.3389/fimmu.2016.00584.pdf</td><td>true</td></tr><tr><td>3</td><td>&quot;Cardiovascular&quot;</td><td>&quot;Immune response mechanism&quot;</td><td>&quot;Cell therapy&quot;</td><td>&quot;In vitro&quot;</td><td>&quot;Cells&quot;</td><td>&quot;Primary cell culture&quot;</td><td>&quot;Cardiac SCs&quot;</td><td>&quot;Co-culture&quot;</td><td>&quot;2D&quot;</td><td>&quot;n/a&quot;</td><td>&quot;NKs&quot;</td><td>&quot;n/a&quot;</td><td>&quot;n/a&quot;</td><td>&quot;Cytotoxicity, degranulation and cytokine levels&quot;</td><td>&quot;Low&quot;</td><td>&quot;Therapy development / mechanism of action&quot;</td><td>&quot;Yes&quot;</td><td>&quot;Direct&quot;</td><td>&quot;In research use&quot;</td><td>&quot;Low&quot;</td><td>&quot;Yes&quot;</td><td>&quot;10.1093/cvr/cvu208&quot;</td><td>&quot;Boukouaci, W&quot;</td><td>2014</td><td>/home/antonkulaga/sources/non-animal-models/data/inputs/datasets/ATMP/papers/10.1093/cvr/cvu208.pdf</td><td>true</td></tr><tr><td>4</td><td>&quot;Liver disease&quot;</td><td>&quot;Immunogenic properties&quot;</td><td>&quot;Cell therapy&quot;</td><td>&quot;In vitro&quot;</td><td>&quot;Cells&quot;</td><td>&quot;Primary cell culture&quot;</td><td>&quot;Liver SCs&quot;</td><td>&quot;Co-culture&quot;</td><td>&quot;2D&quot;</td><td>&quot;n/a&quot;</td><td>&quot;T cells&quot;</td><td>&quot;NKs&quot;</td><td>&quot;n/a&quot;</td><td>&quot;T cell proliferation, NK degranulation, DC differentiation&quot;</td><td>&quot;Low&quot;</td><td>&quot;Therapy development&quot;</td><td>&quot;Yes&quot;</td><td>&quot;Direct&quot;</td><td>&quot;In research use&quot;</td><td>&quot;Low&quot;</td><td>&quot;Yes&quot;</td><td>&quot;10.1155/2016/8468549&quot;</td><td>&quot;Bruno, S&quot;</td><td>2016</td><td>/home/antonkulaga/sources/non-animal-models/data/inputs/datasets/ATMP/papers/10.1155/2016/8468549.pdf</td><td>true</td></tr><tr><td>5</td><td>&quot;Wound healing&quot;</td><td>&quot;Immune cells profiling&quot;</td><td>&quot;Cell therapy&quot;</td><td>&quot;In vitro&quot;</td><td>&quot;Cells&quot;</td><td>&quot;Primary cell culture&quot;</td><td>&quot;UC-lining epithelial cells&quot;</td><td>&quot;Co-culture&quot;</td><td>&quot;2D&quot;</td><td>&quot;n/a&quot;</td><td>&quot;Lymphocytes&quot;</td><td>&quot;n/a&quot;</td><td>&quot;n/a&quot;</td><td>&quot;MLR&quot;</td><td>&quot;Low&quot;</td><td>&quot;Therapy development&quot;</td><td>&quot;No&quot;</td><td>&quot;Direct&quot;</td><td>&quot;In research use&quot;</td><td>&quot;Low&quot;</td><td>&quot;n/a&quot;</td><td>&quot;10.1016/j.jcyt.2013.10.008&quot;</td><td>&quot;Cai, YJ&quot;</td><td>2014</td><td>/home/antonkulaga/sources/non-animal-models/data/inputs/datasets/ATMP/papers/10.1016/j.jcyt.2013.10.008.pdf</td><td>true</td></tr><tr><td>6</td><td>&quot;Broad&quot;</td><td>&quot;Modulation of immune response&quot;</td><td>&quot;Cell therapy&quot;</td><td>&quot;In vitro&quot;</td><td>&quot;Cells&quot;</td><td>&quot;Primary cell culture&quot;</td><td>&quot;UC-MSCs&quot;</td><td>&quot;Co-culture&quot;</td><td>&quot;2D&quot;</td><td>&quot;n/a&quot;</td><td>&quot;NKs&quot;</td><td>&quot;n/a&quot;</td><td>&quot;n/a&quot;</td><td>&quot;IFN-γ, T-bet, IL12R, IL18R, pSTAT4, NF-κB&quot;</td><td>&quot;Low&quot;</td><td>&quot;Therapy development&quot;</td><td>&quot;Yes&quot;</td><td>&quot;Direct&quot;</td><td>&quot;In research use&quot;</td><td>&quot;Low&quot;</td><td>&quot;Yes&quot;</td><td>&quot;10.3389/fimmu.2014.00662&quot;</td><td>&quot;Chatterjee, D&quot;</td><td>2014</td><td>/home/antonkulaga/sources/non-animal-models/data/inputs/datasets/ATMP/papers/10.3389/fimmu.2014.00662.pdf</td><td>true</td></tr><tr><td>7</td><td>&quot;Trauma&quot;</td><td>&quot;Regeneration strategy&quot;</td><td>&quot;Cell therapy&quot;</td><td>&quot;In vitro&quot;</td><td>&quot;Cells&quot;</td><td>&quot;Primary cell culture&quot;</td><td>&quot;BM-MSCs / AT-MSCs&quot;</td><td>&quot;Co-culture&quot;</td><td>&quot;2D&quot;</td><td>&quot;n/a&quot;</td><td>&quot;Platelet-poor plasma&quot;</td><td>&quot;Whole blood&quot;</td><td>&quot;n/a&quot;</td><td>&quot;Procoagulant activity&quot;</td><td>&quot;Low&quot;</td><td>&quot;Therapy development / mechanism of action&quot;</td><td>&quot;Yes&quot;</td><td>&quot;Direct&quot;</td><td>&quot;In research use&quot;</td><td>&quot;Low&quot;</td><td>&quot;Yes&quot;</td><td>&quot;10.1097/TA.0000000000001485&quot;</td><td>&quot;Christy, BA&quot;</td><td>2017</td><td>/home/antonkulaga/sources/non-animal-models/data/inputs/datasets/ATMP/papers/10.1097/TA.0000000000001485.pdf</td><td>true</td></tr><tr><td>8</td><td>&quot;Wound healing&quot;</td><td>&quot;Regeneration strategy&quot;</td><td>&quot;Cell therapy&quot;</td><td>&quot;In vitro&quot;</td><td>&quot;Cells&quot;</td><td>&quot;Primary cell culture&quot;</td><td>&quot;Menstrual SCs&quot;</td><td>&quot;Co-culture&quot;</td><td>&quot;2D&quot;</td><td>&quot;n/a&quot;</td><td>&quot;PBMCs&quot;</td><td>&quot;n/a&quot;</td><td>&quot;n/a&quot;</td><td>&quot;T cell proliferation&quot;</td><td>&quot;Low&quot;</td><td>&quot;Therapy development&quot;</td><td>&quot;Yes&quot;</td><td>&quot;Direct&quot;</td><td>&quot;In research use&quot;</td><td>&quot;Low&quot;</td><td>&quot;Yes&quot;</td><td>&quot;10.3389/fphys.2018.00464&quot;</td><td>&quot;Cuenca, J&quot;</td><td>2018</td><td>/home/antonkulaga/sources/non-animal-models/data/inputs/datasets/ATMP/papers/10.3389/fphys.2018.00464.pdf</td><td>true</td></tr><tr><td>9</td><td>&quot;Skeletal&quot;</td><td>&quot;Modulation of immune response&quot;</td><td>&quot;Gene / Cell therapy&quot;</td><td>&quot;In vitro&quot;</td><td>&quot;Cells&quot;</td><td>&quot;Primary cell culture&quot;</td><td>&quot;BM-MSCs&quot;</td><td>&quot;Co-culture&quot;</td><td>&quot;2D&quot;</td><td>&quot;n/a&quot;</td><td>&quot;PBMCs&quot;</td><td>&quot;n/a&quot;</td><td>&quot;n/a&quot;</td><td>&quot;T lymphocyte proliferation and IL2 and IFN-γ&quot;</td><td>&quot;Low&quot;</td><td>&quot;Therapy development&quot;</td><td>&quot;Yes&quot;</td><td>&quot;Direct&quot;</td><td>&quot;In research use&quot;</td><td>&quot;Low&quot;</td><td>&quot;Yes&quot;</td><td>&quot;10.1590/1414-431X20154209&quot;</td><td>&quot;Dai, F&quot;</td><td>2015</td><td>/home/antonkulaga/sources/non-animal-models/data/inputs/datasets/ATMP/papers/10.1590/1414-431X20154209.pdf</td><td>true</td></tr><tr><td>10</td><td>&quot;Skin&quot;</td><td>&quot;Modulation of immune response&quot;</td><td>&quot;Cell therapy&quot;</td><td>&quot;In vitro&quot;</td><td>&quot;Cells&quot;</td><td>&quot;Primary cell culture&quot;</td><td>&quot;Skin‐derived precursors&quot;</td><td>&quot;Co-culture&quot;</td><td>&quot;2D&quot;</td><td>&quot;n/a&quot;</td><td>&quot;T cells&quot;</td><td>&quot;PBMCs&quot;</td><td>&quot;n/a&quot;</td><td>&quot;MLR, PBMC proliferation, IL10, IFN-γ, LIF, PGE2&quot;</td><td>&quot;Low&quot;</td><td>&quot;Therapy development&quot;</td><td>&quot;Yes&quot;</td><td>&quot;Direct&quot;</td><td>&quot;In research use&quot;</td><td>&quot;Low&quot;</td><td>&quot;Yes&quot;</td><td>&quot;10.1002/stem.1692&quot;</td><td>&quot;De Kock, J&quot;</td><td>2014</td><td>/home/antonkulaga/sources/non-animal-models/data/inputs/datasets/ATMP/papers/10.1002/stem.1692.pdf</td><td>true</td></tr><tr><td>11</td><td>&quot;Multiple Sclerosis&quot;</td><td>&quot;Modulation of immune response&quot;</td><td>&quot;Cell therapy&quot;</td><td>&quot;In vitro&quot;</td><td>&quot;Cells&quot;</td><td>&quot;Primary cell culture&quot;</td><td>&quot;Monocytes&quot;</td><td>&quot;Co-culture&quot;</td><td>&quot;2.5D&quot;</td><td>&quot;n/a&quot;</td><td>&quot;DCs&quot;</td><td>&quot;T cells&quot;</td><td>&quot;n/a&quot;</td><td>&quot;DCs migration&quot;</td><td>&quot;Low&quot;</td><td>&quot;Therapy development&quot;</td><td>&quot;Yes&quot;</td><td>&quot;Direct&quot;</td><td>&quot;In research use&quot;</td><td>&quot;Low&quot;</td><td>&quot;No&quot;</td><td>&quot;10.3389/fimmu.2017.01964&quot;</td><td>&quot;De Laere, M&quot;</td><td>2018</td><td>/home/antonkulaga/sources/non-animal-models/data/inputs/datasets/ATMP/papers/10.3389/fimmu.2017.01964.pdf</td><td>true</td></tr><tr><td>12</td><td>&quot;Broad&quot;</td><td>&quot;Immune response mechanism&quot;</td><td>&quot;Cell therapy&quot;</td><td>&quot;In vitro&quot;</td><td>&quot;Cells&quot;</td><td>&quot;Primary cell culture&quot;</td><td>&quot;DCs&quot;</td><td>&quot;Co-culture&quot;</td><td>&quot;2D&quot;</td><td>&quot;n/a&quot;</td><td>&quot;T cells&quot;</td><td>&quot;n/a&quot;</td><td>&quot;n/a&quot;</td><td>&quot;Activation markers&quot;</td><td>&quot;Low&quot;</td><td>&quot;Therapy development&quot;</td><td>&quot;Yes&quot;</td><td>&quot;Supportive&quot;</td><td>&quot;In research use&quot;</td><td>&quot;Low&quot;</td><td>&quot;Yes&quot;</td><td>&quot;10.1016/j.imbio.2016.04.001&quot;</td><td>&quot;de Lastic, AL&quot;</td><td>2016</td><td>/home/antonkulaga/sources/non-animal-models/data/inputs/datasets/ATMP/papers/10.1016/j.imbio.2016.04.001.pdf</td><td>true</td></tr><tr><td>&hellip;</td><td>&hellip;</td><td>&hellip;</td><td>&hellip;</td><td>&hellip;</td><td>&hellip;</td><td>&hellip;</td><td>&hellip;</td><td>&hellip;</td><td>&hellip;</td><td>&hellip;</td><td>&hellip;</td><td>&hellip;</td><td>&hellip;</td><td>&hellip;</td><td>&hellip;</td><td>&hellip;</td><td>&hellip;</td><td>&hellip;</td><td>&hellip;</td><td>&hellip;</td><td>&hellip;</td><td>&hellip;</td><td>&hellip;</td><td>&hellip;</td><td>&hellip;</td><td>&hellip;</td></tr><tr><td>77</td><td>&quot;Cholangiocarcinoma&quot;</td><td>&quot;Modulation of immune response&quot;</td><td>&quot;Cell therapy&quot;</td><td>&quot;In vitro&quot;</td><td>&quot;Cells&quot;</td><td>&quot;Primary cell culture&quot;</td><td>&quot;DCs&quot;</td><td>&quot;Co-culture&quot;</td><td>&quot;2D&quot;</td><td>&quot;n/a&quot;</td><td>&quot;T cells&quot;</td><td>&quot;n/a&quot;</td><td>&quot;n/a&quot;</td><td>&quot;Cytolytic activity&quot;</td><td>&quot;Low&quot;</td><td>&quot;Therapy development&quot;</td><td>&quot;No&quot;</td><td>&quot;Supportive&quot;</td><td>&quot;In research use&quot;</td><td>&quot;Low&quot;</td><td>&quot;No&quot;</td><td>&quot;10.1080/21645515.2018.1431598&quot;</td><td>&quot;Thepmalee, C&quot;</td><td>2018</td><td>/home/antonkulaga/sources/non-animal-models/data/inputs/datasets/ATMP/papers/10.1080/21645515.2018.1431598.pdf</td><td>true</td></tr><tr><td>78</td><td>&quot;Skeletal&quot;</td><td>&quot;Immunogenic properties&quot;</td><td>&quot;Cell therapy&quot;</td><td>&quot;In vitro&quot;</td><td>&quot;Cells&quot;</td><td>&quot;Primary cell culture&quot;</td><td>&quot;Differentiated osteogenic cells&quot;</td><td>&quot;Co-culture&quot;</td><td>&quot;2D&quot;</td><td>&quot;n/a&quot;</td><td>&quot;Monocyte-derived DCs&quot;</td><td>&quot;T cells&quot;</td><td>&quot;n/a&quot;</td><td>&quot;MLR, HLA phenotyping, cytokine production&quot;</td><td>&quot;Low&quot;</td><td>&quot;Therapy development&quot;</td><td>&quot;n/a&quot;</td><td>&quot;Direct&quot;</td><td>&quot;In research use&quot;</td><td>&quot;Low&quot;</td><td>&quot;n/a&quot;</td><td>&quot;10.1155/2015/526195&quot;</td><td>&quot;Trabanelli, S&quot;</td><td>2015</td><td>/home/antonkulaga/sources/non-animal-models/data/inputs/datasets/ATMP/papers/10.1155/2015/526195.pdf</td><td>true</td></tr><tr><td>79</td><td>&quot;Broad&quot;</td><td>&quot;Immunogenic properties&quot;</td><td>&quot;Cell therapy&quot;</td><td>&quot;In vitro&quot;</td><td>&quot;Cells&quot;</td><td>&quot;Primary cell culture&quot;</td><td>&quot;BM-MSCs / AT-MSCs&quot;</td><td>&quot;Co-culture&quot;</td><td>&quot;2D&quot;</td><td>&quot;n/a&quot;</td><td>&quot;T cells&quot;</td><td>&quot;NKs and DCs&quot;</td><td>&quot;n/a&quot;</td><td>&quot;Immune cells proliferation, cytokine secretion, cytotoxic molecules&quot;</td><td>&quot;Low&quot;</td><td>&quot;Therapy qualification&quot;</td><td>&quot;Yes&quot;</td><td>&quot;Direct&quot;</td><td>&quot;In research use&quot;</td><td>&quot;Low&quot;</td><td>&quot;Yes&quot;</td><td>&quot;10.1016/j.jcyt.2016.07.006&quot;</td><td>&quot;Valencia, J&quot;</td><td>2016</td><td>/home/antonkulaga/sources/non-animal-models/data/inputs/datasets/ATMP/papers/10.1016/j.jcyt.2016.07.006.pdf</td><td>true</td></tr><tr><td>80</td><td>&quot;Cardiovascular&quot;</td><td>&quot;Immunogenic properties&quot;</td><td>&quot;Cell therapy&quot;</td><td>&quot;In vitro&quot;</td><td>&quot;Cells&quot;</td><td>&quot;Primary cell culture&quot;</td><td>&quot;BM-MSCs / Cardiomyocyte progenitor cells&quot;</td><td>&quot;Co-culture&quot;</td><td>&quot;2D&quot;</td><td>&quot;n/a&quot;</td><td>&quot;T cells&quot;</td><td>&quot;n/a&quot;</td><td>&quot;n/a&quot;</td><td>&quot;T cell proliferation, cytokine secretion&quot;</td><td>&quot;Low&quot;</td><td>&quot;Therapy development / mechanism of action&quot;</td><td>&quot;n/a&quot;</td><td>&quot;Direct&quot;</td><td>&quot;In research use&quot;</td><td>&quot;Low&quot;</td><td>&quot;Yes&quot;</td><td>&quot;10.1016/j.heliyon.2018.e00642&quot;</td><td>&quot;van den Akker, F&quot;</td><td>2018</td><td>/home/antonkulaga/sources/non-animal-models/data/inputs/datasets/ATMP/papers/10.1016/j.heliyon.2018.e00642.pdf</td><td>true</td></tr><tr><td>81</td><td>&quot;Diabetes&quot;</td><td>&quot;Immunogenic properties&quot;</td><td>&quot;Cell therapy&quot;</td><td>&quot;In vitro&quot;</td><td>&quot;Cells&quot;</td><td>&quot;Primary cell culture&quot;</td><td>&quot;ESC-derived pancreatic progenitor cells&quot;</td><td>&quot;Co-culture&quot;</td><td>&quot;2D&quot;</td><td>&quot;n/a&quot;</td><td>&quot;T cells&quot;</td><td>&quot;CTLs&quot;</td><td>&quot;n/a&quot;</td><td>&quot;Cytotoxicity and phenotyping&quot;</td><td>&quot;Low&quot;</td><td>&quot;Therapy development&quot;</td><td>&quot;Yes&quot;</td><td>&quot;Direct&quot;</td><td>&quot;In research use&quot;</td><td>&quot;Low&quot;</td><td>&quot;Yes&quot;</td><td>&quot;10.1007/s00125-015-3779-1&quot;</td><td>&quot;van der Torren, CR&quot;</td><td>2017</td><td>/home/antonkulaga/sources/non-animal-models/data/inputs/datasets/ATMP/papers/10.1007/s00125-015-3779-1.pdf</td><td>true</td></tr><tr><td>82</td><td>&quot;Diabetes&quot;</td><td>&quot;Immune cells profiling&quot;</td><td>&quot;Cell therapy&quot;</td><td>&quot;In vitro&quot;</td><td>&quot;Cells&quot;</td><td>&quot;Primary cell culture&quot;</td><td>&quot;Pancreatic beta cell lines&quot;</td><td>&quot;Co-culture&quot;</td><td>&quot;2D&quot;</td><td>&quot;n/a&quot;</td><td>&quot;NKs&quot;</td><td>&quot;CTLs&quot;</td><td>&quot;n/a&quot;</td><td>&quot;Cytotoxicity&quot;</td><td>&quot;Low&quot;</td><td>&quot;Therapy development / mechanism of action&quot;</td><td>&quot;No&quot;</td><td>&quot;Direct&quot;</td><td>&quot;In research use&quot;</td><td>&quot;Low&quot;</td><td>&quot;n/a&quot;</td><td>&quot;10.1007/s00125-016-4125-y&quot;</td><td>&quot;van der Torren, CR&quot;</td><td>2016</td><td>/home/antonkulaga/sources/non-animal-models/data/inputs/datasets/ATMP/papers/10.1007/s00125-016-4125-y.pdf</td><td>true</td></tr><tr><td>83</td><td>&quot;Allotransplantation&quot;</td><td>&quot;Immunogenicity decrease strategy&quot;</td><td>&quot;Cell therapy&quot;</td><td>&quot;In vitro&quot;</td><td>&quot;Cells&quot;</td><td>&quot;Primary cell culture&quot;</td><td>&quot;ESCs&quot;</td><td>&quot;Co-culture&quot;</td><td>&quot;2D&quot;</td><td>&quot;n/a&quot;</td><td>&quot;T cells&quot;</td><td>&quot;NKs&quot;</td><td>&quot;n/a&quot;</td><td>&quot;Cytotoxicity&quot;</td><td>&quot;Low&quot;</td><td>&quot;Therapy development / mechanism of action&quot;</td><td>&quot;Yes&quot;</td><td>&quot;Direct&quot;</td><td>&quot;In research use&quot;</td><td>&quot;Low&quot;</td><td>&quot;n/a&quot;</td><td>&quot;10.5966/sctm.2015-0049&quot;</td><td>&quot;Wang, DC&quot;</td><td>2015</td><td>/home/antonkulaga/sources/non-animal-models/data/inputs/datasets/ATMP/papers/10.5966/sctm.2015-0049.pdf</td><td>true</td></tr><tr><td>84</td><td>&quot;Diabetes&quot;</td><td>&quot;Immunogenic properties&quot;</td><td>&quot;Cell therapy&quot;</td><td>&quot;In vitro&quot;</td><td>&quot;Cells&quot;</td><td>&quot;Primary cell culture&quot;</td><td>&quot;UC-MSCs&quot;</td><td>&quot;Co-culture&quot;</td><td>&quot;2D&quot;</td><td>&quot;n/a&quot;</td><td>&quot;Lymphocytes&quot;</td><td>&quot;n/a&quot;</td><td>&quot;n/a&quot;</td><td>&quot;Lymphocyte proliferation assay&quot;</td><td>&quot;Low&quot;</td><td>&quot;Therapy development&quot;</td><td>&quot;Yes&quot;</td><td>&quot;Supportive&quot;</td><td>&quot;In research use&quot;</td><td>&quot;Low&quot;</td><td>&quot;Yes&quot;</td><td>&quot;10.3892/ijmm.2013.1572&quot;</td><td>&quot;Wang, HW&quot;</td><td>2014</td><td>/home/antonkulaga/sources/non-animal-models/data/inputs/datasets/ATMP/papers/10.3892/ijmm.2013.1572.pdf</td><td>true</td></tr><tr><td>85</td><td>&quot;Eye diseases&quot;</td><td>&quot;Immunogenic properties&quot;</td><td>&quot;Cell therapy&quot;</td><td>&quot;In vitro&quot;</td><td>&quot;Cells&quot;</td><td>&quot;Primary cell culture&quot;</td><td>&quot;ESC-derived corneal epithelial-like cells&quot;</td><td>&quot;Co-culture&quot;</td><td>&quot;2D&quot;</td><td>&quot;n/a&quot;</td><td>&quot;T cells&quot;</td><td>&quot;NKs&quot;</td><td>&quot;n/a&quot;</td><td>&quot;T lymphocyte proliferation, LDH&quot;</td><td>&quot;Low&quot;</td><td>&quot;Therapy development&quot;</td><td>&quot;Yes&quot;</td><td>&quot;Direct&quot;</td><td>&quot;In research use&quot;</td><td>&quot;Low&quot;</td><td>&quot;n/a&quot;</td><td>&quot;10.1371/journal.pone.0150731&quot;</td><td>&quot;Wang, ZY&quot;</td><td>2016</td><td>/home/antonkulaga/sources/non-animal-models/data/inputs/datasets/ATMP/papers/10.1371/journal.pone.0150731.pdf</td><td>true</td></tr><tr><td>86</td><td>&quot;AIDS&quot;</td><td>&quot;Immunotherapy&quot;</td><td>&quot;Gene therapy&quot;</td><td>&quot;In vitro&quot;</td><td>&quot;Cells&quot;</td><td>&quot;Primary cell culture / Immortalised cells&quot;</td><td>&quot;Lentivirus&quot;</td><td>&quot;Culture&quot;</td><td>&quot;2D&quot;</td><td>&quot;n/a&quot;</td><td>&quot;PBMCs&quot;</td><td>&quot;CD3+ T lymphocytes&quot;</td><td>&quot;CD34+ Hematopoietic Stem and Progenitor Cells&quot;</td><td>&quot;Inflammation response, proliferation, apoptosis&quot;</td><td>&quot;Low&quot;</td><td>&quot;Therapy development&quot;</td><td>&quot;Yes&quot;</td><td>&quot;Direct&quot;</td><td>&quot;In research use&quot;</td><td>&quot;Low&quot;</td><td>&quot;Yes&quot;</td><td>&quot;10.1038/mtm.2013.11&quot;</td><td>&quot;Wolstein, O&quot;</td><td>2014</td><td>/home/antonkulaga/sources/non-animal-models/data/inputs/datasets/ATMP/papers/10.1038/mtm.2013.11.pdf</td><td>true</td></tr><tr><td>87</td><td>&quot;Inflammatory bowel disease&quot;</td><td>&quot;Modulation of immune response&quot;</td><td>&quot;Cell therapy&quot;</td><td>&quot;In vitro&quot;</td><td>&quot;Cells&quot;</td><td>&quot;Primary cell culture&quot;</td><td>&quot;UC-MSCs&quot;</td><td>&quot;Co-culture&quot;</td><td>&quot;2D&quot;</td><td>&quot;n/a&quot;</td><td>&quot;T cells&quot;</td><td>&quot;n/a&quot;</td><td>&quot;n/a&quot;</td><td>&quot;T cell proliferation, cytokine expression&quot;</td><td>&quot;Low&quot;</td><td>&quot;Therapy development&quot;</td><td>&quot;n/a&quot;</td><td>&quot;Supportive&quot;</td><td>&quot;In research use&quot;</td><td>&quot;Low&quot;</td><td>&quot;Yes&quot;</td><td>&quot;10.1177/0963689718780304&quot;</td><td>&quot;Yang, FY&quot;</td><td>2018</td><td>/home/antonkulaga/sources/non-animal-models/data/inputs/datasets/ATMP/papers/10.1177/0963689718780304.pdf</td><td>true</td></tr><tr><td>88</td><td>&quot;Skeletal&quot;</td><td>&quot;Modulation of immune response&quot;</td><td>&quot;Cell therapy&quot;</td><td>&quot;In vitro&quot;</td><td>&quot;Cells&quot;</td><td>&quot;Primary cell culture&quot;</td><td>&quot;UC-MSCs&quot;</td><td>&quot;Co-culture&quot;</td><td>&quot;2D&quot;</td><td>&quot;n/a&quot;</td><td>&quot;PBMCs&quot;</td><td>&quot;n/a&quot;</td><td>&quot;n/a&quot;</td><td>&quot;Leukocyte proliferation, LDH&quot;</td><td>&quot;Low&quot;</td><td>&quot;Therapy development&quot;</td><td>&quot;No&quot;</td><td>&quot;Direct&quot;</td><td>&quot;In research use&quot;</td><td>&quot;Low&quot;</td><td>&quot;Yes&quot;</td><td>&quot;10.1186/0717-6287-48-6&quot;</td><td>&quot;Zhang, L&quot;</td><td>2015</td><td>/home/antonkulaga/sources/non-animal-models/data/inputs/datasets/ATMP/papers/10.1186/0717-6287-48-6.pdf</td><td>true</td></tr></tbody></table></div>"
     },
     "execution_count": 8,
     "metadata": {},
     "output_type": "execute_result"
    }
   ],
   "source": [
    "atmp.extended_models"
   ],
   "metadata": {
    "collapsed": false,
    "ExecuteTime": {
     "end_time": "2023-06-23T21:44:12.153584267Z",
     "start_time": "2023-06-23T21:44:12.147947774Z"
    }
   }
  },
  {
   "cell_type": "code",
   "execution_count": 14,
   "outputs": [
    {
     "data": {
      "text/plain": "PosixPath('/home/antonkulaga/sources/non-animal-models/data/inputs/datasets/ATMP/papers')"
     },
     "execution_count": 14,
     "metadata": {},
     "output_type": "execute_result"
    }
   ],
   "source": [
    "atmp.papers_folder"
   ],
   "metadata": {
    "collapsed": false,
    "ExecuteTime": {
     "end_time": "2023-06-23T21:16:05.830988767Z",
     "start_time": "2023-06-23T21:16:05.820932964Z"
    }
   }
  },
  {
   "cell_type": "markdown",
   "source": [
    "# CVD"
   ],
   "metadata": {
    "collapsed": false
   }
  },
  {
   "cell_type": "code",
   "execution_count": 5,
   "outputs": [
    {
     "data": {
      "text/plain": "<nam.datasets.DatasetNAM at 0x7ff798b4e170>"
     },
     "execution_count": 5,
     "metadata": {},
     "output_type": "execute_result"
    }
   ],
   "source": [
    "cvd = datasets[\"CVD\"]\n",
    "cvd"
   ],
   "metadata": {
    "collapsed": false,
    "ExecuteTime": {
     "end_time": "2023-06-22T21:56:08.350067213Z",
     "start_time": "2023-06-22T21:56:08.338405178Z"
    }
   }
  },
  {
   "cell_type": "code",
   "execution_count": null,
   "outputs": [
    {
     "name": "stderr",
     "output_type": "stream",
     "text": [
      "[INFO] | 2023/06/23 00:57:18 | Choose scihub url [0]: https://sci-hub.ru\n",
      "[INFO] | 2023/06/23 00:57:18 | <- Request: scihub_url=https://sci-hub.ru, source=DoiSource[type=doi, id=doi.org/10.1007/s10439-018-02129-5], proxies={}\n",
      "[INFO] | 2023/06/23 00:57:18 | Choose scihub url [0]: https://sci-hub.ru\n",
      "[INFO] | 2023/06/23 00:57:18 | Choose scihub url [0]: https://sci-hub.ru\n",
      "[INFO] | 2023/06/23 00:57:18 | Choose scihub url [0]: https://sci-hub.ru\n",
      "[INFO] | 2023/06/23 00:57:18 | <- Request: scihub_url=https://sci-hub.ru, source=DoiSource[type=doi, id=doi.org/10.1002/ccd.27718], proxies={}\n",
      "[INFO] | 2023/06/23 00:57:18 | Choose scihub url [0]: https://sci-hub.ru\n",
      "[INFO] | 2023/06/23 00:57:18 | Choose scihub url [0]: https://sci-hub.ru\n",
      "[INFO] | 2023/06/23 00:57:18 | Choose scihub url [0]: https://sci-hub.ru\n",
      "[INFO] | 2023/06/23 00:57:18 | <- Request: scihub_url=https://sci-hub.ru, source=DoiSource[type=doi, id=doi.org/10.1007/s10237-017-0898-2], proxies={}\n",
      "[INFO] | 2023/06/23 00:57:18 | Choose scihub url [0]: https://sci-hub.ru\n",
      "[INFO] | 2023/06/23 00:57:18 | <- Request: scihub_url=https://sci-hub.ru, source=DoiSource[type=doi, id=doi.org/10.1007/s10439-016-1778-0], proxies={}\n",
      "[INFO] | 2023/06/23 00:57:18 | <- Request: scihub_url=https://sci-hub.ru, source=DoiSource[type=doi, id=doi.org/10.1016/j.jcct.2019.11.016], proxies={}\n",
      "[INFO] | 2023/06/23 00:57:18 | <- Request: scihub_url=https://sci-hub.ru, source=DoiSource[type=doi, id=doi.org/10.1097/MAT.0000000000000443], proxies={}\n",
      "[INFO] | 2023/06/23 00:57:18 | <- Request: scihub_url=https://sci-hub.ru, source=DoiSource[type=doi, id=doi.org/10.1016/j.medengphy.2014.05.004], proxies={}\n",
      "[INFO] | 2023/06/23 00:57:18 | <- Request: scihub_url=https://sci-hub.ru, source=DoiSource[type=doi, id=doi.org/10.1161/ATVBAHA.116.308394], proxies={}\n",
      "[INFO] | 2023/06/23 00:57:19 | -> Response: status_code=200, content_length=7035\n",
      "[INFO] | 2023/06/23 00:57:19 | * Extracted information: {'url': 'https://zero.sci-hub.ru/7119/7941820aa0680d409b1b1113411da142/abbasi2018.pdf', 'title': 'A Non-Invasive Material Characterization Framework for Bioprosthetic Heart Valves. Annals of Biomedical Engineering'}\n"
     ]
    },
    {
     "name": "stdout",
     "output_type": "stream",
     "text": [
      "100% [==================================================] 3596001/3596001\n"
     ]
    },
    {
     "name": "stderr",
     "output_type": "stream",
     "text": [
      "[INFO] | 2023/06/23 00:57:20 | ↓ Successfully download the url to: /home/antonkulaga/sources/non-animal-models/data/inputs/datasets/CVD/papers/10.1007/s10439-018-02129-5.pdf\n",
      "[INFO] | 2023/06/23 00:57:20 | Choose scihub url [0]: https://sci-hub.ru\n",
      "[INFO] | 2023/06/23 00:57:20 | <- Request: scihub_url=https://sci-hub.ru, source=DoiSource[type=doi, id=doi.org/10.1007/s11936-018-0594-2], proxies={}\n",
      "[INFO] | 2023/06/23 00:57:20 | -> Response: status_code=200, content_length=7155\n",
      "[INFO] | 2023/06/23 00:57:20 | -> Response: status_code=200, content_length=7205\n",
      "[INFO] | 2023/06/23 00:57:20 | -> Response: status_code=200, content_length=7087\n",
      "[INFO] | 2023/06/23 00:57:20 | -> Response: status_code=200, content_length=6960\n",
      "[INFO] | 2023/06/23 00:57:20 | -> Response: status_code=200, content_length=7123\n",
      "[INFO] | 2023/06/23 00:57:20 | -> Response: status_code=200, content_length=7113\n",
      "[INFO] | 2023/06/23 00:57:20 | -> Response: status_code=200, content_length=7118\n",
      "[INFO] | 2023/06/23 00:57:20 | * Extracted information: {'url': 'https://zero.sci-hub.ru/6197/aca4d0d3821add87cb2629c0525abe75/albanese2016.pdf', 'title': 'Role of Noncanonical Wnt Signaling Pathway in Human Aortic Valve CalcificationHighlights. Arteriosclerosis, Thrombosis, and Vascular Biology, 37(3), 543–552'}\n",
      "[INFO] | 2023/06/23 00:57:20 | * Extracted information: {'url': 'https://sci-hub.ru/tree/e3/b6/e3b6bff4af03dd9423f976f73549ef3d.pdf', 'title': 'In vitro flow and optical coherence tomography comparison of two bailout techniques after failed provisional stenting for bifurcation percutaneous coronary interventions. Catheterization and Cardiova'}\n",
      "[INFO] | 2023/06/23 00:57:20 | * Extracted information: {'url': 'https://dacemirror.sci-hub.ru/journal-article/8def32b52270b4e193612f7c6c64a82c/alavi2016.pdf', 'title': 'A Tri-Leaflet Nitinol Mesh Scaffold for Engineering Heart Valves. Annals of Biomedical Engineering, 45(2), 413–426'}\n",
      "[INFO] | 2023/06/23 00:57:21 | * Extracted information: {'url': 'https://dacemirror.sci-hub.ru/journal-article/a927a30e0fe92a277ff2def975e2fa68/aliseda2016.pdf', 'title': ''}\n",
      "[INFO] | 2023/06/23 00:57:21 | * Extracted information: {'url': 'https://sci-hub.ru/downloads/2019-12-10/06/alharbi2019.pdf', 'title': 'Predicting the outcome of transcatheter mitral valve implantation using image-based computational models. Journal of Cardiovascular Computed Tomography'}\n",
      "[INFO] | 2023/06/23 00:57:21 | * Extracted information: {'url': 'https://moscow.sci-hub.ru/2530/c966a8923b8d9f8630f09a2caa76c4e9/annerel2014.pdf', 'title': 'Validation of a numerical FSI simulation of an aortic BMHV by in vitro PIV experiments. Medical Engineering & Physics, 36(8), 1014–1023'}\n",
      "[INFO] | 2023/06/23 00:57:21 | * Extracted information: {'url': 'https://zero.sci-hub.ru/6309/4a85248fe7cb19375738768ec4cc80f7/agujetas2017.pdf', 'title': 'Numerical and experimental analysis of the transitional flow across a real stenosis. Biomechanics and Modeling in Mechanobiology, 16(4), 1447–1458'}\n",
      "[INFO] | 2023/06/23 00:57:21 | -> Response: status_code=200, content_length=7230\n",
      "[INFO] | 2023/06/23 00:57:21 | * Extracted information: {'url': 'https://zero.sci-hub.ru/6657/c02aa4f4ba339b3ee2754a8d011a2fcb/anwar2018.pdf', 'title': '3D Printing Provides a Precise Approach in the Treatment of Tetralogy of Fallot, Pulmonary Atresia with Major Aortopulmonary Collateral Arteries. Current Treatment Options in Cardiovascular Medicine,'}\n"
     ]
    },
    {
     "name": "stdout",
     "output_type": "stream",
     "text": [
      " 73% [====================================              ] 790528/1074210\n",
      " 74% [=====================================             ] 798720/1074210"
     ]
    },
    {
     "name": "stderr",
     "output_type": "stream",
     "text": [
      "[INFO] | 2023/06/23 00:57:22 | ↓ Successfully download the url to: /home/antonkulaga/sources/non-animal-models/data/inputs/datasets/CVD/papers/10.1016/j.jcct.2019.11.016.pdf\n"
     ]
    },
    {
     "name": "stdout",
     "output_type": "stream",
     "text": [
      " 42% [=====================                             ] 761856/1774070"
     ]
    },
    {
     "name": "stderr",
     "output_type": "stream",
     "text": [
      "[INFO] | 2023/06/23 00:57:22 | Choose scihub url [0]: https://sci-hub.ru\n"
     ]
    },
    {
     "name": "stdout",
     "output_type": "stream",
     "text": [
      " 50% [=========================                         ] 897024/1776489"
     ]
    },
    {
     "name": "stderr",
     "output_type": "stream",
     "text": [
      "[INFO] | 2023/06/23 00:57:22 | <- Request: scihub_url=https://sci-hub.ru, source=DoiSource[type=doi, id=doi.org/10.1016/j.ajhg.2013.05.021], proxies={}\n"
     ]
    },
    {
     "name": "stdout",
     "output_type": "stream",
     "text": [
      " 62% [===============================                   ] 1052672/1672401\n",
      " 63% [===============================                   ] 1060864/1672401"
     ]
    },
    {
     "name": "stderr",
     "output_type": "stream",
     "text": [
      "[INFO] | 2023/06/23 00:57:22 | ↓ Successfully download the url to: /home/antonkulaga/sources/non-animal-models/data/inputs/datasets/CVD/papers/10.1161/ATVBAHA.116.308394.pdf\n"
     ]
    },
    {
     "name": "stdout",
     "output_type": "stream",
     "text": [
      " 55% [===========================                       ] 983040/17740709"
     ]
    },
    {
     "name": "stderr",
     "output_type": "stream",
     "text": [
      "[INFO] | 2023/06/23 00:57:22 | Choose scihub url [0]: https://sci-hub.ru\n"
     ]
    },
    {
     "name": "stdout",
     "output_type": "stream",
     "text": [
      "  4% [==                                                ] 331776/72858261"
     ]
    },
    {
     "name": "stderr",
     "output_type": "stream",
     "text": [
      "[INFO] | 2023/06/23 00:57:22 | <- Request: scihub_url=https://sci-hub.ru, source=DoiSource[type=doi, id=doi.org/10.1016/j.jtcvs.2016.07.081], proxies={}\n"
     ]
    },
    {
     "name": "stdout",
     "output_type": "stream",
     "text": [
      " 88% [============================================      ] 1576960/1774070\n",
      " 89% [============================================      ] 1585152/1774070"
     ]
    },
    {
     "name": "stderr",
     "output_type": "stream",
     "text": [
      "[INFO] | 2023/06/23 00:57:23 | ↓ Successfully download the url to: /home/antonkulaga/sources/non-animal-models/data/inputs/datasets/CVD/papers/10.1002/ccd.27718.pdf\n"
     ]
    },
    {
     "name": "stdout",
     "output_type": "stream",
     "text": [
      "100% [==================================================] 1776489/1776489\n",
      " 90% [=============================================     ] 1613824/1774070"
     ]
    },
    {
     "name": "stderr",
     "output_type": "stream",
     "text": [
      "[INFO] | 2023/06/23 00:57:23 | ↓ Successfully download the url to: /home/antonkulaga/sources/non-animal-models/data/inputs/datasets/CVD/papers/10.1007/s11936-018-0594-2.pdf\n"
     ]
    },
    {
     "name": "stdout",
     "output_type": "stream",
     "text": [
      "  0% [                                                  ] 20480/391672860"
     ]
    },
    {
     "name": "stderr",
     "output_type": "stream",
     "text": [
      "[INFO] | 2023/06/23 00:57:23 | Choose scihub url [0]: https://sci-hub.ru\n"
     ]
    },
    {
     "name": "stdout",
     "output_type": "stream",
     "text": [
      "  8% [====                                              ] 606208/72858260"
     ]
    },
    {
     "name": "stderr",
     "output_type": "stream",
     "text": [
      "[INFO] | 2023/06/23 00:57:23 | Choose scihub url [0]: https://sci-hub.ru\n"
     ]
    },
    {
     "name": "stdout",
     "output_type": "stream",
     "text": [
      "  8% [====                                              ] 610304/7285826"
     ]
    },
    {
     "name": "stderr",
     "output_type": "stream",
     "text": [
      "[INFO] | 2023/06/23 00:57:23 | <- Request: scihub_url=https://sci-hub.ru, source=DoiSource[type=doi, id=doi.org/10.1016/j.ijfatigue.2015.02.002], proxies={}\n"
     ]
    },
    {
     "name": "stdout",
     "output_type": "stream",
     "text": [
      "  8% [====                                              ] 618496/72858260"
     ]
    },
    {
     "name": "stderr",
     "output_type": "stream",
     "text": [
      "[INFO] | 2023/06/23 00:57:23 | <- Request: scihub_url=https://sci-hub.ru, source=DoiSource[type=doi, id=doi.org/10.1007/s10439-016-1663-x], proxies={}\n"
     ]
    },
    {
     "name": "stdout",
     "output_type": "stream",
     "text": [
      "100% [==================================================] 1774070/1774070\n"
     ]
    },
    {
     "name": "stderr",
     "output_type": "stream",
     "text": [
      "[INFO] | 2023/06/23 00:57:23 | ↓ Successfully download the url to: /home/antonkulaga/sources/non-animal-models/data/inputs/datasets/CVD/papers/10.1007/s10237-017-0898-2.pdf\n"
     ]
    },
    {
     "name": "stdout",
     "output_type": "stream",
     "text": [
      "  9% [====                                              ] 716800/7285826"
     ]
    },
    {
     "name": "stderr",
     "output_type": "stream",
     "text": [
      "[INFO] | 2023/06/23 00:57:23 | Choose scihub url [0]: https://sci-hub.ru\n",
      "[INFO] | 2023/06/23 00:57:23 | <- Request: scihub_url=https://sci-hub.ru, source=DoiSource[type=doi, id=doi.org/10.1007/s10237-016-0857-3], proxies={}\n"
     ]
    },
    {
     "name": "stdout",
     "output_type": "stream",
     "text": [
      " 26% [=============                                     ] 1900544/7285826\n",
      " 26% [=============                                     ] 1904640/7285826"
     ]
    },
    {
     "name": "stderr",
     "output_type": "stream",
     "text": [
      "[INFO] | 2023/06/23 00:57:24 | ↓ Successfully download the url to: /home/antonkulaga/sources/non-animal-models/data/inputs/datasets/CVD/papers/10.1097/MAT.0000000000000443.pdf\n"
     ]
    },
    {
     "name": "stdout",
     "output_type": "stream",
     "text": [
      " 27% [=============                                     ] 2039808/7285826"
     ]
    },
    {
     "name": "stderr",
     "output_type": "stream",
     "text": [
      "[INFO] | 2023/06/23 00:57:24 | Choose scihub url [0]: https://sci-hub.ru\n"
     ]
    },
    {
     "name": "stdout",
     "output_type": "stream",
     "text": [
      " 21% [==========                                        ] 823296/39167286"
     ]
    },
    {
     "name": "stderr",
     "output_type": "stream",
     "text": [
      "[INFO] | 2023/06/23 00:57:24 | <- Request: scihub_url=https://sci-hub.ru, source=DoiSource[type=doi, id=doi.org/10.1115/1.4027612], proxies={}\n"
     ]
    },
    {
     "name": "stdout",
     "output_type": "stream",
     "text": [
      " 96% [================================================  ] 7061504/7285826\n",
      " 96% [================================================  ] 7065600/7285826"
     ]
    },
    {
     "name": "stderr",
     "output_type": "stream",
     "text": [
      "[INFO] | 2023/06/23 00:57:26 | ↓ Successfully download the url to: /home/antonkulaga/sources/non-animal-models/data/inputs/datasets/CVD/papers/10.1016/j.medengphy.2014.05.004.pdf\n"
     ]
    },
    {
     "name": "stdout",
     "output_type": "stream",
     "text": [
      " 99% [================================================= ] 7274496/7285826"
     ]
    },
    {
     "name": "stderr",
     "output_type": "stream",
     "text": [
      "[INFO] | 2023/06/23 00:57:26 | Choose scihub url [0]: https://sci-hub.ru\n"
     ]
    },
    {
     "name": "stdout",
     "output_type": "stream",
     "text": [
      "100% [==================================================] 7285826/7285826"
     ]
    },
    {
     "name": "stderr",
     "output_type": "stream",
     "text": [
      "[INFO] | 2023/06/23 00:57:26 | <- Request: scihub_url=https://sci-hub.ru, source=DoiSource[type=doi, id=doi.org/10.1098/rsif.2017.0580], proxies={}\n"
     ]
    },
    {
     "name": "stdout",
     "output_type": "stream",
     "text": [
      "\n"
     ]
    },
    {
     "name": "stderr",
     "output_type": "stream",
     "text": [
      "[INFO] | 2023/06/23 00:57:26 | ↓ Successfully download the url to: /home/antonkulaga/sources/non-animal-models/data/inputs/datasets/CVD/papers/10.1007/s10439-016-1778-0.pdf\n",
      "[INFO] | 2023/06/23 00:57:26 | Choose scihub url [0]: https://sci-hub.ru\n",
      "[INFO] | 2023/06/23 00:57:26 | <- Request: scihub_url=https://sci-hub.ru, source=DoiSource[type=doi, id=doi.org/10.1002/ajmg.a.36783], proxies={}\n",
      "[INFO] | 2023/06/23 00:57:28 | -> Response: status_code=200, content_length=7191\n",
      "[INFO] | 2023/06/23 00:57:28 | * Extracted information: {'url': 'https://zero.sci-hub.ru/6190/3137ad826c306627fae43414ceaae52d/aycock2016.pdf', 'title': 'A resolved two-way coupled CFD 6-DOF approach for predicting embolus transport and the embolus-trapping efficiency of IVC filters. Biomechanics and Modeling in Mechanobiology, 16(3), 851–869'}\n",
      "[INFO] | 2023/06/23 00:57:28 | -> Response: status_code=200, content_length=7252\n",
      "[INFO] | 2023/06/23 00:57:28 | -> Response: status_code=200, content_length=7123\n",
      "[INFO] | 2023/06/23 00:57:28 | -> Response: status_code=200, content_length=7121\n",
      "[INFO] | 2023/06/23 00:57:28 | -> Response: status_code=200, content_length=7116\n",
      "[INFO] | 2023/06/23 00:57:29 | * Extracted information: {'url': 'https://zero.sci-hub.ru/6135/bc82024121ee4471b30542aba8d0cffe/aycock2016.pdf', 'title': 'The Importance of Hemorheology and Patient Anatomy on the Hemodynamics in the Inferior Vena Cava. Annals of Biomedical Engineering, 44(12), 3568–3582'}\n",
      "[INFO] | 2023/06/23 00:57:29 | * Extracted information: {'url': 'https://dacemirror.sci-hub.ru/journal-article/b5f217145705fcecd1e425b5fc51e680/ayoub2017.pdf', 'title': 'Regulation of valve interstitial cell homeostasis by mechanical deformation  implications for heart valve disease and surgical repair. Journal of The Royal Society Interface, 14(135), 20170580'}\n",
      "[INFO] | 2023/06/23 00:57:29 | -> Response: status_code=200, content_length=7229\n",
      "[INFO] | 2023/06/23 00:57:29 | -> Response: status_code=200, content_length=7179\n",
      "[INFO] | 2023/06/23 00:57:29 | -> Response: status_code=200, content_length=7157\n",
      "[INFO] | 2023/06/23 00:57:29 | * Extracted information: {'url': 'https://moscow.sci-hub.ru/2144/4764d04d66ecb518af95e29ba2f52919/aoki2013.pdf', 'title': 'Gain-of-Function Mutations in RIT1 Cause Noonan Syndrome, a RAS MAPK Pathway Syndrome. The American Journal of Human Genetics, 93(1), 173–180'}\n",
      "[INFO] | 2023/06/23 00:57:29 | * Extracted information: {'url': 'https://moscow.sci-hub.ru/3609/8decbcce26ce06862bc251e2f3d29af7/auricchio2015.pdf', 'title': 'A computational approach for the lifetime prediction of cardiovascular balloon-expandable stents. International Journal of Fatigue, 75, 69–79'}\n",
      "[INFO] | 2023/06/23 00:57:29 | * Extracted information: {'url': 'https://zero.sci-hub.ru/6056/a0dd66d200add1d53901f0ea99c0e59b/atlin2016.pdf', 'title': 'Balancing pulmonary blood flow  Theory, in\\xa0vitro measurements, and clinical correlation of systemic-to-pulmonary shunt banding. The Journal of Thoracic and Cardiovascular Surgery, 152(5), 1343–1352.e'}\n",
      "[INFO] | 2023/06/23 00:57:29 | * Extracted information: {'url': 'https://dacemirror.sci-hub.ru/journal-article/58036cc6b8e76c2d19fdac8442691002/aycock2014.pdf', 'title': 'A Computational Method for Predicting Inferior Vena Cava Filter Performance on a Patient-Specific Basis. Journal of Biomechanical Engineering, 136(8), 081003'}\n",
      "[INFO] | 2023/06/23 00:57:29 | * Extracted information: {'url': 'https://dacemirror.sci-hub.ru/journal-article/f9c7c5fee9d65421034a31056f77f4ed/baban2014.pdf', 'title': 'Identification ofTBX5mutations in a series of 94 patients with Tetralogy of Fallot. American Journal of Medical Genetics Part A, 164(12), 3100–3107'}\n"
     ]
    },
    {
     "name": "stdout",
     "output_type": "stream",
     "text": [
      " 14% [=======                                           ] 651264/4399255\n",
      "  4% [==                                                ] 385024/8263894"
     ]
    },
    {
     "name": "stderr",
     "output_type": "stream",
     "text": [
      "[INFO] | 2023/06/23 00:57:30 | ↓ Successfully download the url to: /home/antonkulaga/sources/non-animal-models/data/inputs/datasets/CVD/papers/10.1016/j.ajhg.2013.05.021.pdf\n"
     ]
    },
    {
     "name": "stdout",
     "output_type": "stream",
     "text": [
      "  7% [===                                               ] 245760/31901705"
     ]
    },
    {
     "name": "stderr",
     "output_type": "stream",
     "text": [
      "[INFO] | 2023/06/23 00:57:30 | Choose scihub url [0]: https://sci-hub.ru\n"
     ]
    },
    {
     "name": "stdout",
     "output_type": "stream",
     "text": [
      "  3% [=                                                 ] 266240/72447955"
     ]
    },
    {
     "name": "stderr",
     "output_type": "stream",
     "text": [
      "[INFO] | 2023/06/23 00:57:30 | <- Request: scihub_url=https://sci-hub.ru, source=DoiSource[type=doi, id=doi.org/10.1016/j.jcin.2017.10.049], proxies={}\n"
     ]
    },
    {
     "name": "stdout",
     "output_type": "stream",
     "text": [
      " 28% [==============                                    ] 2043904/7244795\n",
      " 86% [===========================================       ] 2789376/3226085"
     ]
    },
    {
     "name": "stderr",
     "output_type": "stream",
     "text": [
      "[INFO] | 2023/06/23 00:57:32 | ↓ Successfully download the url to: /home/antonkulaga/sources/non-animal-models/data/inputs/datasets/CVD/papers/10.1098/rsif.2017.0580.pdf\n"
     ]
    },
    {
     "name": "stdout",
     "output_type": "stream",
     "text": [
      " 47% [=======================                           ] 2183168/4552106"
     ]
    },
    {
     "name": "stderr",
     "output_type": "stream",
     "text": [
      "[INFO] | 2023/06/23 00:57:32 | Choose scihub url [0]: https://sci-hub.ru\n"
     ]
    },
    {
     "name": "stdout",
     "output_type": "stream",
     "text": [
      " 59% [=============================                     ] 2637824/4399255"
     ]
    },
    {
     "name": "stderr",
     "output_type": "stream",
     "text": [
      "[INFO] | 2023/06/23 00:57:32 | <- Request: scihub_url=https://sci-hub.ru, source=DoiSource[type=doi, id=doi.org/10.1111/jce.12514], proxies={}\n"
     ]
    },
    {
     "name": "stdout",
     "output_type": "stream",
     "text": [
      " 67% [=================================                 ] 2953216/4399255\n",
      " 31% [===============                                   ] 2637824/8263894"
     ]
    },
    {
     "name": "stderr",
     "output_type": "stream",
     "text": [
      "[INFO] | 2023/06/23 00:57:32 | ↓ Successfully download the url to: /home/antonkulaga/sources/non-animal-models/data/inputs/datasets/CVD/papers/10.1016/j.ijfatigue.2015.02.002.pdf\n"
     ]
    },
    {
     "name": "stdout",
     "output_type": "stream",
     "text": [
      " 56% [============================                      ] 2568192/4552106"
     ]
    },
    {
     "name": "stderr",
     "output_type": "stream",
     "text": [
      "[INFO] | 2023/06/23 00:57:32 | Choose scihub url [0]: https://sci-hub.ru\n"
     ]
    },
    {
     "name": "stdout",
     "output_type": "stream",
     "text": [
      " 78% [=======================================           ] 2506752/3190170"
     ]
    },
    {
     "name": "stderr",
     "output_type": "stream",
     "text": [
      "[INFO] | 2023/06/23 00:57:32 | <- Request: scihub_url=https://sci-hub.ru, source=DoiSource[type=doi, id=doi.org/10.1038/srep31262], proxies={}\n"
     ]
    },
    {
     "name": "stdout",
     "output_type": "stream",
     "text": [
      " 71% [===================================               ] 3272704/4552106\n",
      " 41% [====================                              ] 3424256/8263894"
     ]
    },
    {
     "name": "stderr",
     "output_type": "stream",
     "text": [
      "[INFO] | 2023/06/23 00:57:32 | ↓ Successfully download the url to: /home/antonkulaga/sources/non-animal-models/data/inputs/datasets/CVD/papers/10.1007/s10439-016-1663-x.pdf\n"
     ]
    },
    {
     "name": "stdout",
     "output_type": "stream",
     "text": [
      " 87% [===========================================       ] 3870720/4399255"
     ]
    },
    {
     "name": "stderr",
     "output_type": "stream",
     "text": [
      "[INFO] | 2023/06/23 00:57:32 | Choose scihub url [0]: https://sci-hub.ru\n"
     ]
    },
    {
     "name": "stdout",
     "output_type": "stream",
     "text": [
      " 88% [============================================      ] 3883008/4399255"
     ]
    },
    {
     "name": "stderr",
     "output_type": "stream",
     "text": [
      "[INFO] | 2023/06/23 00:57:32 | <- Request: scihub_url=https://sci-hub.ru, source=DoiSource[type=doi, id=doi.org/10.1007/s10237-017-0893-7], proxies={}\n"
     ]
    },
    {
     "name": "stdout",
     "output_type": "stream",
     "text": [
      "100% [==================================================] 4399255/4399255\n",
      " 86% [===========================================       ] 3948544/4552106"
     ]
    },
    {
     "name": "stderr",
     "output_type": "stream",
     "text": [
      "[INFO] | 2023/06/23 00:57:33 | ↓ Successfully download the url to: /home/antonkulaga/sources/non-animal-models/data/inputs/datasets/CVD/papers/10.1002/ajmg.a.36783.pdf\n"
     ]
    },
    {
     "name": "stdout",
     "output_type": "stream",
     "text": [
      " 89% [============================================      ] 4087808/4552106"
     ]
    },
    {
     "name": "stderr",
     "output_type": "stream",
     "text": [
      "[INFO] | 2023/06/23 00:57:33 | Choose scihub url [0]: https://sci-hub.ru\n"
     ]
    },
    {
     "name": "stdout",
     "output_type": "stream",
     "text": [
      " 51% [=========================                         ] 4255744/8263894"
     ]
    },
    {
     "name": "stderr",
     "output_type": "stream",
     "text": [
      "[INFO] | 2023/06/23 00:57:33 | <- Request: scihub_url=https://sci-hub.ru, source=DoiSource[type=doi, id=doi.org/10.1016/j.mri.2013.10.014], proxies={}\n"
     ]
    },
    {
     "name": "stdout",
     "output_type": "stream",
     "text": [
      " 62% [===============================                   ] 4562944/7244795\n",
      " 56% [============================                      ] 4681728/8263894"
     ]
    },
    {
     "name": "stderr",
     "output_type": "stream",
     "text": [
      "[INFO] | 2023/06/23 00:57:33 | ↓ Successfully download the url to: /home/antonkulaga/sources/non-animal-models/data/inputs/datasets/CVD/papers/10.1007/s10237-016-0857-3.pdf\n"
     ]
    },
    {
     "name": "stdout",
     "output_type": "stream",
     "text": [
      " 65% [================================                  ] 4739072/7244795"
     ]
    },
    {
     "name": "stderr",
     "output_type": "stream",
     "text": [
      "[INFO] | 2023/06/23 00:57:33 | Choose scihub url [0]: https://sci-hub.ru\n"
     ]
    },
    {
     "name": "stdout",
     "output_type": "stream",
     "text": [
      " 58% [=============================                     ] 4857856/8263894"
     ]
    },
    {
     "name": "stderr",
     "output_type": "stream",
     "text": [
      "[INFO] | 2023/06/23 00:57:33 | <- Request: scihub_url=https://sci-hub.ru, source=DoiSource[type=doi, id=doi.org/10.4244/EIJV11I11A251], proxies={}\n"
     ]
    },
    {
     "name": "stdout",
     "output_type": "stream",
     "text": [
      "100% [==================================================] 7244795/7244795\n"
     ]
    },
    {
     "name": "stderr",
     "output_type": "stream",
     "text": [
      "[INFO] | 2023/06/23 00:57:34 | ↓ Successfully download the url to: /home/antonkulaga/sources/non-animal-models/data/inputs/datasets/CVD/papers/10.1016/j.jtcvs.2016.07.081.pdf\n"
     ]
    },
    {
     "name": "stdout",
     "output_type": "stream",
     "text": [
      " 83% [=========================================         ] 6893568/8263894"
     ]
    },
    {
     "name": "stderr",
     "output_type": "stream",
     "text": [
      "[INFO] | 2023/06/23 00:57:34 | Choose scihub url [0]: https://sci-hub.ru\n",
      "[INFO] | 2023/06/23 00:57:34 | <- Request: scihub_url=https://sci-hub.ru, source=DoiSource[type=doi, id=doi.org/10.1016/j.jbiomech.2016.11.039], proxies={}\n"
     ]
    },
    {
     "name": "stdout",
     "output_type": "stream",
     "text": [
      "100% [==================================================] 8263894/8263894\n"
     ]
    },
    {
     "name": "stderr",
     "output_type": "stream",
     "text": [
      "[INFO] | 2023/06/23 00:57:35 | ↓ Successfully download the url to: /home/antonkulaga/sources/non-animal-models/data/inputs/datasets/CVD/papers/10.1115/1.4027612.pdf\n",
      "[INFO] | 2023/06/23 00:57:35 | Choose scihub url [0]: https://sci-hub.ru\n",
      "[INFO] | 2023/06/23 00:57:35 | <- Request: scihub_url=https://sci-hub.ru, source=DoiSource[type=doi, id=doi.org/10.1016/j.hrthm.2017.09.024], proxies={}\n",
      "[INFO] | 2023/06/23 00:57:35 | -> Response: status_code=200, content_length=5830\n",
      "[INFO] | 2023/06/23 00:57:35 | -> Response: status_code=200, content_length=7108\n",
      "[INFO] | 2023/06/23 00:57:35 | -> Response: status_code=200, content_length=7231\n",
      "[INFO] | 2023/06/23 00:57:35 | -> Response: status_code=200, content_length=7162\n",
      "[WARNING] | 2023/06/23 00:57:35 | Error occurs, task status: extracting_failed, error: No pdf tag was found in the given content with the selector: #pdf\n",
      "[INFO] | 2023/06/23 00:57:35 | Choose scihub url [1]: http://sci-hub.st\n",
      "[INFO] | 2023/06/23 00:57:35 | -> Response: status_code=200, content_length=7085\n",
      "[INFO] | 2023/06/23 00:57:35 | -> Response: status_code=200, content_length=7089\n",
      "[INFO] | 2023/06/23 00:57:35 | -> Response: status_code=200, content_length=7060\n",
      "[INFO] | 2023/06/23 00:57:35 | -> Response: status_code=200, content_length=7049\n",
      "[INFO] | 2023/06/23 00:57:35 | * Extracted information: {'url': 'https://moscow.sci-hub.ru/4075/3e0ccfdcd6ed9c3703fd49f601cbceaa/bahnson2014.pdf', 'title': 'Feasibility of Near Real-Time Lesion Assessment During Radiofrequency Catheter Ablation in Humans Using Acoustic Radiation Force Impulse Imaging. Journal of Cardiovascular Electrophysiology, n a–n a'}\n",
      "[INFO] | 2023/06/23 00:57:35 | * Extracted information: {'url': 'https://dacemirror.sci-hub.ru/journal-article/9b83e258b747a6401aed630d5b9f7fbc/benjehuda2017.pdf', 'title': ''}\n",
      "[INFO] | 2023/06/23 00:57:35 | * Extracted information: {'url': 'https://zero.sci-hub.ru/6295/5f070e69a6cf3ade5048da6b21770ef0/ballarin2017.pdf', 'title': 'Numerical modeling of hemodynamics scenarios of patient-specific coronary artery bypass grafts. Biomechanics and Modeling in Mechanobiology, 16(4), 1373–1399'}\n",
      "[INFO] | 2023/06/23 00:57:35 | * Extracted information: {'url': 'https://dacemirror.sci-hub.ru/journal-article/39a0e2b70a354723f5c66198d04df3a4/bai2016.pdf', 'title': 'Pro-arrhythmogenic effects of CACNA1C G1911R mutation in human ventricular tachycardia  insights from cardiac multi-scale models. Scientific Reports, 6(1)'}\n",
      "[INFO] | 2023/06/23 00:57:35 | <- Request: scihub_url=http://sci-hub.st, source=DoiSource[type=doi, id=doi.org/10.4244/EIJV11I11A251], proxies={}\n",
      "[INFO] | 2023/06/23 00:57:36 | * Extracted information: {'url': 'https://zero.sci-hub.ru/6654/ec0c3604f5781d5f771ceed670ed423e/bagur2018.pdf', 'title': '3-Dimensional–Printed Model for\\xa0Planning\\xa0Transcatheter Mitral Valve\\xa0Replacement. JACC  Cardiovascular Interventions, 11(8), 812–813'}\n",
      "[INFO] | 2023/06/23 00:57:36 | * Extracted information: {'url': 'https://dacemirror.sci-hub.ru/journal-article/3984486c1dd0d13a0fd34011d28a5af1/bavo2016.pdf', 'title': ''}\n",
      "[INFO] | 2023/06/23 00:57:36 | * Extracted information: {'url': 'https://zero.sci-hub.ru/2456/3ed0075e5fdc5ea2c24b632d34ebe3b3/bane2014.pdf', 'title': 'Leakage and water exchange characterization of gadofosveset in the myocardium. Magnetic Resonance Imaging, 32(3), 224–235'}\n"
     ]
    },
    {
     "name": "stdout",
     "output_type": "stream",
     "text": [
      " 13% [======                                            ] 135168/99168727"
     ]
    },
    {
     "name": "stderr",
     "output_type": "stream",
     "text": [
      "[INFO] | 2023/06/23 00:57:36 | -> Response: status_code=200, content_length=5830\n"
     ]
    },
    {
     "name": "stdout",
     "output_type": "stream",
     "text": [
      " 22% [===========                                       ] 131072/59271997"
     ]
    },
    {
     "name": "stderr",
     "output_type": "stream",
     "text": [
      "[WARNING] | 2023/06/23 00:57:36 | Error occurs, task status: extracting_failed, error: No pdf tag was found in the given content with the selector: #pdf\n"
     ]
    },
    {
     "name": "stdout",
     "output_type": "stream",
     "text": [
      " 21% [==========                                        ] 212992/99168767"
     ]
    },
    {
     "name": "stderr",
     "output_type": "stream",
     "text": [
      "[INFO] | 2023/06/23 00:57:36 | Choose scihub url [2]: http://sci-hub.se\n"
     ]
    },
    {
     "name": "stdout",
     "output_type": "stream",
     "text": [
      "  2% [=                                                 ] 249856/12270367"
     ]
    },
    {
     "name": "stderr",
     "output_type": "stream",
     "text": [
      "[INFO] | 2023/06/23 00:57:36 | <- Request: scihub_url=http://sci-hub.se, source=DoiSource[type=doi, id=doi.org/10.4244/EIJV11I11A251], proxies={}\n"
     ]
    },
    {
     "name": "stdout",
     "output_type": "stream",
     "text": [
      " 28% [==============                                    ] 618496/21454497\n",
      " 23% [===========                                       ] 278528/11879267"
     ]
    },
    {
     "name": "stderr",
     "output_type": "stream",
     "text": [
      "[INFO] | 2023/06/23 00:57:37 | ↓ Successfully download the url to: /home/antonkulaga/sources/non-animal-models/data/inputs/datasets/CVD/papers/10.1016/j.jcin.2017.10.049.pdf\n"
     ]
    },
    {
     "name": "stdout",
     "output_type": "stream",
     "text": [
      " 34% [=================                                 ] 733184/21454497"
     ]
    },
    {
     "name": "stderr",
     "output_type": "stream",
     "text": [
      "[INFO] | 2023/06/23 00:57:37 | Choose scihub url [0]: https://sci-hub.ru\n"
     ]
    },
    {
     "name": "stdout",
     "output_type": "stream",
     "text": [
      " 29% [==============                                    ] 524288/17607637"
     ]
    },
    {
     "name": "stderr",
     "output_type": "stream",
     "text": [
      "[INFO] | 2023/06/23 00:57:37 | <- Request: scihub_url=https://sci-hub.ru, source=DoiSource[type=doi, id=doi.org/10.1093/ejcts/ezt095], proxies={}\n"
     ]
    },
    {
     "name": "stdout",
     "output_type": "stream",
     "text": [
      "  8% [====                                              ] 1019904/12270367\n",
      " 41% [====================                              ] 733184/1760763"
     ]
    },
    {
     "name": "stderr",
     "output_type": "stream",
     "text": [
      "[INFO] | 2023/06/23 00:57:37 | ↓ Successfully download the url to: /home/antonkulaga/sources/non-animal-models/data/inputs/datasets/CVD/papers/10.1111/jce.12514.pdf\n"
     ]
    },
    {
     "name": "stdout",
     "output_type": "stream",
     "text": [
      " 52% [==========================                        ] 1060864/20149727"
     ]
    },
    {
     "name": "stderr",
     "output_type": "stream",
     "text": [
      "[INFO] | 2023/06/23 00:57:37 | Choose scihub url [0]: https://sci-hub.ru\n"
     ]
    },
    {
     "name": "stdout",
     "output_type": "stream",
     "text": [
      " 48% [========================                          ] 847872/176076397"
     ]
    },
    {
     "name": "stderr",
     "output_type": "stream",
     "text": [
      "[INFO] | 2023/06/23 00:57:37 | <- Request: scihub_url=https://sci-hub.ru, source=DoiSource[type=doi, id=doi.org/10.1093/ejcts/ezv295], proxies={}\n"
     ]
    },
    {
     "name": "stdout",
     "output_type": "stream",
     "text": [
      " 55% [===========================                       ] 974848/176076367"
     ]
    },
    {
     "name": "stderr",
     "output_type": "stream",
     "text": [
      "[INFO] | 2023/06/23 00:57:37 | -> Response: status_code=200, content_length=7306\n"
     ]
    },
    {
     "name": "stdout",
     "output_type": "stream",
     "text": [
      " 10% [=====                                             ] 1286144/12270367"
     ]
    },
    {
     "name": "stderr",
     "output_type": "stream",
     "text": [
      "[INFO] | 2023/06/23 00:57:37 | * Extracted information: {'url': 'https://dacemirror.sci-hub.ru/journal-article/53da0e46633a81d501ec152d7de6f914/benk2013.pdf', 'title': 'Effect of cannula position in the thoracic aorta with continuous left ventricular support  four-dimensional flow-sensitive magnetic resonance imaging in an in vitro model. European Journal of Cardio-'}\n"
     ]
    },
    {
     "name": "stdout",
     "output_type": "stream",
     "text": [
      " 13% [======                                            ] 1626112/12270367\n",
      " 75% [=====================================             ] 1323008/17607637"
     ]
    },
    {
     "name": "stderr",
     "output_type": "stream",
     "text": [
      "[INFO] | 2023/06/23 00:57:38 | ↓ Successfully download the url to: /home/antonkulaga/sources/non-animal-models/data/inputs/datasets/CVD/papers/10.1016/j.jbiomech.2016.11.039.pdf\n"
     ]
    },
    {
     "name": "stdout",
     "output_type": "stream",
     "text": [
      " 80% [========================================          ] 1417216/17607637"
     ]
    },
    {
     "name": "stderr",
     "output_type": "stream",
     "text": [
      "[INFO] | 2023/06/23 00:57:38 | Choose scihub url [0]: https://sci-hub.ru\n"
     ]
    },
    {
     "name": "stdout",
     "output_type": "stream",
     "text": [
      " 14% [=======                                           ] 1728512/12270367"
     ]
    },
    {
     "name": "stderr",
     "output_type": "stream",
     "text": [
      "[INFO] | 2023/06/23 00:57:38 | <- Request: scihub_url=https://sci-hub.ru, source=DoiSource[type=doi, id=doi.org/10.1098/rsif.2017.0327], proxies={}\n"
     ]
    },
    {
     "name": "stdout",
     "output_type": "stream",
     "text": [
      "100% [==================================================] 1760763/17607637\n",
      "\n",
      " 16% [========                                          ] 2084864/12270367"
     ]
    },
    {
     "name": "stderr",
     "output_type": "stream",
     "text": [
      "[INFO] | 2023/06/23 00:57:38 | ↓ Successfully download the url to: /home/antonkulaga/sources/non-animal-models/data/inputs/datasets/CVD/papers/10.1016/j.mri.2013.10.014.pdf\n"
     ]
    },
    {
     "name": "stdout",
     "output_type": "stream",
     "text": [
      " 92% [==============================================    ] 1974272/21454497"
     ]
    },
    {
     "name": "stderr",
     "output_type": "stream",
     "text": [
      "[INFO] | 2023/06/23 00:57:38 | ↓ Successfully download the url to: /home/antonkulaga/sources/non-animal-models/data/inputs/datasets/CVD/papers/10.1038/srep31262.pdf\n"
     ]
    },
    {
     "name": "stdout",
     "output_type": "stream",
     "text": [
      "100% [==================================================] 2145449/21454497\n",
      " 18% [=========                                         ] 2273280/12270367"
     ]
    },
    {
     "name": "stderr",
     "output_type": "stream",
     "text": [
      "[INFO] | 2023/06/23 00:57:38 | ↓ Successfully download the url to: /home/antonkulaga/sources/non-animal-models/data/inputs/datasets/CVD/papers/10.1016/j.hrthm.2017.09.024.pdf\n"
     ]
    },
    {
     "name": "stdout",
     "output_type": "stream",
     "text": [
      " 19% [=========                                         ] 2363392/12270367"
     ]
    },
    {
     "name": "stderr",
     "output_type": "stream",
     "text": [
      "[INFO] | 2023/06/23 00:57:38 | Choose scihub url [0]: https://sci-hub.ru\n"
     ]
    },
    {
     "name": "stdout",
     "output_type": "stream",
     "text": [
      " 13% [======                                            ] 151552/111518267"
     ]
    },
    {
     "name": "stderr",
     "output_type": "stream",
     "text": [
      "[INFO] | 2023/06/23 00:57:38 | <- Request: scihub_url=https://sci-hub.ru, source=DoiSource[type=doi, id=doi.org/10.1016/j.hrthm.2013.09.061], proxies={}\n"
     ]
    },
    {
     "name": "stdout",
     "output_type": "stream",
     "text": [
      " 19% [=========                                         ] 2379776/12270367"
     ]
    },
    {
     "name": "stderr",
     "output_type": "stream",
     "text": [
      "[INFO] | 2023/06/23 00:57:38 | Choose scihub url [0]: https://sci-hub.ru\n"
     ]
    },
    {
     "name": "stdout",
     "output_type": "stream",
     "text": [
      " 14% [=======                                           ] 163840/111518267"
     ]
    },
    {
     "name": "stderr",
     "output_type": "stream",
     "text": [
      "[INFO] | 2023/06/23 00:57:38 | Choose scihub url [0]: https://sci-hub.ru\n"
     ]
    },
    {
     "name": "stdout",
     "output_type": "stream",
     "text": [
      " 15% [=======                                           ] 172032/111518267"
     ]
    },
    {
     "name": "stderr",
     "output_type": "stream",
     "text": [
      "[INFO] | 2023/06/23 00:57:38 | <- Request: scihub_url=https://sci-hub.ru, source=DoiSource[type=doi, id=doi.org/10.1186/1532-429X-15-2], proxies={}\n"
     ]
    },
    {
     "name": "stdout",
     "output_type": "stream",
     "text": [
      " 16% [========                                          ] 180224/111518267"
     ]
    },
    {
     "name": "stderr",
     "output_type": "stream",
     "text": [
      "[INFO] | 2023/06/23 00:57:38 | <- Request: scihub_url=https://sci-hub.ru, source=DoiSource[type=doi, id=doi.org/10.1016/j.celrep.2015.09.025], proxies={}\n"
     ]
    },
    {
     "name": "stdout",
     "output_type": "stream",
     "text": [
      "100% [==================================================] 1115182/11151827\n"
     ]
    },
    {
     "name": "stderr",
     "output_type": "stream",
     "text": [
      "[INFO] | 2023/06/23 00:57:39 | ↓ Successfully download the url to: /home/antonkulaga/sources/non-animal-models/data/inputs/datasets/CVD/papers/10.1093/ejcts/ezt095.pdf\n"
     ]
    },
    {
     "name": "stdout",
     "output_type": "stream",
     "text": [
      " 29% [==============                                    ] 3674112/12270367"
     ]
    },
    {
     "name": "stderr",
     "output_type": "stream",
     "text": [
      "[INFO] | 2023/06/23 00:57:39 | Choose scihub url [0]: https://sci-hub.ru\n"
     ]
    },
    {
     "name": "stdout",
     "output_type": "stream",
     "text": [
      " 30% [===============                                   ] 3690496/12270367"
     ]
    },
    {
     "name": "stderr",
     "output_type": "stream",
     "text": [
      "[INFO] | 2023/06/23 00:57:39 | <- Request: scihub_url=https://sci-hub.ru, source=DoiSource[type=doi, id=doi.org/10.1016/j.jbiomech.2016.03.044], proxies={}\n"
     ]
    },
    {
     "name": "stdout",
     "output_type": "stream",
     "text": [
      "100% [==================================================] 12270367/12270367\n"
     ]
    },
    {
     "name": "stderr",
     "output_type": "stream",
     "text": [
      "[INFO] | 2023/06/23 00:57:41 | ↓ Successfully download the url to: /home/antonkulaga/sources/non-animal-models/data/inputs/datasets/CVD/papers/10.1007/s10237-017-0893-7.pdf\n",
      "[INFO] | 2023/06/23 00:57:41 | Choose scihub url [0]: https://sci-hub.ru\n",
      "[INFO] | 2023/06/23 00:57:41 | <- Request: scihub_url=https://sci-hub.ru, source=DoiSource[type=doi, id=doi.org/10.3174/ajnr.A4734], proxies={}\n",
      "[INFO] | 2023/06/23 00:57:42 | -> Response: status_code=200, content_length=5830\n",
      "[WARNING] | 2023/06/23 00:57:42 | Error occurs, task status: extracting_failed, error: No pdf tag was found in the given content with the selector: #pdf\n",
      "[INFO] | 2023/06/23 00:57:42 | Choose scihub url [3]: https://sci-hub.st\n",
      "[INFO] | 2023/06/23 00:57:42 | <- Request: scihub_url=https://sci-hub.st, source=DoiSource[type=doi, id=doi.org/10.4244/EIJV11I11A251], proxies={}\n",
      "[INFO] | 2023/06/23 00:57:42 | -> Response: status_code=200, content_length=5830\n",
      "[WARNING] | 2023/06/23 00:57:42 | Error occurs, task status: extracting_failed, error: No pdf tag was found in the given content with the selector: #pdf\n",
      "[INFO] | 2023/06/23 00:57:42 | Choose scihub url [4]: http://sci-hub.ru\n",
      "[INFO] | 2023/06/23 00:57:42 | <- Request: scihub_url=http://sci-hub.ru, source=DoiSource[type=doi, id=doi.org/10.4244/EIJV11I11A251], proxies={}\n",
      "[INFO] | 2023/06/23 00:57:42 | -> Response: status_code=200, content_length=7172\n",
      "[INFO] | 2023/06/23 00:57:42 | * Extracted information: {'url': 'https://moscow.sci-hub.ru/4598/18185d3aeab8bdb75cc92b4aa8e53150/birket2015.pdf', 'title': 'Contractile Defect Caused by Mutation in  MYBPC3  Revealed under Conditions Optimized for Human PSC-Cardiomyocyte Function. Cell Reports, 13(4), 733–745'}\n",
      "[INFO] | 2023/06/23 00:57:42 | -> Response: status_code=200, content_length=7099\n",
      "[INFO] | 2023/06/23 00:57:43 | * Extracted information: {'url': 'https://moscow.sci-hub.ru/2199/a19ad29024312ad86f63f652f2fa2923/biglino2013.pdf', 'title': 'Rapid prototyping compliant arterial phantoms for in-vitro studies and device testing. Journal of Cardiovascular Magnetic Resonance, 15(1), 2'}\n",
      "[INFO] | 2023/06/23 00:57:43 | -> Response: status_code=200, content_length=7109\n",
      "[INFO] | 2023/06/23 00:57:43 | -> Response: status_code=200, content_length=7139\n",
      "[INFO] | 2023/06/23 00:57:43 | -> Response: status_code=200, content_length=7176\n",
      "[INFO] | 2023/06/23 00:57:43 | * Extracted information: {'url': 'https://dacemirror.sci-hub.ru/journal-article/e376c50512da966a42926163285f8281/blanco2016.pdf', 'title': 'Computational modeling of blood flow steal phenomena caused by subclavian stenoses. Journal of Biomechanics, 49(9), 1593–1600'}\n",
      "[INFO] | 2023/06/23 00:57:43 | -> Response: status_code=200, content_length=7209\n",
      "[INFO] | 2023/06/23 00:57:43 | * Extracted information: {'url': 'https://moscow.sci-hub.ru/4489/310860d9a634788bf7f1cf67733a00d5/berdajs2015.pdf', 'title': 'Numerical analysis of the 3-dimensional aortic root morphology during the cardiac cycle. European Journal of Cardio-Thoracic Surgery, 49(4), 1213–1221'}\n",
      "[INFO] | 2023/06/23 00:57:43 | * Extracted information: {'url': 'https://dacemirror.sci-hub.ru/journal-article/6d3a636ede86d659f0e9611ba68b1be4/bett2013.pdf', 'title': 'Electronic “expression” of the inward rectifier in cardiocytes derived from human-induced pluripotent stem cells. Heart Rhythm, 10(12), 1903–1910'}\n",
      "[INFO] | 2023/06/23 00:57:43 | * Extracted information: {'url': 'https://dacemirror.sci-hub.ru/journal-article/d0f97dc128bc1142433e1eeccb79cc60/blankena2016.pdf', 'title': 'Thinner Regions of Intracranial Aneurysm Wall Correlate with Regions of Higher Wall Shear Stress  A 7T MRI Study. American Journal of Neuroradiology, 37(7), 1310–1317'}\n",
      "[INFO] | 2023/06/23 00:57:43 | -> Response: status_code=200, content_length=5830\n",
      "[INFO] | 2023/06/23 00:57:43 | -> Response: status_code=200, content_length=7227\n",
      "[WARNING] | 2023/06/23 00:57:43 | Error occurs, task status: extracting_failed, error: No pdf tag was found in the given content with the selector: #pdf\n",
      "[INFO] | 2023/06/23 00:57:43 | Choose scihub url [5]: https://sci-hub.se\n",
      "[INFO] | 2023/06/23 00:57:43 | <- Request: scihub_url=https://sci-hub.se, source=DoiSource[type=doi, id=doi.org/10.4244/EIJV11I11A251], proxies={}\n",
      "[INFO] | 2023/06/23 00:57:43 | * Extracted information: {'url': 'https://zero.sci-hub.ru/6579/c188a32185f22e73c1e3f05655dfb84c/bersi2017.pdf', 'title': 'Differential cell-matrix mechanoadaptations and inflammation drive regional propensities to aortic fibrosis, aneurysm or dissection in hypertension. Journal of The Royal Society Interface, 14(136), 2'}\n"
     ]
    },
    {
     "name": "stdout",
     "output_type": "stream",
     "text": [
      "  6% [===                                               ] 147456/2310526"
     ]
    },
    {
     "name": "stderr",
     "output_type": "stream",
     "text": [
      "[INFO] | 2023/06/23 00:57:43 | -> Response: status_code=200, content_length=5830\n"
     ]
    },
    {
     "name": "stdout",
     "output_type": "stream",
     "text": [
      " 73% [====================================              ] 327680/4478946"
     ]
    },
    {
     "name": "stderr",
     "output_type": "stream",
     "text": [
      "[WARNING] | 2023/06/23 00:57:43 | Error occurs, task status: extracting_failed, error: No pdf tag was found in the given content with the selector: #pdf\n"
     ]
    },
    {
     "name": "stdout",
     "output_type": "stream",
     "text": [
      " 74% [=====================================             ] 331776/4478948"
     ]
    },
    {
     "name": "stderr",
     "output_type": "stream",
     "text": [
      "[ERROR] | 2023/06/23 00:57:43 | Failed to download the paper: https://doi.org/10.4244/EIJV11I11A251. Please try again.\n"
     ]
    },
    {
     "name": "stdout",
     "output_type": "stream",
     "text": [
      "  4% [==                                                ] 53248/11353434"
     ]
    },
    {
     "name": "stderr",
     "output_type": "stream",
     "text": [
      "[INFO] | 2023/06/23 00:57:43 | Choose scihub url [0]: https://sci-hub.ru\n"
     ]
    },
    {
     "name": "stdout",
     "output_type": "stream",
     "text": [
      "  1% [                                                  ] 12288/86850638"
     ]
    },
    {
     "name": "stderr",
     "output_type": "stream",
     "text": [
      "[INFO] | 2023/06/23 00:57:43 | <- Request: scihub_url=https://sci-hub.ru, source=DoiSource[type=doi, id=doi.org/10.1093/toxsci/kfw200], proxies={}\n"
     ]
    },
    {
     "name": "stdout",
     "output_type": "stream",
     "text": [
      " 10% [=====                                             ] 188416/1765184\n",
      " 31% [===============                                   ] 442368/1421268"
     ]
    },
    {
     "name": "stderr",
     "output_type": "stream",
     "text": [
      "[INFO] | 2023/06/23 00:57:43 | ↓ Successfully download the url to: /home/antonkulaga/sources/non-animal-models/data/inputs/datasets/CVD/papers/10.1186/1532-429X-15-2.pdf\n"
     ]
    },
    {
     "name": "stdout",
     "output_type": "stream",
     "text": [
      " 16% [========                                          ] 184320/1135343"
     ]
    },
    {
     "name": "stderr",
     "output_type": "stream",
     "text": [
      "[INFO] | 2023/06/23 00:57:44 | Choose scihub url [0]: https://sci-hub.ru\n"
     ]
    },
    {
     "name": "stdout",
     "output_type": "stream",
     "text": [
      " 14% [=======                                           ] 262144/1765184"
     ]
    },
    {
     "name": "stderr",
     "output_type": "stream",
     "text": [
      "[INFO] | 2023/06/23 00:57:44 | <- Request: scihub_url=https://sci-hub.ru, source=DoiSource[type=doi, id=doi.org/10.1007/s10439-016-1734-z], proxies={}\n"
     ]
    },
    {
     "name": "stdout",
     "output_type": "stream",
     "text": [
      " 48% [========================                          ] 417792/8685064"
     ]
    },
    {
     "name": "stderr",
     "output_type": "stream",
     "text": [
      "[INFO] | 2023/06/23 00:57:44 | -> Response: status_code=200, content_length=7136\n"
     ]
    },
    {
     "name": "stdout",
     "output_type": "stream",
     "text": [
      " 57% [============================                      ] 823296/1421268"
     ]
    },
    {
     "name": "stderr",
     "output_type": "stream",
     "text": [
      "[INFO] | 2023/06/23 00:57:44 | * Extracted information: {'url': 'https://dacemirror.sci-hub.ru/journal-article/06e3661bf91573573441fde724b655cd/bloodworth2016.pdf', 'title': 'Ex Vivo Methods for Informing Computational Models of the Mitral Valve. Annals of Biomedical Engineering, 45(2), 496–507'}\n"
     ]
    },
    {
     "name": "stdout",
     "output_type": "stream",
     "text": [
      " 76% [======================================            ] 1085440/1421268"
     ]
    },
    {
     "name": "stderr",
     "output_type": "stream",
     "text": [
      "[INFO] | 2023/06/23 00:57:44 | -> Response: status_code=200, content_length=7207\n"
     ]
    },
    {
     "name": "stdout",
     "output_type": "stream",
     "text": [
      " 77% [======================================            ] 1097728/1421268"
     ]
    },
    {
     "name": "stderr",
     "output_type": "stream",
     "text": [
      "[INFO] | 2023/06/23 00:57:44 | * Extracted information: {'url': 'https://zero.sci-hub.ru/6057/45b5d15785a049a189c9d98bb3668bcf/blinova2016.pdf', 'title': 'Comprehensive Translational Assessment of Human-Induced Pluripotent Stem Cell Derived Cardiomyocytes for Evaluating Drug-Induced Arrhythmias. Toxicological Sciences, 155(1), 234–247'}\n"
     ]
    },
    {
     "name": "stdout",
     "output_type": "stream",
     "text": [
      " 86% [===========================================       ] 1232896/1421268\n",
      " 95% [===============================================   ] 831488/86850668"
     ]
    },
    {
     "name": "stderr",
     "output_type": "stream",
     "text": [
      "[INFO] | 2023/06/23 00:57:44 | ↓ Successfully download the url to: /home/antonkulaga/sources/non-animal-models/data/inputs/datasets/CVD/papers/10.1016/j.hrthm.2013.09.061.pdf\n"
     ]
    },
    {
     "name": "stdout",
     "output_type": "stream",
     "text": [
      " 60% [==============================                    ] 1060864/1765184\n",
      " 90% [=============================================     ] 1290240/1421268"
     ]
    },
    {
     "name": "stderr",
     "output_type": "stream",
     "text": [
      "[INFO] | 2023/06/23 00:57:45 | ↓ Successfully download the url to: /home/antonkulaga/sources/non-animal-models/data/inputs/datasets/CVD/papers/10.1016/j.jbiomech.2016.03.044.pdf\n"
     ]
    },
    {
     "name": "stdout",
     "output_type": "stream",
     "text": [
      " 95% [===============================================   ] 1359872/1421268"
     ]
    },
    {
     "name": "stderr",
     "output_type": "stream",
     "text": [
      "[INFO] | 2023/06/23 00:57:45 | Choose scihub url [0]: https://sci-hub.ru\n"
     ]
    },
    {
     "name": "stdout",
     "output_type": "stream",
     "text": [
      " 55% [===========================                       ] 1290240/2310526"
     ]
    },
    {
     "name": "stderr",
     "output_type": "stream",
     "text": [
      "[INFO] | 2023/06/23 00:57:45 | <- Request: scihub_url=https://sci-hub.ru, source=DoiSource[type=doi, id=doi.org/10.1007/s13239-018-00387-x], proxies={}\n"
     ]
    },
    {
     "name": "stdout",
     "output_type": "stream",
     "text": [
      " 96% [================================================  ] 1376256/1421268"
     ]
    },
    {
     "name": "stderr",
     "output_type": "stream",
     "text": [
      "[INFO] | 2023/06/23 00:57:45 | Choose scihub url [0]: https://sci-hub.ru\n"
     ]
    },
    {
     "name": "stdout",
     "output_type": "stream",
     "text": [
      "  2% [=                                                 ] 167936/69968483"
     ]
    },
    {
     "name": "stderr",
     "output_type": "stream",
     "text": [
      "[INFO] | 2023/06/23 00:57:45 | <- Request: scihub_url=https://sci-hub.ru, source=DoiSource[type=doi, id=doi.org/10.1007/s10237-015-0679-8], proxies={}\n"
     ]
    },
    {
     "name": "stdout",
     "output_type": "stream",
     "text": [
      " 58% [=============================                     ] 1343488/2310526\n",
      "  2% [=                                                 ] 208896/69968483"
     ]
    },
    {
     "name": "stderr",
     "output_type": "stream",
     "text": [
      "[INFO] | 2023/06/23 00:57:45 | ↓ Successfully download the url to: /home/antonkulaga/sources/non-animal-models/data/inputs/datasets/CVD/papers/10.1093/ejcts/ezv295.pdf\n"
     ]
    },
    {
     "name": "stdout",
     "output_type": "stream",
     "text": [
      "  3% [=                                                 ] 262144/69968484\n",
      " 72% [====================================              ] 1273856/1765184"
     ]
    },
    {
     "name": "stderr",
     "output_type": "stream",
     "text": [
      "[INFO] | 2023/06/23 00:57:45 | ↓ Successfully download the url to: /home/antonkulaga/sources/non-animal-models/data/inputs/datasets/CVD/papers/10.1098/rsif.2017.0327.pdf\n"
     ]
    },
    {
     "name": "stdout",
     "output_type": "stream",
     "text": [
      "  4% [==                                                ] 311296/69968484"
     ]
    },
    {
     "name": "stderr",
     "output_type": "stream",
     "text": [
      "[INFO] | 2023/06/23 00:57:45 | Choose scihub url [0]: https://sci-hub.ru\n"
     ]
    },
    {
     "name": "stdout",
     "output_type": "stream",
     "text": [
      " 63% [===============================                   ] 1474560/2310526"
     ]
    },
    {
     "name": "stderr",
     "output_type": "stream",
     "text": [
      "[INFO] | 2023/06/23 00:57:45 | <- Request: scihub_url=https://sci-hub.ru, source=DoiSource[type=doi, id=doi.org/10.1161/CIRCULATIONAHA.115.016757], proxies={}\n"
     ]
    },
    {
     "name": "stdout",
     "output_type": "stream",
     "text": [
      " 12% [======                                            ] 282624/23384086"
     ]
    },
    {
     "name": "stderr",
     "output_type": "stream",
     "text": [
      "[INFO] | 2023/06/23 00:57:45 | Choose scihub url [0]: https://sci-hub.ru\n"
     ]
    },
    {
     "name": "stdout",
     "output_type": "stream",
     "text": [
      "  4% [==                                                ] 348160/69968484"
     ]
    },
    {
     "name": "stderr",
     "output_type": "stream",
     "text": [
      "[INFO] | 2023/06/23 00:57:45 | <- Request: scihub_url=https://sci-hub.ru, source=DoiSource[type=doi, id=doi.org/10.1007/s10439-017-1828-2], proxies={}\n"
     ]
    },
    {
     "name": "stdout",
     "output_type": "stream",
     "text": [
      " 66% [=================================                 ] 1540096/2310526"
     ]
    },
    {
     "name": "stderr",
     "output_type": "stream",
     "text": [
      "[INFO] | 2023/06/23 00:57:45 | -> Response: status_code=200, content_length=7147\n"
     ]
    },
    {
     "name": "stdout",
     "output_type": "stream",
     "text": [
      " 14% [=======                                           ] 339968/23384084"
     ]
    },
    {
     "name": "stderr",
     "output_type": "stream",
     "text": [
      "[INFO] | 2023/06/23 00:57:45 | * Extracted information: {'url': 'https://sci-hub.ru/tree/e8/90/e8909d487fe151f71c496abdc23e194d.pdf', 'title': 'Validation of Numerical Simulations of Thoracic Aorta Hemodynamics  Comparison with In Vivo Measurements and Stochastic Sensitivity Analysis. Cardiovascular Engineering and Technology'}\n"
     ]
    },
    {
     "name": "stdout",
     "output_type": "stream",
     "text": [
      " 67% [=================================                 ] 1548288/2310526"
     ]
    },
    {
     "name": "stderr",
     "output_type": "stream",
     "text": [
      "[INFO] | 2023/06/23 00:57:45 | -> Response: status_code=200, content_length=7248\n"
     ]
    },
    {
     "name": "stdout",
     "output_type": "stream",
     "text": [
      " 67% [=================================                 ] 1568768/2310526"
     ]
    },
    {
     "name": "stderr",
     "output_type": "stream",
     "text": [
      "[INFO] | 2023/06/23 00:57:45 | * Extracted information: {'url': 'https://dacemirror.sci-hub.ru/journal-article/5ebb620eaf96fb7423bf551974451a8a/bonomi2015.pdf', 'title': 'Influence of the aortic valve leaflets on the fluid-dynamics in aorta in presence of a normally functioning bicuspid valve. Biomechanics and Modeling in Mechanobiology, 14(6), 1349–1361'}\n"
     ]
    },
    {
     "name": "stdout",
     "output_type": "stream",
     "text": [
      " 86% [===========================================       ] 1531904/1765184"
     ]
    },
    {
     "name": "stderr",
     "output_type": "stream",
     "text": [
      "[INFO] | 2023/06/23 00:57:45 | -> Response: status_code=200, content_length=7236\n"
     ]
    },
    {
     "name": "stdout",
     "output_type": "stream",
     "text": [
      "  7% [===                                               ] 536576/69968486"
     ]
    },
    {
     "name": "stderr",
     "output_type": "stream",
     "text": [
      "[INFO] | 2023/06/23 00:57:45 | * Extracted information: {'url': 'https://moscow.sci-hub.ru/4371/b0cb2bc254924c6317226436f2db6145/bouchareb2015.pdf', 'title': 'Autotaxin Derived From Lipoprotein(a) and Valve Interstitial Cells Promotes Inflammation and Mineralization of the Aortic ValveCLINICAL PERSPECTIVE. Circulation, 132(8), 677–690'}\n"
     ]
    },
    {
     "name": "stdout",
     "output_type": "stream",
     "text": [
      " 21% [==========                                        ] 499712/23384086"
     ]
    },
    {
     "name": "stderr",
     "output_type": "stream",
     "text": [
      "[INFO] | 2023/06/23 00:57:45 | -> Response: status_code=200, content_length=7081\n"
     ]
    },
    {
     "name": "stdout",
     "output_type": "stream",
     "text": [
      " 22% [===========                                       ] 516096/23384084"
     ]
    },
    {
     "name": "stderr",
     "output_type": "stream",
     "text": [
      "[INFO] | 2023/06/23 00:57:45 | * Extracted information: {'url': 'https://zero.sci-hub.ru/6314/e78dbb468dd464e2c8d224638e1b3cb0/bozkurt2017.pdf', 'title': 'Design, Analysis and Testing of a Novel Mitral Valve for Transcatheter Implantation. Annals of Biomedical Engineering, 45(8), 1852–1864'}\n"
     ]
    },
    {
     "name": "stdout",
     "output_type": "stream",
     "text": [
      " 82% [=========================================         ] 1908736/2310526\n",
      " 11% [=====                                             ] 770048/69968486"
     ]
    },
    {
     "name": "stderr",
     "output_type": "stream",
     "text": [
      "[INFO] | 2023/06/23 00:57:46 | ↓ Successfully download the url to: /home/antonkulaga/sources/non-animal-models/data/inputs/datasets/CVD/papers/10.3174/ajnr.A4734.pdf\n"
     ]
    },
    {
     "name": "stdout",
     "output_type": "stream",
     "text": [
      " 12% [======                                            ] 847872/69968486"
     ]
    },
    {
     "name": "stderr",
     "output_type": "stream",
     "text": [
      "[INFO] | 2023/06/23 00:57:46 | Choose scihub url [0]: https://sci-hub.ru\n"
     ]
    },
    {
     "name": "stdout",
     "output_type": "stream",
     "text": [
      "  0% [                                                  ] 53248/605228226"
     ]
    },
    {
     "name": "stderr",
     "output_type": "stream",
     "text": [
      "[INFO] | 2023/06/23 00:57:46 | <- Request: scihub_url=https://sci-hub.ru, source=DoiSource[type=doi, id=doi.org/10.1007/s10439-015-1295-6], proxies={}\n"
     ]
    },
    {
     "name": "stdout",
     "output_type": "stream",
     "text": [
      "  9% [====                                              ] 258048/26781308\n",
      "  6% [===                                               ] 385024/60522828"
     ]
    },
    {
     "name": "stderr",
     "output_type": "stream",
     "text": [
      "[INFO] | 2023/06/23 00:57:46 | ↓ Successfully download the url to: /home/antonkulaga/sources/non-animal-models/data/inputs/datasets/CVD/papers/10.1016/j.celrep.2015.09.025.pdf\n"
     ]
    },
    {
     "name": "stdout",
     "output_type": "stream",
     "text": [
      " 14% [=======                                           ] 376832/26781308"
     ]
    },
    {
     "name": "stderr",
     "output_type": "stream",
     "text": [
      "[INFO] | 2023/06/23 00:57:46 | Choose scihub url [0]: https://sci-hub.ru\n"
     ]
    },
    {
     "name": "stdout",
     "output_type": "stream",
     "text": [
      "  9% [====                                              ] 544768/60522828"
     ]
    },
    {
     "name": "stderr",
     "output_type": "stream",
     "text": [
      "[INFO] | 2023/06/23 00:57:46 | <- Request: scihub_url=https://sci-hub.ru, source=DoiSource[type=doi, id=doi.org/10.1089/ten.tea.2015.0203], proxies={}\n"
     ]
    },
    {
     "name": "stdout",
     "output_type": "stream",
     "text": [
      " 10% [=====                                             ] 557056/51566108"
     ]
    },
    {
     "name": "stderr",
     "output_type": "stream",
     "text": [
      "[INFO] | 2023/06/23 00:57:46 | -> Response: status_code=200, content_length=7123\n"
     ]
    },
    {
     "name": "stdout",
     "output_type": "stream",
     "text": [
      " 16% [========                                          ] 778240/47917608"
     ]
    },
    {
     "name": "stderr",
     "output_type": "stream",
     "text": [
      "[INFO] | 2023/06/23 00:57:46 | * Extracted information: {'url': 'https://moscow.sci-hub.ru/3962/d47a98791d3f1e7e62ff529e11e4a486/browne2015.pdf', 'title': 'In Vivo Validation of the In Silico Predicted Pressure Drop Across an Arteriovenous Fistula. Annals of Biomedical Engineering, 43(6), 1275–1286'}\n"
     ]
    },
    {
     "name": "stdout",
     "output_type": "stream",
     "text": [
      " 23% [===========                                       ] 1110016/4791760"
     ]
    },
    {
     "name": "stderr",
     "output_type": "stream",
     "text": [
      "[INFO] | 2023/06/23 00:57:47 | -> Response: status_code=200, content_length=7142\n"
     ]
    },
    {
     "name": "stdout",
     "output_type": "stream",
     "text": [
      " 35% [=================                                 ] 962560/26781302"
     ]
    },
    {
     "name": "stderr",
     "output_type": "stream",
     "text": [
      "[INFO] | 2023/06/23 00:57:47 | * Extracted information: {'url': 'https://zero.sci-hub.ru/4716/85547e0b1c5cfb25e4442f0426d0d3b2/brugmans2016.pdf', 'title': 'Superior Tissue Evolution in Slow-Degrading Scaffolds for Valvular Tissue Engineering. Tissue Engineering Part A, 22(1-2), 123–132'}\n"
     ]
    },
    {
     "name": "stdout",
     "output_type": "stream",
     "text": [
      " 34% [=================                                 ] 262144/75998360\n",
      " 35% [=================                                 ] 2469888/6996848"
     ]
    },
    {
     "name": "stderr",
     "output_type": "stream",
     "text": [
      "[INFO] | 2023/06/23 00:57:47 | ↓ Successfully download the url to: /home/antonkulaga/sources/non-animal-models/data/inputs/datasets/CVD/papers/10.1093/toxsci/kfw200.pdf\n"
     ]
    },
    {
     "name": "stdout",
     "output_type": "stream",
     "text": [
      " 38% [===================                               ] 1822720/4791760"
     ]
    },
    {
     "name": "stderr",
     "output_type": "stream",
     "text": [
      "[INFO] | 2023/06/23 00:57:47 | Choose scihub url [0]: https://sci-hub.ru\n"
     ]
    },
    {
     "name": "stdout",
     "output_type": "stream",
     "text": [
      " 29% [==============                                    ] 1789952/6052282"
     ]
    },
    {
     "name": "stderr",
     "output_type": "stream",
     "text": [
      "[INFO] | 2023/06/23 00:57:47 | <- Request: scihub_url=https://sci-hub.ru, source=DoiSource[type=doi, id=doi.org/10.1016/j.ijcard.2015.11.106], proxies={}\n"
     ]
    },
    {
     "name": "stdout",
     "output_type": "stream",
     "text": [
      " 35% [=================                                 ] 2162688/6052282\n",
      " 42% [=====================                             ] 2998272/6996848"
     ]
    },
    {
     "name": "stderr",
     "output_type": "stream",
     "text": [
      "[INFO] | 2023/06/23 00:57:47 | ↓ Successfully download the url to: /home/antonkulaga/sources/non-animal-models/data/inputs/datasets/CVD/papers/10.1089/ten.tea.2015.0203.pdf\n"
     ]
    },
    {
     "name": "stdout",
     "output_type": "stream",
     "text": [
      " 40% [====================                              ] 2113536/5156610"
     ]
    },
    {
     "name": "stderr",
     "output_type": "stream",
     "text": [
      "[INFO] | 2023/06/23 00:57:48 | Choose scihub url [0]: https://sci-hub.ru\n"
     ]
    },
    {
     "name": "stdout",
     "output_type": "stream",
     "text": [
      " 82% [=========================================         ] 2203648/2678130"
     ]
    },
    {
     "name": "stderr",
     "output_type": "stream",
     "text": [
      "[INFO] | 2023/06/23 00:57:48 | -> Response: status_code=200, content_length=7221\n"
     ]
    },
    {
     "name": "stdout",
     "output_type": "stream",
     "text": [
      " 41% [====================                              ] 2129920/5156610"
     ]
    },
    {
     "name": "stderr",
     "output_type": "stream",
     "text": [
      "[INFO] | 2023/06/23 00:57:48 | <- Request: scihub_url=https://sci-hub.ru, source=DoiSource[type=doi, id=doi.org/10.1016/j.jbiomech.2018.08.006], proxies={}\n"
     ]
    },
    {
     "name": "stdout",
     "output_type": "stream",
     "text": [
      " 49% [========================                          ] 2363392/4791760"
     ]
    },
    {
     "name": "stderr",
     "output_type": "stream",
     "text": [
      "[INFO] | 2023/06/23 00:57:48 | * Extracted information: {'url': 'https://dacemirror.sci-hub.ru/journal-article/55625339932824c5dc1711d620ed75e2/burriesci2016.pdf', 'title': 'In vitro hemodynamic testing of Amplatzer plugs for paravalvular leak occlusion after transcatheter aortic valve implantation. International Journal of Cardiology, 203, 1093–1099'}\n"
     ]
    },
    {
     "name": "stdout",
     "output_type": "stream",
     "text": [
      " 45% [======================                            ] 2768896/6052282\n",
      " 58% [=============================                     ] 2822144/4791760"
     ]
    },
    {
     "name": "stderr",
     "output_type": "stream",
     "text": [
      "[INFO] | 2023/06/23 00:57:48 | ↓ Successfully download the url to: /home/antonkulaga/sources/non-animal-models/data/inputs/datasets/CVD/papers/10.1007/s10237-015-0679-8.pdf\n"
     ]
    },
    {
     "name": "stdout",
     "output_type": "stream",
     "text": [
      " 60% [==============================                    ] 2875392/4791760"
     ]
    },
    {
     "name": "stderr",
     "output_type": "stream",
     "text": [
      "[INFO] | 2023/06/23 00:57:48 | -> Response: status_code=200, content_length=7093\n"
     ]
    },
    {
     "name": "stdout",
     "output_type": "stream",
     "text": [
      " 60% [==============================                    ] 2891776/4791760"
     ]
    },
    {
     "name": "stderr",
     "output_type": "stream",
     "text": [
      "[INFO] | 2023/06/23 00:57:48 | * Extracted information: {'url': 'https://zero.sci-hub.ru/7063/18222f93cd461c5588c3726fc49bf4da/caimi2018.pdf', 'title': 'Prediction of stenting related adverse events through patient-specific finite element modelling. Journal of Biomechanics'}\n"
     ]
    },
    {
     "name": "stdout",
     "output_type": "stream",
     "text": [
      " 47% [=======================                           ] 2850816/6052282"
     ]
    },
    {
     "name": "stderr",
     "output_type": "stream",
     "text": [
      "[INFO] | 2023/06/23 00:57:48 | Choose scihub url [0]: https://sci-hub.ru\n"
     ]
    },
    {
     "name": "stdout",
     "output_type": "stream",
     "text": [
      " 52% [==========================                        ] 3661824/6996848"
     ]
    },
    {
     "name": "stderr",
     "output_type": "stream",
     "text": [
      "[INFO] | 2023/06/23 00:57:48 | <- Request: scihub_url=https://sci-hub.ru, source=DoiSource[type=doi, id=doi.org/10.1111/aor.12589], proxies={}\n"
     ]
    },
    {
     "name": "stdout",
     "output_type": "stream",
     "text": [
      " 73% [====================================              ] 3538944/4791760"
     ]
    },
    {
     "name": "stderr",
     "output_type": "stream",
     "text": [
      "[INFO] | 2023/06/23 00:57:48 | -> Response: status_code=200, content_length=7104\n"
     ]
    },
    {
     "name": "stdout",
     "output_type": "stream",
     "text": [
      " 61% [==============================                    ] 4313088/6996848"
     ]
    },
    {
     "name": "stderr",
     "output_type": "stream",
     "text": [
      "[INFO] | 2023/06/23 00:57:48 | * Extracted information: {'url': 'https://dacemirror.sci-hub.ru/journal-article/cc06041eeef6561551da549d4d306ace/calderan2015.pdf', 'title': 'Development of an In Vitro Model to Characterize the Effects of Transcatheter Aortic Valve on Coronary Artery Flow. Artificial Organs, 40(6), 612–619'}\n"
     ]
    },
    {
     "name": "stdout",
     "output_type": "stream",
     "text": [
      "100% [==================================================] 1378801/1378801\n",
      " 78% [=======================================           ] 4751360/6052282"
     ]
    },
    {
     "name": "stderr",
     "output_type": "stream",
     "text": [
      "[INFO] | 2023/06/23 00:57:49 | ↓ Successfully download the url to: /home/antonkulaga/sources/non-animal-models/data/inputs/datasets/CVD/papers/10.1016/j.jbiomech.2018.08.006.pdf\n"
     ]
    },
    {
     "name": "stdout",
     "output_type": "stream",
     "text": [
      " 90% [=============================================     ] 4665344/5156610\n",
      " 78% [=======================================           ] 4775936/6052282"
     ]
    },
    {
     "name": "stderr",
     "output_type": "stream",
     "text": [
      "[INFO] | 2023/06/23 00:57:49 | ↓ Successfully download the url to: /home/antonkulaga/sources/non-animal-models/data/inputs/datasets/CVD/papers/10.1007/s13239-018-00387-x.pdf\n"
     ]
    },
    {
     "name": "stdout",
     "output_type": "stream",
     "text": [
      " 95% [===============================================   ] 1245184/1305465"
     ]
    },
    {
     "name": "stderr",
     "output_type": "stream",
     "text": [
      "[INFO] | 2023/06/23 00:57:49 | Choose scihub url [0]: https://sci-hub.ru\n"
     ]
    },
    {
     "name": "stdout",
     "output_type": "stream",
     "text": [
      " 92% [==============================================    ] 4775936/5156610"
     ]
    },
    {
     "name": "stderr",
     "output_type": "stream",
     "text": [
      "[INFO] | 2023/06/23 00:57:49 | Choose scihub url [0]: https://sci-hub.ru\n"
     ]
    },
    {
     "name": "stdout",
     "output_type": "stream",
     "text": [
      " 92% [==============================================    ] 4780032/5156610"
     ]
    },
    {
     "name": "stderr",
     "output_type": "stream",
     "text": [
      "[INFO] | 2023/06/23 00:57:49 | <- Request: scihub_url=https://sci-hub.ru, source=DoiSource[type=doi, id=doi.org/10.1016/j.jbiomech.2016.11.024], proxies={}\n"
     ]
    },
    {
     "name": "stdout",
     "output_type": "stream",
     "text": [
      " 80% [========================================          ] 4882432/6052282"
     ]
    },
    {
     "name": "stderr",
     "output_type": "stream",
     "text": [
      "[INFO] | 2023/06/23 00:57:49 | <- Request: scihub_url=https://sci-hub.ru, source=DoiSource[type=doi, id=doi.org/10.1098/rsfs.2017.0021], proxies={}\n"
     ]
    },
    {
     "name": "stdout",
     "output_type": "stream",
     "text": [
      "100% [==================================================] 1305465/1305465\n",
      " 87% [===========================================       ] 450560/51417910"
     ]
    },
    {
     "name": "stderr",
     "output_type": "stream",
     "text": [
      "[INFO] | 2023/06/23 00:57:49 | ↓ Successfully download the url to: /home/antonkulaga/sources/non-animal-models/data/inputs/datasets/CVD/papers/10.1016/j.ijcard.2015.11.106.pdf\n"
     ]
    },
    {
     "name": "stdout",
     "output_type": "stream",
     "text": [
      " 83% [=========================================         ] 5832704/6996848\n",
      " 82% [=========================================         ] 5021696/6052282"
     ]
    },
    {
     "name": "stderr",
     "output_type": "stream",
     "text": [
      "[INFO] | 2023/06/23 00:57:49 | ↓ Successfully download the url to: /home/antonkulaga/sources/non-animal-models/data/inputs/datasets/CVD/papers/10.1111/aor.12589.pdf\n"
     ]
    },
    {
     "name": "stdout",
     "output_type": "stream",
     "text": [
      " 83% [=========================================         ] 5083136/6052282"
     ]
    },
    {
     "name": "stderr",
     "output_type": "stream",
     "text": [
      "[INFO] | 2023/06/23 00:57:50 | Choose scihub url [0]: https://sci-hub.ru\n",
      "[INFO] | 2023/06/23 00:57:50 | Choose scihub url [0]: https://sci-hub.ru\n"
     ]
    },
    {
     "name": "stdout",
     "output_type": "stream",
     "text": [
      " 84% [==========================================        ] 5914624/6996848"
     ]
    },
    {
     "name": "stderr",
     "output_type": "stream",
     "text": [
      "[INFO] | 2023/06/23 00:57:50 | <- Request: scihub_url=https://sci-hub.ru, source=DoiSource[type=doi, id=doi.org/10.1115/1.4040940], proxies={}\n"
     ]
    },
    {
     "name": "stdout",
     "output_type": "stream",
     "text": [
      " 84% [==========================================        ] 5103616/6052282"
     ]
    },
    {
     "name": "stderr",
     "output_type": "stream",
     "text": [
      "[INFO] | 2023/06/23 00:57:50 | <- Request: scihub_url=https://sci-hub.ru, source=DoiSource[type=doi, id=doi.org/10.1038/ki.2013.188], proxies={}\n"
     ]
    },
    {
     "name": "stdout",
     "output_type": "stream",
     "text": [
      "100% [==================================================] 5156610/5156610\n",
      " 86% [===========================================       ] 6066176/6996848"
     ]
    },
    {
     "name": "stderr",
     "output_type": "stream",
     "text": [
      "[INFO] | 2023/06/23 00:57:50 | ↓ Successfully download the url to: /home/antonkulaga/sources/non-animal-models/data/inputs/datasets/CVD/papers/10.1161/CIRCULATIONAHA.115.016757.pdf\n"
     ]
    },
    {
     "name": "stdout",
     "output_type": "stream",
     "text": [
      " 88% [============================================      ] 6160384/6996848"
     ]
    },
    {
     "name": "stderr",
     "output_type": "stream",
     "text": [
      "[INFO] | 2023/06/23 00:57:50 | Choose scihub url [0]: https://sci-hub.ru\n"
     ]
    },
    {
     "name": "stdout",
     "output_type": "stream",
     "text": [
      " 88% [============================================      ] 5349376/6052282"
     ]
    },
    {
     "name": "stderr",
     "output_type": "stream",
     "text": [
      "[INFO] | 2023/06/23 00:57:50 | <- Request: scihub_url=https://sci-hub.ru, source=DoiSource[type=doi, id=doi.org/10.1002/cnm.2700], proxies={}\n"
     ]
    },
    {
     "name": "stdout",
     "output_type": "stream",
     "text": [
      " 88% [============================================      ] 6221824/6996848"
     ]
    },
    {
     "name": "stderr",
     "output_type": "stream",
     "text": [
      "[INFO] | 2023/06/23 00:57:50 | -> Response: status_code=200, content_length=7095\n"
     ]
    },
    {
     "name": "stdout",
     "output_type": "stream",
     "text": [
      " 89% [============================================      ] 6230016/6996848"
     ]
    },
    {
     "name": "stderr",
     "output_type": "stream",
     "text": [
      "[INFO] | 2023/06/23 00:57:50 | -> Response: status_code=200, content_length=6937\n"
     ]
    },
    {
     "name": "stdout",
     "output_type": "stream",
     "text": [
      " 89% [============================================      ] 6234112/6996848"
     ]
    },
    {
     "name": "stderr",
     "output_type": "stream",
     "text": [
      "[INFO] | 2023/06/23 00:57:50 | * Extracted information: {'url': 'https://dacemirror.sci-hub.ru/journal-article/b17c451f099b970a5a4d282f3aa4cbf6/capelli2017.pdf', 'title': 'Patient-specific simulations for planning treatment in congenital heart disease. Interface Focus, 8(1), 20170021'}\n"
     ]
    },
    {
     "name": "stdout",
     "output_type": "stream",
     "text": [
      " 89% [============================================      ] 5431296/6052282"
     ]
    },
    {
     "name": "stderr",
     "output_type": "stream",
     "text": [
      "[INFO] | 2023/06/23 00:57:50 | * Extracted information: {'url': 'https://zero.sci-hub.ru/6117/943b57e43f765bea2f6108ceb6fa64d7/cao2016.pdf', 'title': ''}\n"
     ]
    },
    {
     "name": "stdout",
     "output_type": "stream",
     "text": [
      "100% [==================================================] 6052282/6052282\n",
      " 98% [================================================= ] 6860800/6996848"
     ]
    },
    {
     "name": "stderr",
     "output_type": "stream",
     "text": [
      "[INFO] | 2023/06/23 00:57:50 | ↓ Successfully download the url to: /home/antonkulaga/sources/non-animal-models/data/inputs/datasets/CVD/papers/10.1007/s10439-017-1828-2.pdf\n"
     ]
    },
    {
     "name": "stdout",
     "output_type": "stream",
     "text": [
      "100% [==================================================] 6996848/6996848\n"
     ]
    },
    {
     "name": "stderr",
     "output_type": "stream",
     "text": [
      "[INFO] | 2023/06/23 00:57:50 | ↓ Successfully download the url to: /home/antonkulaga/sources/non-animal-models/data/inputs/datasets/CVD/papers/10.1007/s10439-016-1734-z.pdf\n"
     ]
    },
    {
     "name": "stdout",
     "output_type": "stream",
     "text": [
      "  2% [=                                                 ] 28672/1282527"
     ]
    },
    {
     "name": "stderr",
     "output_type": "stream",
     "text": [
      "[INFO] | 2023/06/23 00:57:50 | Choose scihub url [0]: https://sci-hub.ru\n",
      "[INFO] | 2023/06/23 00:57:50 | <- Request: scihub_url=https://sci-hub.ru, source=DoiSource[type=doi, id=doi.org/10.1002/jbm.a.35482], proxies={}\n"
     ]
    },
    {
     "name": "stdout",
     "output_type": "stream",
     "text": [
      "  3% [=                                                 ] 45056/1282527"
     ]
    },
    {
     "name": "stderr",
     "output_type": "stream",
     "text": [
      "[INFO] | 2023/06/23 00:57:50 | Choose scihub url [0]: https://sci-hub.ru\n",
      "[INFO] | 2023/06/23 00:57:50 | <- Request: scihub_url=https://sci-hub.ru, source=DoiSource[type=doi, id=doi.org/10.1016/j.jvs.2014.03.241], proxies={}\n"
     ]
    },
    {
     "name": "stdout",
     "output_type": "stream",
     "text": [
      "100% [==================================================] 1282527/1282527\n"
     ]
    },
    {
     "name": "stderr",
     "output_type": "stream",
     "text": [
      "[INFO] | 2023/06/23 00:57:51 | ↓ Successfully download the url to: /home/antonkulaga/sources/non-animal-models/data/inputs/datasets/CVD/papers/10.1016/j.jbiomech.2016.11.024.pdf\n",
      "[INFO] | 2023/06/23 00:57:51 | Choose scihub url [0]: https://sci-hub.ru\n"
     ]
    },
    {
     "name": "stdout",
     "output_type": "stream",
     "text": [
      "  0% [                                                  ] 12288/1641663"
     ]
    },
    {
     "name": "stderr",
     "output_type": "stream",
     "text": [
      "[INFO] | 2023/06/23 00:57:51 | <- Request: scihub_url=https://sci-hub.ru, source=DoiSource[type=doi, id=doi.org/10.1016/j.biomaterials.2013.10.007], proxies={}\n"
     ]
    },
    {
     "name": "stdout",
     "output_type": "stream",
     "text": [
      "  6% [===                                               ] 106496/1641663"
     ]
    },
    {
     "name": "stderr",
     "output_type": "stream",
     "text": [
      "[INFO] | 2023/06/23 00:57:51 | -> Response: status_code=200, content_length=7134\n"
     ]
    },
    {
     "name": "stdout",
     "output_type": "stream",
     "text": [
      "  6% [===                                               ] 110592/1641663"
     ]
    },
    {
     "name": "stderr",
     "output_type": "stream",
     "text": [
      "[INFO] | 2023/06/23 00:57:51 | * Extracted information: {'url': 'https://moscow.sci-hub.ru/2628/29806281a004964ff219477685e47dbc/charlton-ouw2015.pdf', 'title': 'In\\xa0vitro efficacy of antibiotic beads in treating abdominal vascular graft infections. Journal of Vascular Surgery, 62(4), 1048–1053'}\n",
      "[INFO] | 2023/06/23 00:57:51 | -> Response: status_code=200, content_length=7325\n",
      "[INFO] | 2023/06/23 00:57:51 | -> Response: status_code=200, content_length=7194\n",
      "[INFO] | 2023/06/23 00:57:51 | * Extracted information: {'url': 'https://moscow.sci-hub.ru/3636/c155a0d51c4ac7bc657ebc04bdcee4c2/caruso2015.pdf', 'title': 'A computational fluid dynamics comparison between different outflow graft anastomosis locations of Left Ventricular Assist Device (LVAD) in a patient-specific aortic model. International Journal for'}\n",
      "[INFO] | 2023/06/23 00:57:51 | * Extracted information: {'url': 'https://moscow.sci-hub.ru/4399/0299f4b4bcd2c36b6880c57bd0136c7e/caroli2013.pdf', 'title': 'Validation of a patient-specific hemodynamic computational model for surgical planning of vascular access in hemodialysis patients. Kidney International, 84(6), 1237–1245'}\n"
     ]
    },
    {
     "name": "stdout",
     "output_type": "stream",
     "text": [
      "  7% [===                                               ] 118784/1641663"
     ]
    },
    {
     "name": "stderr",
     "output_type": "stream",
     "text": [
      "[INFO] | 2023/06/23 00:57:51 | -> Response: status_code=200, content_length=7235\n",
      "[INFO] | 2023/06/23 00:57:51 | -> Response: status_code=200, content_length=7297\n"
     ]
    },
    {
     "name": "stdout",
     "output_type": "stream",
     "text": [
      "  7% [===                                               ] 126976/1641663"
     ]
    },
    {
     "name": "stderr",
     "output_type": "stream",
     "text": [
      "[INFO] | 2023/06/23 00:57:51 | * Extracted information: {'url': 'https://dacemirror.sci-hub.ru/journal-article/28d0f80060f7e620a20dfa6fe3e47548/capellini2018.pdf', 'title': 'Computational Fluid Dynamic Study for aTAA Hemodynamics  An Integrated Image-Based and Radial Basis Functions Mesh Morphing Approach. Journal of Biomechanical Engineering, 140(11), 111007'}\n"
     ]
    },
    {
     "name": "stdout",
     "output_type": "stream",
     "text": [
      "  7% [===                                               ] 131072/1641663"
     ]
    },
    {
     "name": "stderr",
     "output_type": "stream",
     "text": [
      "[INFO] | 2023/06/23 00:57:51 | * Extracted information: {'url': 'https://zero.sci-hub.ru/5752/cf6e05a94fd7d868575038aff2621e57/castells-sala2015.pdf', 'title': 'in vitrodevelopment of bioimplants made up of elastomeric scaffolds with peptide gel filling seeded with human subcutaneous adipose tissue-derived progenitor cells. Journal of Biomedical Materials Re'}\n"
     ]
    },
    {
     "name": "stdout",
     "output_type": "stream",
     "text": [
      " 15% [=======                                           ] 262144/1641663"
     ]
    },
    {
     "name": "stderr",
     "output_type": "stream",
     "text": [
      "[INFO] | 2023/06/23 00:57:51 | -> Response: status_code=200, content_length=7172\n"
     ]
    },
    {
     "name": "stdout",
     "output_type": "stream",
     "text": [
      " 16% [========                                          ] 274432/1641663"
     ]
    },
    {
     "name": "stderr",
     "output_type": "stream",
     "text": [
      "[INFO] | 2023/06/23 00:57:51 | * Extracted information: {'url': 'https://dacemirror.sci-hub.ru/journal-article/f438f51c2fc4564a7c1c81f1559ce897/chen2014.pdf', 'title': 'Integrated platform for functional monitoring of biomimetic heart sheets derived from human pluripotent stem cells. Biomaterials, 35(2), 675–683'}\n"
     ]
    },
    {
     "name": "stdout",
     "output_type": "stream",
     "text": [
      "100% [==================================================] 1003460/1003460\n",
      " 63% [===============================                   ] 1040384/1641663"
     ]
    },
    {
     "name": "stderr",
     "output_type": "stream",
     "text": [
      "[INFO] | 2023/06/23 00:57:51 | ↓ Successfully download the url to: /home/antonkulaga/sources/non-animal-models/data/inputs/datasets/CVD/papers/10.1002/jbm.a.35482.pdf\n"
     ]
    },
    {
     "name": "stdout",
     "output_type": "stream",
     "text": [
      "  4% [==                                                ] 139264/32620703"
     ]
    },
    {
     "name": "stderr",
     "output_type": "stream",
     "text": [
      "[INFO] | 2023/06/23 00:57:52 | Choose scihub url [0]: https://sci-hub.ru\n"
     ]
    },
    {
     "name": "stdout",
     "output_type": "stream",
     "text": [
      " 68% [==================================                ] 1118208/1641663"
     ]
    },
    {
     "name": "stderr",
     "output_type": "stream",
     "text": [
      "[INFO] | 2023/06/23 00:57:52 | <- Request: scihub_url=https://sci-hub.ru, source=DoiSource[type=doi, id=doi.org/10.1039/C6TB01811D], proxies={}\n"
     ]
    },
    {
     "name": "stdout",
     "output_type": "stream",
     "text": [
      "100% [==================================================] 1641663/1641663\n",
      " 27% [=============                                     ] 212992/7618760"
     ]
    },
    {
     "name": "stderr",
     "output_type": "stream",
     "text": [
      "[INFO] | 2023/06/23 00:57:52 | ↓ Successfully download the url to: /home/antonkulaga/sources/non-animal-models/data/inputs/datasets/CVD/papers/10.1098/rsfs.2017.0021.pdf\n"
     ]
    },
    {
     "name": "stdout",
     "output_type": "stream",
     "text": [
      "  3% [=                                                 ] 131072/4278625"
     ]
    },
    {
     "name": "stderr",
     "output_type": "stream",
     "text": [
      "[INFO] | 2023/06/23 00:57:52 | -> Response: status_code=200, content_length=7207\n"
     ]
    },
    {
     "name": "stdout",
     "output_type": "stream",
     "text": [
      " 57% [============================                      ] 618496/1082887"
     ]
    },
    {
     "name": "stderr",
     "output_type": "stream",
     "text": [
      "[INFO] | 2023/06/23 00:57:52 | * Extracted information: {'url': 'https://dacemirror.sci-hub.ru/journal-article/9306c7c99e43bedee78c2a901535837a/chen2016.pdf', 'title': 'Multifunctional coating based on EPC-specific peptide and phospholipid polymers for potential applications in cardiovascular implants fate. Journal of Materials Chemistry B, 4(48), 7870–7881'}\n"
     ]
    },
    {
     "name": "stdout",
     "output_type": "stream",
     "text": [
      " 16% [========                                          ] 344064/2046522"
     ]
    },
    {
     "name": "stderr",
     "output_type": "stream",
     "text": [
      "[INFO] | 2023/06/23 00:57:52 | Choose scihub url [0]: https://sci-hub.ru\n"
     ]
    },
    {
     "name": "stdout",
     "output_type": "stream",
     "text": [
      "  9% [====                                              ] 335872/3501660"
     ]
    },
    {
     "name": "stderr",
     "output_type": "stream",
     "text": [
      "[INFO] | 2023/06/23 00:57:52 | <- Request: scihub_url=https://sci-hub.ru, source=DoiSource[type=doi, id=doi.org/10.1161/ATVBAHA.114.305095], proxies={}\n"
     ]
    },
    {
     "name": "stdout",
     "output_type": "stream",
     "text": [
      " 14% [=======                                           ] 602112/42786250\n",
      " 34% [=================                                 ] 1110016/3262070"
     ]
    },
    {
     "name": "stderr",
     "output_type": "stream",
     "text": [
      "[INFO] | 2023/06/23 00:57:52 | ↓ Successfully download the url to: /home/antonkulaga/sources/non-animal-models/data/inputs/datasets/CVD/papers/10.1016/j.jvs.2014.03.241.pdf\n"
     ]
    },
    {
     "name": "stdout",
     "output_type": "stream",
     "text": [
      " 34% [=================                                 ] 1122304/3262070\n",
      " 34% [=================                                 ] 1126400/3262070"
     ]
    },
    {
     "name": "stderr",
     "output_type": "stream",
     "text": [
      "[INFO] | 2023/06/23 00:57:52 | ↓ Successfully download the url to: /home/antonkulaga/sources/non-animal-models/data/inputs/datasets/CVD/papers/10.1038/ki.2013.188.pdf\n"
     ]
    },
    {
     "name": "stdout",
     "output_type": "stream",
     "text": [
      " 36% [==================                                ] 1179648/3262070"
     ]
    },
    {
     "name": "stderr",
     "output_type": "stream",
     "text": [
      "[INFO] | 2023/06/23 00:57:53 | -> Response: status_code=200, content_length=7222\n"
     ]
    },
    {
     "name": "stdout",
     "output_type": "stream",
     "text": [
      " 41% [====================                              ] 856064/20465220"
     ]
    },
    {
     "name": "stderr",
     "output_type": "stream",
     "text": [
      "[INFO] | 2023/06/23 00:57:53 | * Extracted information: {'url': 'https://moscow.sci-hub.ru/4028/44dc31064d78a07a5570252f9c6615a2/chen2015.pdf', 'title': 'Notch1 Mutation Leads to Valvular Calcification Through Enhanced Myofibroblast MechanotransductionSignificance. Arteriosclerosis, Thrombosis, and Vascular Biology, 35(7), 1597–1605'}\n"
     ]
    },
    {
     "name": "stdout",
     "output_type": "stream",
     "text": [
      " 37% [==================                                ] 1236992/3262070"
     ]
    },
    {
     "name": "stderr",
     "output_type": "stream",
     "text": [
      "[INFO] | 2023/06/23 00:57:53 | Choose scihub url [0]: https://sci-hub.ru\n"
     ]
    },
    {
     "name": "stdout",
     "output_type": "stream",
     "text": [
      "  0% [                                                  ] 28672/293240850"
     ]
    },
    {
     "name": "stderr",
     "output_type": "stream",
     "text": [
      "[INFO] | 2023/06/23 00:57:53 | Choose scihub url [0]: https://sci-hub.ru\n"
     ]
    },
    {
     "name": "stdout",
     "output_type": "stream",
     "text": [
      " 24% [============                                      ] 860160/35016600"
     ]
    },
    {
     "name": "stderr",
     "output_type": "stream",
     "text": [
      "[INFO] | 2023/06/23 00:57:53 | <- Request: scihub_url=https://sci-hub.ru, source=DoiSource[type=doi, id=doi.org/10.3390/ijms17050753], proxies={}\n"
     ]
    },
    {
     "name": "stdout",
     "output_type": "stream",
     "text": [
      " 24% [============                                      ] 868352/35016600"
     ]
    },
    {
     "name": "stderr",
     "output_type": "stream",
     "text": [
      "[INFO] | 2023/06/23 00:57:53 | <- Request: scihub_url=https://sci-hub.ru, source=DoiSource[type=doi, id=doi.org/10.1097/SHK.0000000000001008], proxies={}\n"
     ]
    },
    {
     "name": "stdout",
     "output_type": "stream",
     "text": [
      " 10% [=====                                             ] 319488/29324080"
     ]
    },
    {
     "name": "stderr",
     "output_type": "stream",
     "text": [
      "[INFO] | 2023/06/23 00:57:53 | -> Response: status_code=200, content_length=7001\n"
     ]
    },
    {
     "name": "stdout",
     "output_type": "stream",
     "text": [
      " 75% [=====================================             ] 1544192/2046522"
     ]
    },
    {
     "name": "stderr",
     "output_type": "stream",
     "text": [
      "[INFO] | 2023/06/23 00:57:53 | * Extracted information: {'url': 'https://dacemirror.sci-hub.ru/journal-article/b71421c9e11ba867a01b1cf7b4c75a07/chen2017.pdf', 'title': ''}\n"
     ]
    },
    {
     "name": "stdout",
     "output_type": "stream",
     "text": [
      " 63% [===============================                   ] 2076672/3262070"
     ]
    },
    {
     "name": "stderr",
     "output_type": "stream",
     "text": [
      "[INFO] | 2023/06/23 00:57:53 | -> Response: status_code=200, content_length=7175\n"
     ]
    },
    {
     "name": "stdout",
     "output_type": "stream",
     "text": [
      " 49% [========================                          ] 1720320/3501660"
     ]
    },
    {
     "name": "stderr",
     "output_type": "stream",
     "text": [
      "[INFO] | 2023/06/23 00:57:53 | * Extracted information: {'url': 'https://dacemirror.sci-hub.ru/journal-article/b09cd5c0640b8507f9e35b29a5d8a6cc/chen2016.pdf', 'title': 'Differential MicroRNA Expression Profile in Myxomatous Mitral Valve Prolapse and Fibroelastic Deficiency Valves. International Journal of Molecular Sciences, 17(5), 753'}\n"
     ]
    },
    {
     "name": "stdout",
     "output_type": "stream",
     "text": [
      " 57% [============================                      ] 2027520/3501660\n",
      " 43% [=====================                             ] 1875968/4278625"
     ]
    },
    {
     "name": "stderr",
     "output_type": "stream",
     "text": [
      "[INFO] | 2023/06/23 00:57:54 | ↓ Successfully download the url to: /home/antonkulaga/sources/non-animal-models/data/inputs/datasets/CVD/papers/10.1007/s10439-015-1295-6.pdf\n"
     ]
    },
    {
     "name": "stdout",
     "output_type": "stream",
     "text": [
      " 77% [======================================            ] 2531328/3262070"
     ]
    },
    {
     "name": "stderr",
     "output_type": "stream",
     "text": [
      "[INFO] | 2023/06/23 00:57:54 | Choose scihub url [0]: https://sci-hub.ru\n"
     ]
    },
    {
     "name": "stdout",
     "output_type": "stream",
     "text": [
      " 78% [=======================================           ] 2551808/3262070"
     ]
    },
    {
     "name": "stderr",
     "output_type": "stream",
     "text": [
      "[INFO] | 2023/06/23 00:57:54 | <- Request: scihub_url=https://sci-hub.ru, source=DoiSource[type=doi, id=doi.org/10.1016/j.jfluidstructs.2018.04.009], proxies={}\n"
     ]
    },
    {
     "name": "stdout",
     "output_type": "stream",
     "text": [
      " 57% [============================                      ] 1675264/2932408\n",
      " 84% [==========================================        ] 2949120/3501660"
     ]
    },
    {
     "name": "stderr",
     "output_type": "stream",
     "text": [
      "[INFO] | 2023/06/23 00:57:54 | ↓ Successfully download the url to: /home/antonkulaga/sources/non-animal-models/data/inputs/datasets/CVD/papers/10.1115/1.4040940.pdf\n"
     ]
    },
    {
     "name": "stdout",
     "output_type": "stream",
     "text": [
      " 68% [==================================                ] 2949120/4278625"
     ]
    },
    {
     "name": "stderr",
     "output_type": "stream",
     "text": [
      "[INFO] | 2023/06/23 00:57:54 | Choose scihub url [0]: https://sci-hub.ru\n"
     ]
    },
    {
     "name": "stdout",
     "output_type": "stream",
     "text": [
      " 69% [==================================                ] 2953216/4278625"
     ]
    },
    {
     "name": "stderr",
     "output_type": "stream",
     "text": [
      "[INFO] | 2023/06/23 00:57:54 | <- Request: scihub_url=https://sci-hub.ru, source=DoiSource[type=doi, id=doi.org/10.1097/MD.0000000000009510], proxies={}\n"
     ]
    },
    {
     "name": "stdout",
     "output_type": "stream",
     "text": [
      "  5% [==                                                ] 57344/112300025"
     ]
    },
    {
     "name": "stderr",
     "output_type": "stream",
     "text": [
      "[INFO] | 2023/06/23 00:57:54 | -> Response: status_code=200, content_length=7067\n"
     ]
    },
    {
     "name": "stdout",
     "output_type": "stream",
     "text": [
      " 70% [===================================               ] 2072576/2932408"
     ]
    },
    {
     "name": "stderr",
     "output_type": "stream",
     "text": [
      "[INFO] | 2023/06/23 00:57:54 | * Extracted information: {'url': 'https://zero.sci-hub.ru/6817/ba695d52949b8f373fa762001b1b5285/chen2018.pdf', 'title': 'A computational study of the three-dimensional fluid–structure interaction of aortic valve. Journal of Fluids and Structures, 80, 332–349'}\n"
     ]
    },
    {
     "name": "stdout",
     "output_type": "stream",
     "text": [
      " 77% [======================================            ] 3309568/4278625\n",
      " 71% [===================================               ] 2105344/2932408"
     ]
    },
    {
     "name": "stderr",
     "output_type": "stream",
     "text": [
      "[INFO] | 2023/06/23 00:57:54 | ↓ Successfully download the url to: /home/antonkulaga/sources/non-animal-models/data/inputs/datasets/CVD/papers/10.1016/j.biomaterials.2013.10.007.pdf\n"
     ]
    },
    {
     "name": "stdout",
     "output_type": "stream",
     "text": [
      " 82% [=========================================         ] 3522560/4278625"
     ]
    },
    {
     "name": "stderr",
     "output_type": "stream",
     "text": [
      "[INFO] | 2023/06/23 00:57:54 | Choose scihub url [0]: https://sci-hub.ru\n"
     ]
    },
    {
     "name": "stdout",
     "output_type": "stream",
     "text": [
      " 79% [=======================================           ] 2322432/2932408"
     ]
    },
    {
     "name": "stderr",
     "output_type": "stream",
     "text": [
      "[INFO] | 2023/06/23 00:57:54 | <- Request: scihub_url=https://sci-hub.ru, source=DoiSource[type=doi, id=doi.org/10.1007/s10439-015-1453-x], proxies={}\n"
     ]
    },
    {
     "name": "stdout",
     "output_type": "stream",
     "text": [
      "100% [==================================================] 4278625/4278625\n"
     ]
    },
    {
     "name": "stderr",
     "output_type": "stream",
     "text": [
      "[INFO] | 2023/06/23 00:57:55 | ↓ Successfully download the url to: /home/antonkulaga/sources/non-animal-models/data/inputs/datasets/CVD/papers/10.1002/cnm.2700.pdf\n",
      "[INFO] | 2023/06/23 00:57:55 | Choose scihub url [0]: https://sci-hub.ru\n",
      "[INFO] | 2023/06/23 00:57:55 | <- Request: scihub_url=https://sci-hub.ru, source=DoiSource[type=doi, id=doi.org/10.1161/CIRCHEARTFAILURE.117.004325], proxies={}\n"
     ]
    },
    {
     "name": "stdout",
     "output_type": "stream",
     "text": [
      " 27% [=============                                     ] 307200/11230008"
     ]
    },
    {
     "name": "stderr",
     "output_type": "stream",
     "text": [
      "[INFO] | 2023/06/23 00:57:55 | -> Response: status_code=200, content_length=7158\n"
     ]
    },
    {
     "name": "stdout",
     "output_type": "stream",
     "text": [
      " 27% [=============                                     ] 311296/11230008"
     ]
    },
    {
     "name": "stderr",
     "output_type": "stream",
     "text": [
      "[INFO] | 2023/06/23 00:57:55 | * Extracted information: {'url': 'https://dacemirror.sci-hub.ru/journal-article/97d26947a2fed1d87ec1efea61c6c5eb/chen2018.pdf', 'title': 'Evaluation of the anatomic and hemodynamic abnormalities in tricuspid atresia before and after surgery using computational fluid dynamics. Medicine, 97(2), e9510'}\n"
     ]
    },
    {
     "name": "stdout",
     "output_type": "stream",
     "text": [
      " 29% [==============                                    ] 335872/11230008\n"
     ]
    },
    {
     "name": "stderr",
     "output_type": "stream",
     "text": [
      "[INFO] | 2023/06/23 00:57:55 | ↓ Successfully download the url to: /home/antonkulaga/sources/non-animal-models/data/inputs/datasets/CVD/papers/10.1039/C6TB01811D.pdf\n"
     ]
    },
    {
     "name": "stdout",
     "output_type": "stream",
     "text": [
      "  0% [                                                  ] 45056/62334980"
     ]
    },
    {
     "name": "stderr",
     "output_type": "stream",
     "text": [
      "[INFO] | 2023/06/23 00:57:55 | Choose scihub url [0]: https://sci-hub.ru\n",
      "[INFO] | 2023/06/23 00:57:55 | <- Request: scihub_url=https://sci-hub.ru, source=DoiSource[type=doi, id=doi.org/10.1016/j.jocn.2018.10.103], proxies={}\n",
      "[INFO] | 2023/06/23 00:57:55 | -> Response: status_code=200, content_length=7200\n"
     ]
    },
    {
     "name": "stdout",
     "output_type": "stream",
     "text": [
      "  0% [                                                  ] 57344/62334980"
     ]
    },
    {
     "name": "stderr",
     "output_type": "stream",
     "text": [
      "[INFO] | 2023/06/23 00:57:55 | * Extracted information: {'url': 'https://dacemirror.sci-hub.ru/journal-article/a08c2f53eacd5658be4a681e1c690467/cheng2015.pdf', 'title': 'Assessment of Hemodynamic Conditions in the Aorta Following Root Replacement with Composite Valve-Conduit Graft. Annals of Biomedical Engineering, 44(5), 1392–1404'}\n"
     ]
    },
    {
     "name": "stdout",
     "output_type": "stream",
     "text": [
      " 50% [=========================                         ] 565248/1123000"
     ]
    },
    {
     "name": "stderr",
     "output_type": "stream",
     "text": [
      "[INFO] | 2023/06/23 00:57:55 | -> Response: status_code=200, content_length=7108\n"
     ]
    },
    {
     "name": "stdout",
     "output_type": "stream",
     "text": [
      "  2% [=                                                 ] 163840/6233498"
     ]
    },
    {
     "name": "stderr",
     "output_type": "stream",
     "text": [
      "[INFO] | 2023/06/23 00:57:55 | * Extracted information: {'url': 'https://zero.sci-hub.ru/6767/55d81fa631ef6608189dbc7f5a275833/chivukula2018.pdf', 'title': 'Left Ventricular Assist Device Inflow Cannula Angle and Thrombosis Risk. Circulation  Heart Failure, 11(4), e004325'}\n"
     ]
    },
    {
     "name": "stdout",
     "output_type": "stream",
     "text": [
      "100% [==================================================] 1123000/1123000\n"
     ]
    },
    {
     "name": "stderr",
     "output_type": "stream",
     "text": [
      "[INFO] | 2023/06/23 00:57:56 | ↓ Successfully download the url to: /home/antonkulaga/sources/non-animal-models/data/inputs/datasets/CVD/papers/10.1161/ATVBAHA.114.305095.pdf\n"
     ]
    },
    {
     "name": "stdout",
     "output_type": "stream",
     "text": [
      "  8% [====                                              ] 536576/6233498"
     ]
    },
    {
     "name": "stderr",
     "output_type": "stream",
     "text": [
      "[INFO] | 2023/06/23 00:57:56 | Choose scihub url [0]: https://sci-hub.ru\n",
      "[INFO] | 2023/06/23 00:57:56 | <- Request: scihub_url=https://sci-hub.ru, source=DoiSource[type=doi, id=doi.org/10.1016/j.jcmg.2015.04.024], proxies={}\n"
     ]
    },
    {
     "name": "stdout",
     "output_type": "stream",
     "text": [
      "  8% [====                                              ] 540672/6233498"
     ]
    },
    {
     "name": "stderr",
     "output_type": "stream",
     "text": [
      "[INFO] | 2023/06/23 00:57:56 | -> Response: status_code=200, content_length=7121\n"
     ]
    },
    {
     "name": "stdout",
     "output_type": "stream",
     "text": [
      "  8% [====                                              ] 544768/6233498"
     ]
    },
    {
     "name": "stderr",
     "output_type": "stream",
     "text": [
      "[INFO] | 2023/06/23 00:57:56 | * Extracted information: {'url': 'https://sci-hub.ru/tree/b1/33/b133760621927c589695f92ee7dfc4fa.pdf', 'title': 'Reconstructing patient-specific cerebral aneurysm vasculature for in vitro investigations and treatment efficacy assessments. Journal of Clinical Neuroscience'}\n"
     ]
    },
    {
     "name": "stdout",
     "output_type": "stream",
     "text": [
      " 18% [=========                                         ] 1122304/6233498"
     ]
    },
    {
     "name": "stderr",
     "output_type": "stream",
     "text": [
      "[INFO] | 2023/06/23 00:57:57 | -> Response: status_code=200, content_length=7081\n"
     ]
    },
    {
     "name": "stdout",
     "output_type": "stream",
     "text": [
      " 80% [========================================          ] 598016/73868398"
     ]
    },
    {
     "name": "stderr",
     "output_type": "stream",
     "text": [
      "[INFO] | 2023/06/23 00:57:57 | * Extracted information: {'url': 'https://zero.sci-hub.ru/4482/591fede6612e09658e8a80f365cb1cf9/choi2015.pdf', 'title': 'Coronary Artery Axial Plaque Stress and its Relationship With Lesion Geometry. JACC  Cardiovascular Imaging, 8(10), 1156–1166'}\n"
     ]
    },
    {
     "name": "stdout",
     "output_type": "stream",
     "text": [
      " 20% [==========                                        ] 1261568/6233498\n",
      " 20% [==========                                        ] 1269760/6233498"
     ]
    },
    {
     "name": "stderr",
     "output_type": "stream",
     "text": [
      "[INFO] | 2023/06/23 00:57:57 | ↓ Successfully download the url to: /home/antonkulaga/sources/non-animal-models/data/inputs/datasets/CVD/papers/10.1161/CIRCHEARTFAILURE.117.004325.pdf\n"
     ]
    },
    {
     "name": "stdout",
     "output_type": "stream",
     "text": [
      " 21% [==========                                        ] 1323008/6233498"
     ]
    },
    {
     "name": "stderr",
     "output_type": "stream",
     "text": [
      "[INFO] | 2023/06/23 00:57:57 | Choose scihub url [0]: https://sci-hub.ru\n"
     ]
    },
    {
     "name": "stdout",
     "output_type": "stream",
     "text": [
      " 10% [=====                                             ] 163840/1563911"
     ]
    },
    {
     "name": "stderr",
     "output_type": "stream",
     "text": [
      "[INFO] | 2023/06/23 00:57:57 | <- Request: scihub_url=https://sci-hub.ru, source=DoiSource[type=doi, id=doi.org/10.1016/j.jbiomech.2015.05.006], proxies={}\n"
     ]
    },
    {
     "name": "stdout",
     "output_type": "stream",
     "text": [
      " 33% [================                                  ] 376832/11094521"
     ]
    },
    {
     "name": "stderr",
     "output_type": "stream",
     "text": [
      "[INFO] | 2023/06/23 00:57:57 | -> Response: status_code=200, content_length=7025\n"
     ]
    },
    {
     "name": "stdout",
     "output_type": "stream",
     "text": [
      " 26% [=============                                     ] 1671168/6233498"
     ]
    },
    {
     "name": "stderr",
     "output_type": "stream",
     "text": [
      "[INFO] | 2023/06/23 00:57:57 | * Extracted information: {'url': 'https://moscow.sci-hub.ru/4666/10a3ce1aa6565aa6d19dde0074d84aab/choi2015.pdf', 'title': 'Thrombus deflector stent for stroke prevention  A simulation study. Journal of Biomechanics, 48(10), 1789–1795'}\n"
     ]
    },
    {
     "name": "stdout",
     "output_type": "stream",
     "text": [
      "100% [==================================================] 1563911/1563911\n",
      " 27% [=============                                     ] 1744896/6233498"
     ]
    },
    {
     "name": "stderr",
     "output_type": "stream",
     "text": [
      "[INFO] | 2023/06/23 00:57:57 | ↓ Successfully download the url to: /home/antonkulaga/sources/non-animal-models/data/inputs/datasets/CVD/papers/10.1016/j.jocn.2018.10.103.pdf\n"
     ]
    },
    {
     "name": "stdout",
     "output_type": "stream",
     "text": [
      " 71% [===================================               ] 790528/11094528"
     ]
    },
    {
     "name": "stderr",
     "output_type": "stream",
     "text": [
      "[INFO] | 2023/06/23 00:57:58 | Choose scihub url [0]: https://sci-hub.ru\n"
     ]
    },
    {
     "name": "stdout",
     "output_type": "stream",
     "text": [
      " 71% [===================================               ] 794624/11094528"
     ]
    },
    {
     "name": "stderr",
     "output_type": "stream",
     "text": [
      "[INFO] | 2023/06/23 00:57:58 | <- Request: scihub_url=https://sci-hub.ru, source=DoiSource[type=doi, id=doi.org/10.1152/ajpendo.00016.2013], proxies={}\n"
     ]
    },
    {
     "name": "stdout",
     "output_type": "stream",
     "text": [
      " 30% [===============                                   ] 1921024/6233498\n"
     ]
    },
    {
     "name": "stderr",
     "output_type": "stream",
     "text": [
      "[INFO] | 2023/06/23 00:57:58 | ↓ Successfully download the url to: /home/antonkulaga/sources/non-animal-models/data/inputs/datasets/CVD/papers/10.1016/j.jcmg.2015.04.024.pdf\n"
     ]
    },
    {
     "name": "stdout",
     "output_type": "stream",
     "text": [
      " 31% [===============                                   ] 1978368/6233498"
     ]
    },
    {
     "name": "stderr",
     "output_type": "stream",
     "text": [
      "[INFO] | 2023/06/23 00:57:58 | Choose scihub url [0]: https://sci-hub.ru\n"
     ]
    },
    {
     "name": "stdout",
     "output_type": "stream",
     "text": [
      " 31% [===============                                   ] 1990656/6233498"
     ]
    },
    {
     "name": "stderr",
     "output_type": "stream",
     "text": [
      "[INFO] | 2023/06/23 00:57:58 | <- Request: scihub_url=https://sci-hub.ru, source=DoiSource[type=doi, id=doi.org/10.1016/j.jbiomech.2016.02.004], proxies={}\n"
     ]
    },
    {
     "name": "stdout",
     "output_type": "stream",
     "text": [
      " 38% [===================                               ] 528384/13798628"
     ]
    },
    {
     "name": "stderr",
     "output_type": "stream",
     "text": [
      "[INFO] | 2023/06/23 00:57:58 | -> Response: status_code=200, content_length=7193\n"
     ]
    },
    {
     "name": "stdout",
     "output_type": "stream",
     "text": [
      " 38% [===================                               ] 536576/1379862"
     ]
    },
    {
     "name": "stderr",
     "output_type": "stream",
     "text": [
      "[INFO] | 2023/06/23 00:57:58 | * Extracted information: {'url': 'https://moscow.sci-hub.ru/4246/b9a9af7710e3ab2c9699586d2dd3aa0c/ci2013.pdf', 'title': 'Endothelial microparticles increase in mitral valve disease and impair mitral valve endothelial function. American Journal of Physiology-Endocrinology and Metabolism, 304(7), E695–E702'}\n"
     ]
    },
    {
     "name": "stdout",
     "output_type": "stream",
     "text": [
      " 40% [====================                              ] 2539520/6233498"
     ]
    },
    {
     "name": "stderr",
     "output_type": "stream",
     "text": [
      "[INFO] | 2023/06/23 00:57:58 | -> Response: status_code=200, content_length=7123\n"
     ]
    },
    {
     "name": "stdout",
     "output_type": "stream",
     "text": [
      " 40% [====================                              ] 2551808/6233498"
     ]
    },
    {
     "name": "stderr",
     "output_type": "stream",
     "text": [
      "[INFO] | 2023/06/23 00:57:58 | * Extracted information: {'url': 'https://moscow.sci-hub.ru/4902/b63855b69a7555f59499990e65c240f8/cibis2016.pdf', 'title': 'Relation between wall shear stress and carotid artery wall thickening MRI versus CFD. Journal of Biomechanics, 49(5), 735–741'}\n"
     ]
    },
    {
     "name": "stdout",
     "output_type": "stream",
     "text": [
      "100% [==================================================] 1379862/1379862\n"
     ]
    },
    {
     "name": "stderr",
     "output_type": "stream",
     "text": [
      "[INFO] | 2023/06/23 00:57:58 | ↓ Successfully download the url to: /home/antonkulaga/sources/non-animal-models/data/inputs/datasets/CVD/papers/10.1016/j.jbiomech.2015.05.006.pdf\n"
     ]
    },
    {
     "name": "stdout",
     "output_type": "stream",
     "text": [
      " 45% [======================                            ] 2867200/6233498"
     ]
    },
    {
     "name": "stderr",
     "output_type": "stream",
     "text": [
      "[INFO] | 2023/06/23 00:57:58 | Choose scihub url [0]: https://sci-hub.ru\n"
     ]
    },
    {
     "name": "stdout",
     "output_type": "stream",
     "text": [
      "  0% [                                                  ] 8192/1251033498"
     ]
    },
    {
     "name": "stderr",
     "output_type": "stream",
     "text": [
      "[INFO] | 2023/06/23 00:57:58 | <- Request: scihub_url=https://sci-hub.ru, source=DoiSource[type=doi, id=doi.org/10.1039/c6lc01226d], proxies={}\n"
     ]
    },
    {
     "name": "stdout",
     "output_type": "stream",
     "text": [
      "100% [==================================================] 1251033/1251033\n",
      "  7% [===                                               ] 36864/5018930"
     ]
    },
    {
     "name": "stderr",
     "output_type": "stream",
     "text": [
      "[INFO] | 2023/06/23 00:57:59 | ↓ Successfully download the url to: /home/antonkulaga/sources/non-animal-models/data/inputs/datasets/CVD/papers/10.1152/ajpendo.00016.2013.pdf\n"
     ]
    },
    {
     "name": "stdout",
     "output_type": "stream",
     "text": [
      " 89% [============================================      ] 737280/82652098"
     ]
    },
    {
     "name": "stderr",
     "output_type": "stream",
     "text": [
      "[INFO] | 2023/06/23 00:57:59 | Choose scihub url [0]: https://sci-hub.ru\n"
     ]
    },
    {
     "name": "stdout",
     "output_type": "stream",
     "text": [
      "  1% [                                                  ] 61440/407978798"
     ]
    },
    {
     "name": "stderr",
     "output_type": "stream",
     "text": [
      "[INFO] | 2023/06/23 00:57:59 | <- Request: scihub_url=https://sci-hub.ru, source=DoiSource[type=doi, id=doi.org/10.1115/1.4023235], proxies={}\n"
     ]
    },
    {
     "name": "stdout",
     "output_type": "stream",
     "text": [
      " 68% [==================================                ] 4272128/6233498\n",
      " 22% [===========                                       ] 114688/50189398"
     ]
    },
    {
     "name": "stderr",
     "output_type": "stream",
     "text": [
      "[INFO] | 2023/06/23 00:57:59 | ↓ Successfully download the url to: /home/antonkulaga/sources/non-animal-models/data/inputs/datasets/CVD/papers/10.1016/j.jbiomech.2016.02.004.pdf\n"
     ]
    },
    {
     "name": "stdout",
     "output_type": "stream",
     "text": [
      " 71% [===================================               ] 4427776/6233498"
     ]
    },
    {
     "name": "stderr",
     "output_type": "stream",
     "text": [
      "[INFO] | 2023/06/23 00:57:59 | Choose scihub url [0]: https://sci-hub.ru\n"
     ]
    },
    {
     "name": "stdout",
     "output_type": "stream",
     "text": [
      "  4% [==                                                ] 94208/217154578"
     ]
    },
    {
     "name": "stderr",
     "output_type": "stream",
     "text": [
      "[INFO] | 2023/06/23 00:57:59 | <- Request: scihub_url=https://sci-hub.ru, source=DoiSource[type=doi, id=doi.org/10.1016/j.hrthm.2017.01.042], proxies={}\n"
     ]
    },
    {
     "name": "stdout",
     "output_type": "stream",
     "text": [
      " 45% [======================                            ] 229376/50189398"
     ]
    },
    {
     "name": "stderr",
     "output_type": "stream",
     "text": [
      "[INFO] | 2023/06/23 00:57:59 | -> Response: status_code=200, content_length=7176\n"
     ]
    },
    {
     "name": "stdout",
     "output_type": "stream",
     "text": [
      "  0% [                                                  ] 4096/6796157878"
     ]
    },
    {
     "name": "stderr",
     "output_type": "stream",
     "text": [
      "[INFO] | 2023/06/23 00:57:59 | * Extracted information: {'url': 'https://zero.sci-hub.ru/6247/8a1bfd10537c1ee2ca5ed104f9810ce0/cirka2017.pdf', 'title': 'Reproducible in vitro model for dystrophic calcification of cardiac valvular interstitial cells  insights into the mechanisms of calcific aortic valvular disease. Lab on a Chip, 17(5), 814–829'}\n"
     ]
    },
    {
     "name": "stdout",
     "output_type": "stream",
     "text": [
      "  8% [====                                              ] 364544/40797878\n",
      " 10% [=====                                             ] 73728/67961587"
     ]
    },
    {
     "name": "stderr",
     "output_type": "stream",
     "text": [
      "[INFO] | 2023/06/23 00:57:59 | ↓ Successfully download the url to: /home/antonkulaga/sources/non-animal-models/data/inputs/datasets/CVD/papers/10.1097/MD.0000000000009510.pdf\n"
     ]
    },
    {
     "name": "stdout",
     "output_type": "stream",
     "text": [
      " 16% [========                                          ] 352256/21715458"
     ]
    },
    {
     "name": "stderr",
     "output_type": "stream",
     "text": [
      "[INFO] | 2023/06/23 00:57:59 | -> Response: status_code=200, content_length=7163\n"
     ]
    },
    {
     "name": "stdout",
     "output_type": "stream",
     "text": [
      " 16% [========                                          ] 360448/21715458"
     ]
    },
    {
     "name": "stderr",
     "output_type": "stream",
     "text": [
      "[INFO] | 2023/06/23 00:57:59 | * Extracted information: {'url': 'https://dacemirror.sci-hub.ru/journal-article/fc61b977fef2a852af4cae5e9704c787/claiborne2013.pdf', 'title': 'In VitroEvaluation of a Novel Hemodynamically Optimized Trileaflet Polymeric Prosthetic Heart Valve. Journal of Biomechanical Engineering, 135(2), 021021'}\n"
     ]
    },
    {
     "name": "stdout",
     "output_type": "stream",
     "text": [
      " 21% [==========                                        ] 147456/67961558"
     ]
    },
    {
     "name": "stderr",
     "output_type": "stream",
     "text": [
      "[INFO] | 2023/06/23 00:57:59 | Choose scihub url [0]: https://sci-hub.ru\n"
     ]
    },
    {
     "name": "stdout",
     "output_type": "stream",
     "text": [
      " 79% [=======================================           ] 4927488/6233498"
     ]
    },
    {
     "name": "stderr",
     "output_type": "stream",
     "text": [
      "[INFO] | 2023/06/23 00:57:59 | <- Request: scihub_url=https://sci-hub.ru, source=DoiSource[type=doi, id=doi.org/10.1016/j.echo.2015.11.002], proxies={}\n"
     ]
    },
    {
     "name": "stdout",
     "output_type": "stream",
     "text": [
      "  0% [                                                  ] 36864/400371998"
     ]
    },
    {
     "name": "stderr",
     "output_type": "stream",
     "text": [
      "[INFO] | 2023/06/23 00:57:59 | -> Response: status_code=200, content_length=7136\n"
     ]
    },
    {
     "name": "stdout",
     "output_type": "stream",
     "text": [
      "  1% [                                                  ] 45056/400371998"
     ]
    },
    {
     "name": "stderr",
     "output_type": "stream",
     "text": [
      "[INFO] | 2023/06/23 00:57:59 | * Extracted information: {'url': 'https://zero.sci-hub.ru/6260/79e4a305217b8cec31707ee19da6bc62/coisne2017.pdf', 'title': 'Percutaneous left atrial appendage closure improves left atrial mechanical function through Frank–Starling mechanism. Heart Rhythm, 14(5), 710–716'}\n"
     ]
    },
    {
     "name": "stdout",
     "output_type": "stream",
     "text": [
      " 47% [=======================                           ] 1028096/2171545\n",
      "  9% [====                                              ] 364544/40037197"
     ]
    },
    {
     "name": "stderr",
     "output_type": "stream",
     "text": [
      "[INFO] | 2023/06/23 00:58:00 | ↓ Successfully download the url to: /home/antonkulaga/sources/non-animal-models/data/inputs/datasets/CVD/papers/10.1097/SHK.0000000000001008.pdf\n"
     ]
    },
    {
     "name": "stdout",
     "output_type": "stream",
     "text": [
      " 30% [===============                                   ] 1245184/4079787"
     ]
    },
    {
     "name": "stderr",
     "output_type": "stream",
     "text": [
      "[INFO] | 2023/06/23 00:58:00 | -> Response: status_code=200, content_length=7311\n"
     ]
    },
    {
     "name": "stdout",
     "output_type": "stream",
     "text": [
      " 54% [===========================                       ] 1187840/2171545"
     ]
    },
    {
     "name": "stderr",
     "output_type": "stream",
     "text": [
      "[INFO] | 2023/06/23 00:58:00 | * Extracted information: {'url': 'https://moscow.sci-hub.ru/4940/9af19ad55ec2db2bbb935f82e2c6b01b/condemi2016.pdf', 'title': 'Validation of Transesophageal Echocardiographic In\\xa0Vitro Measurements for Bioprosthetic Aortic Valves  Implications for Percutaneous Valve-in-Valve Therapy. Journal of the American Society of Echocar'}\n"
     ]
    },
    {
     "name": "stdout",
     "output_type": "stream",
     "text": [
      "  2% [=                                                 ] 24576/903022498"
     ]
    },
    {
     "name": "stderr",
     "output_type": "stream",
     "text": [
      "[INFO] | 2023/06/23 00:58:00 | Choose scihub url [0]: https://sci-hub.ru\n"
     ]
    },
    {
     "name": "stdout",
     "output_type": "stream",
     "text": [
      "  4% [==                                                ] 40960/903022787"
     ]
    },
    {
     "name": "stderr",
     "output_type": "stream",
     "text": [
      "[INFO] | 2023/06/23 00:58:00 | <- Request: scihub_url=https://sci-hub.ru, source=DoiSource[type=doi, id=doi.org/10.1007/s10439-015-1398-0], proxies={}\n"
     ]
    },
    {
     "name": "stdout",
     "output_type": "stream",
     "text": [
      " 61% [==============================                    ] 557056/90302245\n",
      " 24% [============                                      ] 999424/40037197"
     ]
    },
    {
     "name": "stderr",
     "output_type": "stream",
     "text": [
      "[INFO] | 2023/06/23 00:58:00 | ↓ Successfully download the url to: /home/antonkulaga/sources/non-animal-models/data/inputs/datasets/CVD/papers/10.1016/j.jfluidstructs.2018.04.009.pdf\n"
     ]
    },
    {
     "name": "stdout",
     "output_type": "stream",
     "text": [
      " 81% [========================================          ] 1769472/2171545"
     ]
    },
    {
     "name": "stderr",
     "output_type": "stream",
     "text": [
      "[INFO] | 2023/06/23 00:58:00 | -> Response: status_code=200, content_length=7187\n"
     ]
    },
    {
     "name": "stdout",
     "output_type": "stream",
     "text": [
      " 45% [======================                            ] 1863680/4079787"
     ]
    },
    {
     "name": "stderr",
     "output_type": "stream",
     "text": [
      "[INFO] | 2023/06/23 00:58:00 | * Extracted information: {'url': 'https://zero.sci-hub.ru/4368/bc3894c087496ecf4faed1201642b547/connell2015.pdf', 'title': 'Regurgitation Hemodynamics Alone Cause Mitral Valve Remodeling Characteristic of Clinical Disease States In Vitro. Annals of Biomedical Engineering, 44(4), 954–967'}\n"
     ]
    },
    {
     "name": "stdout",
     "output_type": "stream",
     "text": [
      "  4% [==                                                ] 376832/80852357"
     ]
    },
    {
     "name": "stderr",
     "output_type": "stream",
     "text": [
      "[INFO] | 2023/06/23 00:58:00 | Choose scihub url [0]: https://sci-hub.ru\n"
     ]
    },
    {
     "name": "stdout",
     "output_type": "stream",
     "text": [
      " 72% [====================================              ] 651264/90302287"
     ]
    },
    {
     "name": "stderr",
     "output_type": "stream",
     "text": [
      "[INFO] | 2023/06/23 00:58:00 | <- Request: scihub_url=https://sci-hub.ru, source=DoiSource[type=doi, id=doi.org/10.1016/j.jtcvs.2017.09.046], proxies={}\n"
     ]
    },
    {
     "name": "stdout",
     "output_type": "stream",
     "text": [
      " 34% [=================                                 ] 1380352/4003719\n",
      " 96% [================================================  ] 2093056/2171545"
     ]
    },
    {
     "name": "stderr",
     "output_type": "stream",
     "text": [
      "[INFO] | 2023/06/23 00:58:00 | ↓ Successfully download the url to: /home/antonkulaga/sources/non-animal-models/data/inputs/datasets/CVD/papers/10.1016/j.hrthm.2017.01.042.pdf\n"
     ]
    },
    {
     "name": "stdout",
     "output_type": "stream",
     "text": [
      " 55% [===========================                       ] 2256896/4079787\n",
      "  0% [                                                  ] 12288/259087919"
     ]
    },
    {
     "name": "stderr",
     "output_type": "stream",
     "text": [
      "[INFO] | 2023/06/23 00:58:01 | Choose scihub url [0]: https://sci-hub.ru\n"
     ]
    },
    {
     "name": "stdout",
     "output_type": "stream",
     "text": [
      " 55% [===========================                       ] 2265088/4079787"
     ]
    },
    {
     "name": "stderr",
     "output_type": "stream",
     "text": [
      "[INFO] | 2023/06/23 00:58:01 | ↓ Successfully download the url to: /home/antonkulaga/sources/non-animal-models/data/inputs/datasets/CVD/papers/10.3390/ijms17050753.pdf\n"
     ]
    },
    {
     "name": "stdout",
     "output_type": "stream",
     "text": [
      " 55% [===========================                       ] 2269184/4079787"
     ]
    },
    {
     "name": "stderr",
     "output_type": "stream",
     "text": [
      "[INFO] | 2023/06/23 00:58:01 | <- Request: scihub_url=https://sci-hub.ru, source=DoiSource[type=doi, id=doi.org/10.1007/s10439-017-1851-3], proxies={}\n"
     ]
    },
    {
     "name": "stdout",
     "output_type": "stream",
     "text": [
      "  2% [=                                                 ] 69632/259087919"
     ]
    },
    {
     "name": "stderr",
     "output_type": "stream",
     "text": [
      "[INFO] | 2023/06/23 00:58:01 | Choose scihub url [0]: https://sci-hub.ru\n"
     ]
    },
    {
     "name": "stdout",
     "output_type": "stream",
     "text": [
      " 10% [=====                                             ] 888832/80852359"
     ]
    },
    {
     "name": "stderr",
     "output_type": "stream",
     "text": [
      "[INFO] | 2023/06/23 00:58:01 | <- Request: scihub_url=https://sci-hub.ru, source=DoiSource[type=doi, id=doi.org/10.1002/ccd.27320], proxies={}\n"
     ]
    },
    {
     "name": "stdout",
     "output_type": "stream",
     "text": [
      " 14% [=======                                           ] 1138688/8085235"
     ]
    },
    {
     "name": "stderr",
     "output_type": "stream",
     "text": [
      "[INFO] | 2023/06/23 00:58:01 | -> Response: status_code=200, content_length=7027\n"
     ]
    },
    {
     "name": "stdout",
     "output_type": "stream",
     "text": [
      " 14% [=======                                           ] 1146880/8085235"
     ]
    },
    {
     "name": "stderr",
     "output_type": "stream",
     "text": [
      "[INFO] | 2023/06/23 00:58:01 | * Extracted information: {'url': 'https://zero.sci-hub.ru/6537/c7bfa30c3dad0bc796806cddbb8f87e8/conover2017.pdf', 'title': ''}\n"
     ]
    },
    {
     "name": "stdout",
     "output_type": "stream",
     "text": [
      " 70% [===================================               ] 2863104/4079787"
     ]
    },
    {
     "name": "stderr",
     "output_type": "stream",
     "text": [
      "[INFO] | 2023/06/23 00:58:01 | -> Response: status_code=200, content_length=7233\n"
     ]
    },
    {
     "name": "stdout",
     "output_type": "stream",
     "text": [
      " 23% [===========                                       ] 618496/25908797"
     ]
    },
    {
     "name": "stderr",
     "output_type": "stream",
     "text": [
      "[INFO] | 2023/06/23 00:58:01 | -> Response: status_code=200, content_length=7139\n"
     ]
    },
    {
     "name": "stdout",
     "output_type": "stream",
     "text": [
      " 70% [===================================               ] 2883584/4079787"
     ]
    },
    {
     "name": "stderr",
     "output_type": "stream",
     "text": [
      "[INFO] | 2023/06/23 00:58:01 | * Extracted information: {'url': 'https://dacemirror.sci-hub.ru/journal-article/32b6143eac58b57d0ba1d9cec32bc98f/conway2017.pdf', 'title': 'Numerical Simulation of Stent Angioplasty with Predilation  An Investigation into Lesion Constitutive Representation and Calcification Influence. Annals of Biomedical Engineering, 45(9), 2244–2252'}\n"
     ]
    },
    {
     "name": "stdout",
     "output_type": "stream",
     "text": [
      " 24% [============                                      ] 630784/25908797"
     ]
    },
    {
     "name": "stderr",
     "output_type": "stream",
     "text": [
      "[INFO] | 2023/06/23 00:58:01 | * Extracted information: {'url': 'https://zero.sci-hub.ru/6523/9c91933db4ad84e6ead084d6dd2ac803/cools2017.pdf', 'title': 'Right ventricle outflow tract prestenting  In vitro testing of rigidity and corrosion properties. Catheterization and Cardiovascular Interventions, 91(2), 285–291'}\n"
     ]
    },
    {
     "name": "stdout",
     "output_type": "stream",
     "text": [
      " 79% [=======================================           ] 3252224/4079787\n",
      " 61% [==============================                    ] 2461696/4003719"
     ]
    },
    {
     "name": "stderr",
     "output_type": "stream",
     "text": [
      "[INFO] | 2023/06/23 00:58:01 | ↓ Successfully download the url to: /home/antonkulaga/sources/non-animal-models/data/inputs/datasets/CVD/papers/10.1016/j.echo.2015.11.002.pdf\n"
     ]
    },
    {
     "name": "stdout",
     "output_type": "stream",
     "text": [
      " 82% [=========================================         ] 3371008/4079787"
     ]
    },
    {
     "name": "stderr",
     "output_type": "stream",
     "text": [
      "[INFO] | 2023/06/23 00:58:01 | Choose scihub url [0]: https://sci-hub.ru\n"
     ]
    },
    {
     "name": "stdout",
     "output_type": "stream",
     "text": [
      "  4% [==                                                ] 266240/60616255"
     ]
    },
    {
     "name": "stderr",
     "output_type": "stream",
     "text": [
      "[INFO] | 2023/06/23 00:58:01 | <- Request: scihub_url=https://sci-hub.ru, source=DoiSource[type=doi, id=doi.org/10.1093/europace/euu246], proxies={}\n"
     ]
    },
    {
     "name": "stdout",
     "output_type": "stream",
     "text": [
      " 12% [======                                            ] 729088/60616259"
     ]
    },
    {
     "name": "stderr",
     "output_type": "stream",
     "text": [
      "[INFO] | 2023/06/23 00:58:02 | -> Response: status_code=200, content_length=7157\n"
     ]
    },
    {
     "name": "stdout",
     "output_type": "stream",
     "text": [
      " 95% [===============================================   ] 3887104/4079787"
     ]
    },
    {
     "name": "stderr",
     "output_type": "stream",
     "text": [
      "[INFO] | 2023/06/23 00:58:02 | * Extracted information: {'url': 'https://moscow.sci-hub.ru/4531/9b12312960420ef2df44d43b4b08c2e6/corino2014.pdf', 'title': 'Non-invasive evaluation of the effect of metoprolol on the atrioventricular node during permanent atrial fibrillation. Europace, 16(suppl 4), iv129–iv134'}\n"
     ]
    },
    {
     "name": "stdout",
     "output_type": "stream",
     "text": [
      "100% [==================================================] 4079787/4079787\n",
      " 33% [================                                  ] 2670592/8085235"
     ]
    },
    {
     "name": "stderr",
     "output_type": "stream",
     "text": [
      "[INFO] | 2023/06/23 00:58:02 | ↓ Successfully download the url to: /home/antonkulaga/sources/non-animal-models/data/inputs/datasets/CVD/papers/10.1007/s10439-015-1453-x.pdf\n"
     ]
    },
    {
     "name": "stdout",
     "output_type": "stream",
     "text": [
      " 16% [========                                          ] 987136/60616259\n",
      " 83% [=========================================         ] 3338240/4003719"
     ]
    },
    {
     "name": "stderr",
     "output_type": "stream",
     "text": [
      "[INFO] | 2023/06/23 00:58:02 | ↓ Successfully download the url to: /home/antonkulaga/sources/non-animal-models/data/inputs/datasets/CVD/papers/10.1002/ccd.27320.pdf\n"
     ]
    },
    {
     "name": "stdout",
     "output_type": "stream",
     "text": [
      " 85% [==========================================        ] 3436544/4003719"
     ]
    },
    {
     "name": "stderr",
     "output_type": "stream",
     "text": [
      "[INFO] | 2023/06/23 00:58:02 | Choose scihub url [0]: https://sci-hub.ru\n"
     ]
    },
    {
     "name": "stdout",
     "output_type": "stream",
     "text": [
      "  8% [====                                              ] 311296/36241515"
     ]
    },
    {
     "name": "stderr",
     "output_type": "stream",
     "text": [
      "[INFO] | 2023/06/23 00:58:02 | Choose scihub url [0]: https://sci-hub.ru\n"
     ]
    },
    {
     "name": "stdout",
     "output_type": "stream",
     "text": [
      "  8% [====                                              ] 315392/36241519"
     ]
    },
    {
     "name": "stderr",
     "output_type": "stream",
     "text": [
      "[INFO] | 2023/06/23 00:58:02 | <- Request: scihub_url=https://sci-hub.ru, source=DoiSource[type=doi, id=doi.org/10.1177/1526602818808049], proxies={}\n"
     ]
    },
    {
     "name": "stdout",
     "output_type": "stream",
     "text": [
      " 17% [========                                          ] 1081344/6061625"
     ]
    },
    {
     "name": "stderr",
     "output_type": "stream",
     "text": [
      "[INFO] | 2023/06/23 00:58:02 | <- Request: scihub_url=https://sci-hub.ru, source=DoiSource[type=doi, id=doi.org/10.1080/10255842.2012.758254], proxies={}\n"
     ]
    },
    {
     "name": "stdout",
     "output_type": "stream",
     "text": [
      " 25% [============                                      ] 1556480/6061625\n",
      " 91% [=============================================     ] 2379776/2590879"
     ]
    },
    {
     "name": "stderr",
     "output_type": "stream",
     "text": [
      "[INFO] | 2023/06/23 00:58:02 | ↓ Successfully download the url to: /home/antonkulaga/sources/non-animal-models/data/inputs/datasets/CVD/papers/10.1093/europace/euu246.pdf\n"
     ]
    },
    {
     "name": "stdout",
     "output_type": "stream",
     "text": [
      " 27% [=============                                     ] 1662976/6061625"
     ]
    },
    {
     "name": "stderr",
     "output_type": "stream",
     "text": [
      "[INFO] | 2023/06/23 00:58:02 | -> Response: status_code=200, content_length=7205\n"
     ]
    },
    {
     "name": "stdout",
     "output_type": "stream",
     "text": [
      " 27% [=============                                     ] 1667072/6061625"
     ]
    },
    {
     "name": "stderr",
     "output_type": "stream",
     "text": [
      "[INFO] | 2023/06/23 00:58:02 | -> Response: status_code=200, content_length=7239\n"
     ]
    },
    {
     "name": "stdout",
     "output_type": "stream",
     "text": [
      " 41% [====================                              ] 3391488/8085235"
     ]
    },
    {
     "name": "stderr",
     "output_type": "stream",
     "text": [
      "[INFO] | 2023/06/23 00:58:02 | * Extracted information: {'url': 'https://zero.sci-hub.ru/2252/0963e6159251222b44a270e4d118db4e/corsini2013.pdf', 'title': 'An integrated approach to patient-specific predictive modeling for single ventricle heart palliation. Computer Methods in Biomechanics and Biomedical Engineering, 17(14), 1572–1589'}\n"
     ]
    },
    {
     "name": "stdout",
     "output_type": "stream",
     "text": [
      " 41% [====================                              ] 3395584/8085235"
     ]
    },
    {
     "name": "stderr",
     "output_type": "stream",
     "text": [
      "[INFO] | 2023/06/23 00:58:02 | Choose scihub url [0]: https://sci-hub.ru\n"
     ]
    },
    {
     "name": "stdout",
     "output_type": "stream",
     "text": [
      " 27% [=============                                     ] 1679360/6061625\n"
     ]
    },
    {
     "name": "stderr",
     "output_type": "stream",
     "text": [
      "[INFO] | 2023/06/23 00:58:03 | * Extracted information: {'url': 'https://sci-hub.ru/downloads/2020-09-01/ba/costache2018.pdf', 'title': 'Aortic Remodeling After Total Endovascular Aortic Repair With Multilayer Stents  Computational Fluid Dynamics Analysis of Aortic Remodeling Over 3 Years of Follow-up. Journal of Endovascular Therapy,'}\n"
     ]
    },
    {
     "name": "stdout",
     "output_type": "stream",
     "text": [
      " 27% [=============                                     ] 1687552/6061625"
     ]
    },
    {
     "name": "stderr",
     "output_type": "stream",
     "text": [
      "[INFO] | 2023/06/23 00:58:03 | <- Request: scihub_url=https://sci-hub.ru, source=DoiSource[type=doi, id=doi.org/10.1097/SIH.0b013e31826ec3e1], proxies={}\n"
     ]
    },
    {
     "name": "stdout",
     "output_type": "stream",
     "text": [
      " 42% [=====================                             ] 3407872/8085235"
     ]
    },
    {
     "name": "stderr",
     "output_type": "stream",
     "text": [
      "[INFO] | 2023/06/23 00:58:03 | ↓ Successfully download the url to: /home/antonkulaga/sources/non-animal-models/data/inputs/datasets/CVD/papers/10.1039/c6lc01226d.pdf\n"
     ]
    },
    {
     "name": "stdout",
     "output_type": "stream",
     "text": [
      " 29% [==============                                    ] 1769472/6061625\n",
      " 43% [=====================                             ] 3485696/8085235"
     ]
    },
    {
     "name": "stderr",
     "output_type": "stream",
     "text": [
      "[INFO] | 2023/06/23 00:58:03 | ↓ Successfully download the url to: /home/antonkulaga/sources/non-animal-models/data/inputs/datasets/CVD/papers/10.1007/s10439-015-1398-0.pdf\n"
     ]
    },
    {
     "name": "stdout",
     "output_type": "stream",
     "text": [
      " 26% [=============                                     ] 950272/36241515"
     ]
    },
    {
     "name": "stderr",
     "output_type": "stream",
     "text": [
      "[INFO] | 2023/06/23 00:58:03 | Choose scihub url [0]: https://sci-hub.ru\n"
     ]
    },
    {
     "name": "stdout",
     "output_type": "stream",
     "text": [
      " 29% [==============                                    ] 1794048/6061625"
     ]
    },
    {
     "name": "stderr",
     "output_type": "stream",
     "text": [
      "[INFO] | 2023/06/23 00:58:03 | <- Request: scihub_url=https://sci-hub.ru, source=DoiSource[type=doi, id=doi.org/10.5301/ijao.5000301], proxies={}\n"
     ]
    },
    {
     "name": "stdout",
     "output_type": "stream",
     "text": [
      " 44% [======================                            ] 3600384/8085235"
     ]
    },
    {
     "name": "stderr",
     "output_type": "stream",
     "text": [
      "[INFO] | 2023/06/23 00:58:03 | Choose scihub url [0]: https://sci-hub.ru\n"
     ]
    },
    {
     "name": "stdout",
     "output_type": "stream",
     "text": [
      " 28% [==============                                    ] 1048576/3624151"
     ]
    },
    {
     "name": "stderr",
     "output_type": "stream",
     "text": [
      "[INFO] | 2023/06/23 00:58:03 | <- Request: scihub_url=https://sci-hub.ru, source=DoiSource[type=doi, id=doi.org/10.1016/j.biomaterials.2017.10.011], proxies={}\n"
     ]
    },
    {
     "name": "stdout",
     "output_type": "stream",
     "text": [
      " 37% [==================                                ] 2244608/6061625"
     ]
    },
    {
     "name": "stderr",
     "output_type": "stream",
     "text": [
      "[INFO] | 2023/06/23 00:58:03 | -> Response: status_code=200, content_length=7208\n"
     ]
    },
    {
     "name": "stdout",
     "output_type": "stream",
     "text": [
      " 48% [========================                          ] 3923968/8085235"
     ]
    },
    {
     "name": "stderr",
     "output_type": "stream",
     "text": [
      "[INFO] | 2023/06/23 00:58:03 | * Extracted information: {'url': 'https://moscow.sci-hub.ru/3772/bb15de33d90eb110088587dbe81d5395/crowe2013.pdf', 'title': 'Using Software-Based Simulation for Resident Physician Training in the Management of Temporary Pacemakers. Simulation in Healthcare  The Journal of the Society for Simulation in Healthcare, 8(2), 109'}\n"
     ]
    },
    {
     "name": "stdout",
     "output_type": "stream",
     "text": [
      " 18% [=========                                         ] 110592/61120925"
     ]
    },
    {
     "name": "stderr",
     "output_type": "stream",
     "text": [
      "[INFO] | 2023/06/23 00:58:03 | -> Response: status_code=200, content_length=7185\n"
     ]
    },
    {
     "name": "stdout",
     "output_type": "stream",
     "text": [
      " 42% [=====================                             ] 1548288/3624151"
     ]
    },
    {
     "name": "stderr",
     "output_type": "stream",
     "text": [
      "[INFO] | 2023/06/23 00:58:03 | * Extracted information: {'url': 'https://dacemirror.sci-hub.ru/journal-article/7e7a7e0ccfe65658b97381d8d401b19e/cuenca-navalon2014.pdf', 'title': 'Design and Evaluation of a Hybrid Mock Circulatory Loop for total Artificial Heart Testing. The International Journal of Artificial Organs, 37(1), 71–80'}\n"
     ]
    },
    {
     "name": "stdout",
     "output_type": "stream",
     "text": [
      " 45% [======================                            ] 1662976/3624151"
     ]
    },
    {
     "name": "stderr",
     "output_type": "stream",
     "text": [
      "[INFO] | 2023/06/23 00:58:03 | -> Response: status_code=200, content_length=7224\n"
     ]
    },
    {
     "name": "stdout",
     "output_type": "stream",
     "text": [
      " 52% [==========================                        ] 4222976/8085235"
     ]
    },
    {
     "name": "stderr",
     "output_type": "stream",
     "text": [
      "[INFO] | 2023/06/23 00:58:03 | * Extracted information: {'url': 'https://dacemirror.sci-hub.ru/journal-article/da3b3f9c50d1dc94a46f0682b28d1f1d/10.1016@j.biomaterials.2017.10.011.pdf', 'title': 'Heart valve scaffold fabrication  Bioinspired control of macro-scale morphology, mechanics and micro-structure. Biomaterials, 150, 25–37'}\n"
     ]
    },
    {
     "name": "stdout",
     "output_type": "stream",
     "text": [
      " 57% [============================                      ] 2097152/3624151\n",
      "100% [==================================================] 475359/475359\n",
      " 58% [=============================                     ] 2105344/3624151"
     ]
    },
    {
     "name": "stderr",
     "output_type": "stream",
     "text": [
      "[INFO] | 2023/06/23 00:58:03 | ↓ Successfully download the url to: /home/antonkulaga/sources/non-animal-models/data/inputs/datasets/CVD/papers/10.1080/10255842.2012.758254.pdf\n"
     ]
    },
    {
     "name": "stdout",
     "output_type": "stream",
     "text": [
      " 58% [=============================                     ] 2109440/3624151"
     ]
    },
    {
     "name": "stderr",
     "output_type": "stream",
     "text": [
      "[INFO] | 2023/06/23 00:58:03 | ↓ Successfully download the url to: /home/antonkulaga/sources/non-animal-models/data/inputs/datasets/CVD/papers/10.1177/1526602818808049.pdf\n"
     ]
    },
    {
     "name": "stdout",
     "output_type": "stream",
     "text": [
      " 50% [=========================                         ] 3088384/6061625"
     ]
    },
    {
     "name": "stderr",
     "output_type": "stream",
     "text": [
      "[INFO] | 2023/06/23 00:58:04 | Choose scihub url [0]: https://sci-hub.ru\n"
     ]
    },
    {
     "name": "stdout",
     "output_type": "stream",
     "text": [
      " 59% [=============================                     ] 4775936/8085235"
     ]
    },
    {
     "name": "stderr",
     "output_type": "stream",
     "text": [
      "[INFO] | 2023/06/23 00:58:04 | <- Request: scihub_url=https://sci-hub.ru, source=DoiSource[type=doi, id=doi.org/10.1002/jbio.201600288], proxies={}\n"
     ]
    },
    {
     "name": "stdout",
     "output_type": "stream",
     "text": [
      " 59% [=============================                     ] 4784128/8085235"
     ]
    },
    {
     "name": "stderr",
     "output_type": "stream",
     "text": [
      "[INFO] | 2023/06/23 00:58:04 | Choose scihub url [0]: https://sci-hub.ru\n"
     ]
    },
    {
     "name": "stdout",
     "output_type": "stream",
     "text": [
      " 13% [======                                            ] 61440/456318151"
     ]
    },
    {
     "name": "stderr",
     "output_type": "stream",
     "text": [
      "[INFO] | 2023/06/23 00:58:04 | <- Request: scihub_url=https://sci-hub.ru, source=DoiSource[type=doi, id=doi.org/10.1007/s13239-016-0279-5], proxies={}\n"
     ]
    },
    {
     "name": "stdout",
     "output_type": "stream",
     "text": [
      " 79% [=======================================           ] 565248/71131825\n",
      "  9% [====                                              ] 131072/13543505"
     ]
    },
    {
     "name": "stderr",
     "output_type": "stream",
     "text": [
      "[INFO] | 2023/06/23 00:58:04 | ↓ Successfully download the url to: /home/antonkulaga/sources/non-animal-models/data/inputs/datasets/CVD/papers/10.5301/ijao.5000301.pdf\n"
     ]
    },
    {
     "name": "stdout",
     "output_type": "stream",
     "text": [
      " 13% [======                                            ] 176128/13543505"
     ]
    },
    {
     "name": "stderr",
     "output_type": "stream",
     "text": [
      "[INFO] | 2023/06/23 00:58:04 | -> Response: status_code=200, content_length=7173\n"
     ]
    },
    {
     "name": "stdout",
     "output_type": "stream",
     "text": [
      " 13% [======                                            ] 180224/13543505"
     ]
    },
    {
     "name": "stderr",
     "output_type": "stream",
     "text": [
      "[INFO] | 2023/06/23 00:58:04 | -> Response: status_code=200, content_length=7096\n"
     ]
    },
    {
     "name": "stdout",
     "output_type": "stream",
     "text": [
      " 65% [================================                  ] 5275648/8085235"
     ]
    },
    {
     "name": "stderr",
     "output_type": "stream",
     "text": [
      "[INFO] | 2023/06/23 00:58:04 | * Extracted information: {'url': 'https://dacemirror.sci-hub.ru/journal-article/85692acd3ec95fd97d17a0a7e186558d/davari2017.pdf', 'title': 'In-vitro analysis of early calcification in aortic valvular interstitial cells using Laser-Induced Breakdown Spectroscopy (LIBS). Journal of Biophotonics, 11(1), e201600288'}\n"
     ]
    },
    {
     "name": "stdout",
     "output_type": "stream",
     "text": [
      " 93% [==============================================    ] 667648/71131851"
     ]
    },
    {
     "name": "stderr",
     "output_type": "stream",
     "text": [
      "[INFO] | 2023/06/23 00:58:04 | * Extracted information: {'url': 'https://zero.sci-hub.ru/5887/5549396300c86d80441f7815397b8a24/dabiri2016.pdf', 'title': 'Effects of Leaflet Design on Transvalvular Gradients of Bioprosthetic Heart Valves. Cardiovascular Engineering and Technology, 7(4), 363–373'}\n"
     ]
    },
    {
     "name": "stdout",
     "output_type": "stream",
     "text": [
      " 59% [=============================                     ] 3608576/6061625"
     ]
    },
    {
     "name": "stderr",
     "output_type": "stream",
     "text": [
      "[INFO] | 2023/06/23 00:58:04 | Choose scihub url [0]: https://sci-hub.ru\n"
     ]
    },
    {
     "name": "stdout",
     "output_type": "stream",
     "text": [
      " 65% [================================                  ] 5300224/8085235"
     ]
    },
    {
     "name": "stderr",
     "output_type": "stream",
     "text": [
      "[INFO] | 2023/06/23 00:58:04 | <- Request: scihub_url=https://sci-hub.ru, source=DoiSource[type=doi, id=doi.org/10.1016/j.jbiomech.2013.07.010], proxies={}\n"
     ]
    },
    {
     "name": "stdout",
     "output_type": "stream",
     "text": [
      " 17% [========                                          ] 233472/13543505\n",
      " 66% [=================================                 ] 5341184/8085235"
     ]
    },
    {
     "name": "stderr",
     "output_type": "stream",
     "text": [
      "[INFO] | 2023/06/23 00:58:04 | ↓ Successfully download the url to: /home/antonkulaga/sources/non-animal-models/data/inputs/datasets/CVD/papers/10.1097/SIH.0b013e31826ec3e1.pdf\n"
     ]
    },
    {
     "name": "stdout",
     "output_type": "stream",
     "text": [
      " 67% [=================================                 ] 5427200/8085235"
     ]
    },
    {
     "name": "stderr",
     "output_type": "stream",
     "text": [
      "[INFO] | 2023/06/23 00:58:04 | Choose scihub url [0]: https://sci-hub.ru\n"
     ]
    },
    {
     "name": "stdout",
     "output_type": "stream",
     "text": [
      " 61% [==============================                    ] 3743744/6061625"
     ]
    },
    {
     "name": "stderr",
     "output_type": "stream",
     "text": [
      "[INFO] | 2023/06/23 00:58:04 | <- Request: scihub_url=https://sci-hub.ru, source=DoiSource[type=doi, id=doi.org/10.5301/ijao.5000452], proxies={}\n"
     ]
    },
    {
     "name": "stdout",
     "output_type": "stream",
     "text": [
      " 90% [=============================================     ] 3268608/3624151"
     ]
    },
    {
     "name": "stderr",
     "output_type": "stream",
     "text": [
      "[INFO] | 2023/06/23 00:58:04 | -> Response: status_code=200, content_length=7167\n"
     ]
    },
    {
     "name": "stdout",
     "output_type": "stream",
     "text": [
      " 67% [=================================                 ] 4108288/6061625"
     ]
    },
    {
     "name": "stderr",
     "output_type": "stream",
     "text": [
      "[INFO] | 2023/06/23 00:58:04 | * Extracted information: {'url': 'https://zero.sci-hub.ru/2500/adb3e0eec7863350509dceb7a6b53b22/debock2013.pdf', 'title': 'Filling the void  A coalescent numerical and experimental technique to determine aortic stent graft mechanics. Journal of Biomechanics, 46(14), 2477–2482'}\n"
     ]
    },
    {
     "name": "stdout",
     "output_type": "stream",
     "text": [
      " 92% [==============================================    ] 3342336/3624151"
     ]
    },
    {
     "name": "stderr",
     "output_type": "stream",
     "text": [
      "[INFO] | 2023/06/23 00:58:05 | -> Response: status_code=200, content_length=7242\n"
     ]
    },
    {
     "name": "stdout",
     "output_type": "stream",
     "text": [
      " 73% [====================================              ] 5939200/8085235"
     ]
    },
    {
     "name": "stderr",
     "output_type": "stream",
     "text": [
      "[INFO] | 2023/06/23 00:58:05 | * Extracted information: {'url': 'https://zero.sci-hub.ru/7046/852d255746163273c158752089326c92/degaetano2015.pdf', 'title': 'Fluid Dynamic Characterization of a Polymeric Heart Valve Prototype (Poli-Valve) Tested under Continuous and Pulsatile Flow Conditions. The International Journal of Artificial Organs, 38(11), 600–606'}\n"
     ]
    },
    {
     "name": "stdout",
     "output_type": "stream",
     "text": [
      " 79% [=======================================           ] 1073152/1354350\n",
      " 79% [=======================================           ] 1081344/1354350"
     ]
    },
    {
     "name": "stderr",
     "output_type": "stream",
     "text": [
      "[INFO] | 2023/06/23 00:58:05 | ↓ Successfully download the url to: /home/antonkulaga/sources/non-animal-models/data/inputs/datasets/CVD/papers/10.1007/s10439-017-1851-3.pdf\n"
     ]
    },
    {
     "name": "stdout",
     "output_type": "stream",
     "text": [
      " 22% [===========                                       ] 552960/24695950"
     ]
    },
    {
     "name": "stderr",
     "output_type": "stream",
     "text": [
      "[INFO] | 2023/06/23 00:58:05 | Choose scihub url [0]: https://sci-hub.ru\n"
     ]
    },
    {
     "name": "stdout",
     "output_type": "stream",
     "text": [
      " 88% [============================================      ] 1204224/1354350"
     ]
    },
    {
     "name": "stderr",
     "output_type": "stream",
     "text": [
      "[INFO] | 2023/06/23 00:58:05 | <- Request: scihub_url=https://sci-hub.ru, source=DoiSource[type=doi, id=doi.org/10.1007/s10237-017-0973-8], proxies={}\n"
     ]
    },
    {
     "name": "stdout",
     "output_type": "stream",
     "text": [
      "  6% [===                                               ] 49152/812633570\n",
      "  7% [===                                               ] 172032/23758195"
     ]
    },
    {
     "name": "stderr",
     "output_type": "stream",
     "text": [
      "[INFO] | 2023/06/23 00:58:05 | ↓ Successfully download the url to: /home/antonkulaga/sources/non-animal-models/data/inputs/datasets/CVD/papers/10.1016/j.biomaterials.2017.10.011.pdf\n"
     ]
    },
    {
     "name": "stdout",
     "output_type": "stream",
     "text": [
      " 10% [=====                                             ] 241664/23758195"
     ]
    },
    {
     "name": "stderr",
     "output_type": "stream",
     "text": [
      "[INFO] | 2023/06/23 00:58:05 | Choose scihub url [0]: https://sci-hub.ru\n"
     ]
    },
    {
     "name": "stdout",
     "output_type": "stream",
     "text": [
      " 10% [=====                                             ] 245760/23758195"
     ]
    },
    {
     "name": "stderr",
     "output_type": "stream",
     "text": [
      "[INFO] | 2023/06/23 00:58:05 | <- Request: scihub_url=https://sci-hub.ru, source=DoiSource[type=doi, id=doi.org/10.1089/ten.tea.2016.0032], proxies={}\n"
     ]
    },
    {
     "name": "stdout",
     "output_type": "stream",
     "text": [
      " 83% [=========================================         ] 6770688/8085235"
     ]
    },
    {
     "name": "stderr",
     "output_type": "stream",
     "text": [
      "[INFO] | 2023/06/23 00:58:05 | -> Response: status_code=200, content_length=7110\n"
     ]
    },
    {
     "name": "stdout",
     "output_type": "stream",
     "text": [
      " 83% [=========================================         ] 5050368/6061625"
     ]
    },
    {
     "name": "stderr",
     "output_type": "stream",
     "text": [
      "[INFO] | 2023/06/23 00:58:05 | * Extracted information: {'url': 'https://zero.sci-hub.ru/6584/67c863fbd6d16892d5613737aed8ad7c/devilliers2017.pdf', 'title': 'A validated patient-specific FSI model for vascular access in haemodialysis. Biomechanics and Modeling in Mechanobiology, 17(2), 479–497'}\n"
     ]
    },
    {
     "name": "stdout",
     "output_type": "stream",
     "text": [
      " 26% [=============                                     ] 618496/23758195"
     ]
    },
    {
     "name": "stderr",
     "output_type": "stream",
     "text": [
      "[INFO] | 2023/06/23 00:58:05 | -> Response: status_code=200, content_length=7099\n"
     ]
    },
    {
     "name": "stdout",
     "output_type": "stream",
     "text": [
      " 86% [===========================================       ] 5259264/6061625"
     ]
    },
    {
     "name": "stderr",
     "output_type": "stream",
     "text": [
      "[INFO] | 2023/06/23 00:58:05 | * Extracted information: {'url': 'https://zero.sci-hub.ru/5930/c0385affc692ff600407b3608c2cf7cb/deborde2016.pdf', 'title': 'Stabilized Collagen and Elastin-Based Scaffolds for Mitral Valve Tissue Engineering. Tissue Engineering Part A, 22(21-22), 1241–1251'}\n"
     ]
    },
    {
     "name": "stdout",
     "output_type": "stream",
     "text": [
      " 59% [=============================                     ] 1470464/2469595\n",
      " 60% [==============================                    ] 1261568/2092657"
     ]
    },
    {
     "name": "stderr",
     "output_type": "stream",
     "text": [
      "[INFO] | 2023/06/23 00:58:06 | ↓ Successfully download the url to: /home/antonkulaga/sources/non-animal-models/data/inputs/datasets/CVD/papers/10.5301/ijao.5000452.pdf\n"
     ]
    },
    {
     "name": "stdout",
     "output_type": "stream",
     "text": [
      " 66% [=================================                 ] 1384448/2092657"
     ]
    },
    {
     "name": "stderr",
     "output_type": "stream",
     "text": [
      "[INFO] | 2023/06/23 00:58:06 | Choose scihub url [0]: https://sci-hub.ru\n"
     ]
    },
    {
     "name": "stdout",
     "output_type": "stream",
     "text": [
      " 92% [==============================================    ] 5636096/6061625"
     ]
    },
    {
     "name": "stderr",
     "output_type": "stream",
     "text": [
      "[INFO] | 2023/06/23 00:58:06 | <- Request: scihub_url=https://sci-hub.ru, source=DoiSource[type=doi, id=doi.org/10.1007/s00348-016-2263-0], proxies={}\n"
     ]
    },
    {
     "name": "stdout",
     "output_type": "stream",
     "text": [
      " 20% [==========                                        ] 618496/29838645\n",
      " 96% [================================================  ] 7790592/8085235"
     ]
    },
    {
     "name": "stderr",
     "output_type": "stream",
     "text": [
      "[INFO] | 2023/06/23 00:58:06 | ↓ Successfully download the url to: /home/antonkulaga/sources/non-animal-models/data/inputs/datasets/CVD/papers/10.1016/j.jtcvs.2017.09.046.pdf\n"
     ]
    },
    {
     "name": "stdout",
     "output_type": "stream",
     "text": [
      " 91% [=============================================     ] 1908736/2092657"
     ]
    },
    {
     "name": "stderr",
     "output_type": "stream",
     "text": [
      "[INFO] | 2023/06/23 00:58:06 | Choose scihub url [0]: https://sci-hub.ru\n"
     ]
    },
    {
     "name": "stdout",
     "output_type": "stream",
     "text": [
      " 24% [============                                      ] 720896/29838649"
     ]
    },
    {
     "name": "stderr",
     "output_type": "stream",
     "text": [
      "[INFO] | 2023/06/23 00:58:06 | -> Response: status_code=200, content_length=7065\n"
     ]
    },
    {
     "name": "stdout",
     "output_type": "stream",
     "text": [
      " 85% [==========================================        ] 2101248/2469595"
     ]
    },
    {
     "name": "stderr",
     "output_type": "stream",
     "text": [
      "[INFO] | 2023/06/23 00:58:06 | <- Request: scihub_url=https://sci-hub.ru, source=DoiSource[type=doi, id=doi.org/10.1007/s00701-018-3712-8], proxies={}\n"
     ]
    },
    {
     "name": "stdout",
     "output_type": "stream",
     "text": [
      " 10% [=====                                             ] 98304/968268657"
     ]
    },
    {
     "name": "stderr",
     "output_type": "stream",
     "text": [
      "[INFO] | 2023/06/23 00:58:06 | * Extracted information: {'url': 'https://dacemirror.sci-hub.ru/journal-article/4357e33080009f91754a48e09fa6d8eb/deplano2016.pdf', 'title': '3D analysis of vortical structures in an abdominal aortic aneurysm by stereoscopic PIV. Experiments in Fluids, 57(11)'}\n"
     ]
    },
    {
     "name": "stdout",
     "output_type": "stream",
     "text": [
      " 99% [================================================= ] 8069120/8085235\n",
      " 27% [=============                                     ] 270336/96826819"
     ]
    },
    {
     "name": "stderr",
     "output_type": "stream",
     "text": [
      "[INFO] | 2023/06/23 00:58:06 | ↓ Successfully download the url to: /home/antonkulaga/sources/non-animal-models/data/inputs/datasets/CVD/papers/10.1002/jbio.201600288.pdf\n"
     ]
    },
    {
     "name": "stdout",
     "output_type": "stream",
     "text": [
      " 73% [====================================              ] 1753088/2375819\n",
      " 29% [==============                                    ] 892928/29838649"
     ]
    },
    {
     "name": "stderr",
     "output_type": "stream",
     "text": [
      "[INFO] | 2023/06/23 00:58:06 | ↓ Successfully download the url to: /home/antonkulaga/sources/non-animal-models/data/inputs/datasets/CVD/papers/10.1115/1.4023235.pdf\n"
     ]
    },
    {
     "name": "stdout",
     "output_type": "stream",
     "text": [
      " 33% [================                                  ] 1007616/2983864"
     ]
    },
    {
     "name": "stderr",
     "output_type": "stream",
     "text": [
      "[INFO] | 2023/06/23 00:58:06 | Choose scihub url [0]: https://sci-hub.ru\n"
     ]
    },
    {
     "name": "stdout",
     "output_type": "stream",
     "text": [
      " 97% [================================================  ] 2416640/2469595"
     ]
    },
    {
     "name": "stderr",
     "output_type": "stream",
     "text": [
      "[INFO] | 2023/06/23 00:58:06 | <- Request: scihub_url=https://sci-hub.ru, source=DoiSource[type=doi, id=doi.org/10.1049/htl.2013.0040], proxies={}\n"
     ]
    },
    {
     "name": "stdout",
     "output_type": "stream",
     "text": [
      " 98% [================================================= ] 2433024/2469595"
     ]
    },
    {
     "name": "stderr",
     "output_type": "stream",
     "text": [
      "[INFO] | 2023/06/23 00:58:06 | Choose scihub url [0]: https://sci-hub.ru\n"
     ]
    },
    {
     "name": "stdout",
     "output_type": "stream",
     "text": [
      " 99% [================================================= ] 2453504/2469595"
     ]
    },
    {
     "name": "stderr",
     "output_type": "stream",
     "text": [
      "[INFO] | 2023/06/23 00:58:06 | <- Request: scihub_url=https://sci-hub.ru, source=DoiSource[type=doi, id=doi.org/10.1016/j.jbiomech.2012.10.006], proxies={}\n"
     ]
    },
    {
     "name": "stdout",
     "output_type": "stream",
     "text": [
      " 35% [=================                                 ] 1056768/2983864\n",
      " 81% [========================================          ] 1933312/2375819"
     ]
    },
    {
     "name": "stderr",
     "output_type": "stream",
     "text": [
      "[INFO] | 2023/06/23 00:58:06 | ↓ Successfully download the url to: /home/antonkulaga/sources/non-animal-models/data/inputs/datasets/CVD/papers/10.1007/s13239-016-0279-5.pdf\n"
     ]
    },
    {
     "name": "stdout",
     "output_type": "stream",
     "text": [
      " 86% [===========================================       ] 2064384/2375819"
     ]
    },
    {
     "name": "stderr",
     "output_type": "stream",
     "text": [
      "[INFO] | 2023/06/23 00:58:07 | -> Response: status_code=200, content_length=7051\n"
     ]
    },
    {
     "name": "stdout",
     "output_type": "stream",
     "text": [
      " 87% [===========================================       ] 2072576/2375819"
     ]
    },
    {
     "name": "stderr",
     "output_type": "stream",
     "text": [
      "[INFO] | 2023/06/23 00:58:07 | * Extracted information: {'url': 'https://sci-hub.ru/tree/39/45/3945f0c5668675dc9dd7c3aff6af970f.pdf', 'title': 'External validation of cerebral aneurysm rupture probability model with data from two patient cohorts. Acta Neurochirurgica'}\n"
     ]
    },
    {
     "name": "stdout",
     "output_type": "stream",
     "text": [
      " 39% [===================                               ] 1191936/2983864"
     ]
    },
    {
     "name": "stderr",
     "output_type": "stream",
     "text": [
      "[INFO] | 2023/06/23 00:58:07 | Choose scihub url [0]: https://sci-hub.ru\n"
     ]
    },
    {
     "name": "stdout",
     "output_type": "stream",
     "text": [
      " 60% [==============================                    ] 581632/96826819"
     ]
    },
    {
     "name": "stderr",
     "output_type": "stream",
     "text": [
      "[INFO] | 2023/06/23 00:58:07 | <- Request: scihub_url=https://sci-hub.ru, source=DoiSource[type=doi, id=doi.org/10.1088/0957-4484/25/14/145101], proxies={}\n"
     ]
    },
    {
     "name": "stdout",
     "output_type": "stream",
     "text": [
      " 49% [========================                          ] 1486848/2983864\n",
      " 87% [===========================================       ] 851968/96826864"
     ]
    },
    {
     "name": "stderr",
     "output_type": "stream",
     "text": [
      "[INFO] | 2023/06/23 00:58:07 | ↓ Successfully download the url to: /home/antonkulaga/sources/non-animal-models/data/inputs/datasets/CVD/papers/10.1016/j.jbiomech.2013.07.010.pdf\n"
     ]
    },
    {
     "name": "stdout",
     "output_type": "stream",
     "text": [
      "100% [==================================================] 968268/96826864\n",
      " 54% [===========================                       ] 1626112/2983864"
     ]
    },
    {
     "name": "stderr",
     "output_type": "stream",
     "text": [
      "[INFO] | 2023/06/23 00:58:07 | ↓ Successfully download the url to: /home/antonkulaga/sources/non-animal-models/data/inputs/datasets/CVD/papers/10.1089/ten.tea.2016.0032.pdf\n",
      "[INFO] | 2023/06/23 00:58:07 | Choose scihub url [0]: https://sci-hub.ru\n"
     ]
    },
    {
     "name": "stdout",
     "output_type": "stream",
     "text": [
      " 54% [===========================                       ] 1634304/2983864"
     ]
    },
    {
     "name": "stderr",
     "output_type": "stream",
     "text": [
      "[INFO] | 2023/06/23 00:58:07 | -> Response: status_code=200, content_length=7222\n"
     ]
    },
    {
     "name": "stdout",
     "output_type": "stream",
     "text": [
      " 59% [=============================                     ] 1765376/2983864"
     ]
    },
    {
     "name": "stderr",
     "output_type": "stream",
     "text": [
      "[INFO] | 2023/06/23 00:58:07 | -> Response: status_code=200, content_length=7153\n"
     ]
    },
    {
     "name": "stdout",
     "output_type": "stream",
     "text": [
      " 59% [=============================                     ] 1773568/2983864"
     ]
    },
    {
     "name": "stderr",
     "output_type": "stream",
     "text": [
      "[INFO] | 2023/06/23 00:58:07 | * Extracted information: {'url': 'https://dacemirror.sci-hub.ru/journal-article/d5c905a184af001aba3262e0bc526d55/doherty2013.pdf', 'title': 'Acoustic radiation force impulse imaging of vulnerable plaques  a finite element method parametric analysis. Journal of Biomechanics, 46(1), 83–90'}\n"
     ]
    },
    {
     "name": "stdout",
     "output_type": "stream",
     "text": [
      "  0% [                                                  ] 16384/4486775"
     ]
    },
    {
     "name": "stderr",
     "output_type": "stream",
     "text": [
      "[INFO] | 2023/06/23 00:58:07 | <- Request: scihub_url=https://sci-hub.ru, source=DoiSource[type=doi, id=doi.org/10.1016/j.jvs.2017.08.094], proxies={}\n"
     ]
    },
    {
     "name": "stdout",
     "output_type": "stream",
     "text": [
      "  0% [                                                  ] 20480/448677564"
     ]
    },
    {
     "name": "stderr",
     "output_type": "stream",
     "text": [
      "[INFO] | 2023/06/23 00:58:07 | * Extracted information: {'url': 'https://moscow.sci-hub.ru/5117/aefd9fefc6119164d32af8e80c43a03d/10.1049@htl.2013.0040.pdf', 'title': 'Towards personalised management of atherosclerosis via computational models in vascular clinics  technology based on patient-specific simulation approach. Healthcare Technology Letters, 1(1), 13–18'}\n"
     ]
    },
    {
     "name": "stdout",
     "output_type": "stream",
     "text": [
      " 60% [==============================                    ] 1798144/2983864"
     ]
    },
    {
     "name": "stderr",
     "output_type": "stream",
     "text": [
      "[INFO] | 2023/06/23 00:58:07 | Choose scihub url [0]: https://sci-hub.ru\n"
     ]
    },
    {
     "name": "stdout",
     "output_type": "stream",
     "text": [
      " 60% [==============================                    ] 1810432/2983864"
     ]
    },
    {
     "name": "stderr",
     "output_type": "stream",
     "text": [
      "[INFO] | 2023/06/23 00:58:07 | <- Request: scihub_url=https://sci-hub.ru, source=DoiSource[type=doi, id=doi.org/10.1007/s10439-019-02201-8], proxies={}\n"
     ]
    },
    {
     "name": "stdout",
     "output_type": "stream",
     "text": [
      " 73% [====================================              ] 2195456/2983864"
     ]
    },
    {
     "name": "stderr",
     "output_type": "stream",
     "text": [
      "[INFO] | 2023/06/23 00:58:07 | -> Response: status_code=200, content_length=7064\n"
     ]
    },
    {
     "name": "stdout",
     "output_type": "stream",
     "text": [
      "  0% [                                                  ] 8192/1434006864"
     ]
    },
    {
     "name": "stderr",
     "output_type": "stream",
     "text": [
      "[INFO] | 2023/06/23 00:58:07 | * Extracted information: {'url': 'https://zero.sci-hub.ru/3129/87e796a4cfcb5a0b34f4be2e1a4ffb23/dolati2014.pdf', 'title': 'In vitroevaluation of carbon-nanotube-reinforced bioprintable vascular conduits. Nanotechnology, 25(14), 145101'}\n"
     ]
    },
    {
     "name": "stdout",
     "output_type": "stream",
     "text": [
      " 95% [===============================================   ] 2854912/2983864"
     ]
    },
    {
     "name": "stderr",
     "output_type": "stream",
     "text": [
      "[INFO] | 2023/06/23 00:58:07 | -> Response: status_code=200, content_length=6992\n"
     ]
    },
    {
     "name": "stdout",
     "output_type": "stream",
     "text": [
      " 96% [================================================  ] 2871296/2983864"
     ]
    },
    {
     "name": "stderr",
     "output_type": "stream",
     "text": [
      "[INFO] | 2023/06/23 00:58:07 | * Extracted information: {'url': 'https://dacemirror.sci-hub.ru/journal-article/f9097a57d2253b51c8456fad8c2c8de8/domanin2017.pdf', 'title': ''}\n"
     ]
    },
    {
     "name": "stdout",
     "output_type": "stream",
     "text": [
      " 29% [==============                                    ] 425984/14340064\n",
      "  8% [====                                              ] 368640/4486775"
     ]
    },
    {
     "name": "stderr",
     "output_type": "stream",
     "text": [
      "[INFO] | 2023/06/23 00:58:07 | ↓ Successfully download the url to: /home/antonkulaga/sources/non-animal-models/data/inputs/datasets/CVD/papers/10.1007/s10237-017-0973-8.pdf\n"
     ]
    },
    {
     "name": "stdout",
     "output_type": "stream",
     "text": [
      " 30% [===============                                   ] 442368/1434006"
     ]
    },
    {
     "name": "stderr",
     "output_type": "stream",
     "text": [
      "[INFO] | 2023/06/23 00:58:07 | -> Response: status_code=200, content_length=7144\n"
     ]
    },
    {
     "name": "stdout",
     "output_type": "stream",
     "text": [
      " 31% [===============                                   ] 454656/1434006"
     ]
    },
    {
     "name": "stderr",
     "output_type": "stream",
     "text": [
      "[INFO] | 2023/06/23 00:58:07 | * Extracted information: {'url': 'https://sci-hub.ru/downloads/2019-01-19//58/10.1007@s10439-019-02201-8.pdf', 'title': 'Prediction of Long Term Restenosis Risk After Surgery in the Carotid Bifurcation by Hemodynamic and Geometric Analysis. Annals of Biomedical Engineering'}\n"
     ]
    },
    {
     "name": "stdout",
     "output_type": "stream",
     "text": [
      " 10% [=====                                             ] 491520/4486775"
     ]
    },
    {
     "name": "stderr",
     "output_type": "stream",
     "text": [
      "[INFO] | 2023/06/23 00:58:07 | Choose scihub url [0]: https://sci-hub.ru\n"
     ]
    },
    {
     "name": "stdout",
     "output_type": "stream",
     "text": [
      " 40% [====================                              ] 577536/1434006"
     ]
    },
    {
     "name": "stderr",
     "output_type": "stream",
     "text": [
      "[INFO] | 2023/06/23 00:58:07 | <- Request: scihub_url=https://sci-hub.ru, source=DoiSource[type=doi, id=doi.org/10.1016/j.medengphy.2014.03.006], proxies={}\n"
     ]
    },
    {
     "name": "stdout",
     "output_type": "stream",
     "text": [
      " 26% [=============                                     ] 696320/25887955\n",
      " 30% [===============                                   ] 1359872/4486775"
     ]
    },
    {
     "name": "stderr",
     "output_type": "stream",
     "text": [
      "[INFO] | 2023/06/23 00:58:08 | ↓ Successfully download the url to: /home/antonkulaga/sources/non-animal-models/data/inputs/datasets/CVD/papers/10.1007/s00701-018-3712-8.pdf\n"
     ]
    },
    {
     "name": "stdout",
     "output_type": "stream",
     "text": [
      " 32% [================                                  ] 1458176/4486775"
     ]
    },
    {
     "name": "stderr",
     "output_type": "stream",
     "text": [
      "[INFO] | 2023/06/23 00:58:08 | Choose scihub url [0]: https://sci-hub.ru\n"
     ]
    },
    {
     "name": "stdout",
     "output_type": "stream",
     "text": [
      " 32% [================                                  ] 1470464/4486775"
     ]
    },
    {
     "name": "stderr",
     "output_type": "stream",
     "text": [
      "[INFO] | 2023/06/23 00:58:08 | <- Request: scihub_url=https://sci-hub.ru, source=DoiSource[type=doi, id=doi.org/10.1016/j.yjmcc.2017.12.014], proxies={}\n"
     ]
    },
    {
     "name": "stdout",
     "output_type": "stream",
     "text": [
      "  4% [==                                                ] 196608/42713495"
     ]
    },
    {
     "name": "stderr",
     "output_type": "stream",
     "text": [
      "[INFO] | 2023/06/23 00:58:08 | -> Response: status_code=200, content_length=7187\n"
     ]
    },
    {
     "name": "stdout",
     "output_type": "stream",
     "text": [
      " 29% [==============                                    ] 376832/12968375"
     ]
    },
    {
     "name": "stderr",
     "output_type": "stream",
     "text": [
      "[INFO] | 2023/06/23 00:58:08 | * Extracted information: {'url': 'https://zero.sci-hub.ru/2501/a2ced82ad5e476542479190d1b9ac29c/dordoni2014.pdf', 'title': 'Fatigue behaviour of Nitinol peripheral stents  The role of plaque shape studied with computational structural analyses. Medical Engineering & Physics, 36(7), 842–849'}\n"
     ]
    },
    {
     "name": "stdout",
     "output_type": "stream",
     "text": [
      " 17% [========                                          ] 737280/42713495"
     ]
    },
    {
     "name": "stderr",
     "output_type": "stream",
     "text": [
      "[INFO] | 2023/06/23 00:58:08 | -> Response: status_code=200, content_length=7040\n"
     ]
    },
    {
     "name": "stdout",
     "output_type": "stream",
     "text": [
      " 45% [======================                            ] 2043904/4486775"
     ]
    },
    {
     "name": "stderr",
     "output_type": "stream",
     "text": [
      "[INFO] | 2023/06/23 00:58:08 | * Extracted information: {'url': 'https://zero.sci-hub.ru/6616/40af3439acde481ac23871a7cae2938d/driesbaugh2017.pdf', 'title': ''}\n"
     ]
    },
    {
     "name": "stdout",
     "output_type": "stream",
     "text": [
      "  9% [====                                              ] 307200/32425689\n",
      " 24% [============                                      ] 1056768/4271349"
     ]
    },
    {
     "name": "stderr",
     "output_type": "stream",
     "text": [
      "[INFO] | 2023/06/23 00:58:08 | ↓ Successfully download the url to: /home/antonkulaga/sources/non-animal-models/data/inputs/datasets/CVD/papers/10.1049/htl.2013.0040.pdf\n"
     ]
    },
    {
     "name": "stdout",
     "output_type": "stream",
     "text": [
      " 54% [===========================                       ] 2433024/4486775\n",
      " 11% [=====                                             ] 385024/32425689"
     ]
    },
    {
     "name": "stderr",
     "output_type": "stream",
     "text": [
      "[INFO] | 2023/06/23 00:58:08 | ↓ Successfully download the url to: /home/antonkulaga/sources/non-animal-models/data/inputs/datasets/CVD/papers/10.1016/j.jbiomech.2012.10.006.pdf\n"
     ]
    },
    {
     "name": "stdout",
     "output_type": "stream",
     "text": [
      " 56% [============================                      ] 2523136/4486775"
     ]
    },
    {
     "name": "stderr",
     "output_type": "stream",
     "text": [
      "[INFO] | 2023/06/23 00:58:08 | Choose scihub url [0]: https://sci-hub.ru\n"
     ]
    },
    {
     "name": "stdout",
     "output_type": "stream",
     "text": [
      "  3% [=                                                 ] 49152/146388989"
     ]
    },
    {
     "name": "stderr",
     "output_type": "stream",
     "text": [
      "[INFO] | 2023/06/23 00:58:08 | Choose scihub url [0]: https://sci-hub.ru\n"
     ]
    },
    {
     "name": "stdout",
     "output_type": "stream",
     "text": [
      " 72% [====================================              ] 1875968/2588795"
     ]
    },
    {
     "name": "stderr",
     "output_type": "stream",
     "text": [
      "[INFO] | 2023/06/23 00:58:09 | <- Request: scihub_url=https://sci-hub.ru, source=DoiSource[type=doi, id=doi.org/10.1016/j.actbio.2013.04.050], proxies={}\n"
     ]
    },
    {
     "name": "stdout",
     "output_type": "stream",
     "text": [
      " 56% [============================                      ] 2539520/4486775"
     ]
    },
    {
     "name": "stderr",
     "output_type": "stream",
     "text": [
      "[INFO] | 2023/06/23 00:58:09 | <- Request: scihub_url=https://sci-hub.ru, source=DoiSource[type=doi, id=doi.org/10.1016/j.yjmcc.2014.05.013], proxies={}\n"
     ]
    },
    {
     "name": "stdout",
     "output_type": "stream",
     "text": [
      " 41% [====================                              ] 1753088/4271349"
     ]
    },
    {
     "name": "stderr",
     "output_type": "stream",
     "text": [
      "[INFO] | 2023/06/23 00:58:09 | -> Response: status_code=200, content_length=7205\n"
     ]
    },
    {
     "name": "stdout",
     "output_type": "stream",
     "text": [
      " 69% [==================================                ] 3104768/4486775"
     ]
    },
    {
     "name": "stderr",
     "output_type": "stream",
     "text": [
      "[INFO] | 2023/06/23 00:58:09 | * Extracted information: {'url': 'https://dacemirror.sci-hub.ru/journal-article/8e079e3ab302e0c2368e4d24383ec60e/du2014.pdf', 'title': 'Ranolazine inhibition of hERG potassium channels  Drug–pore interactions and reduced potency against inactivation mutants. Journal of Molecular and Cellular Cardiology, 74, 220–230'}\n"
     ]
    },
    {
     "name": "stdout",
     "output_type": "stream",
     "text": [
      " 45% [======================                            ] 1925120/4271349\n",
      " 45% [======================                            ] 1929216/4271349"
     ]
    },
    {
     "name": "stderr",
     "output_type": "stream",
     "text": [
      "[INFO] | 2023/06/23 00:58:09 | ↓ Successfully download the url to: /home/antonkulaga/sources/non-animal-models/data/inputs/datasets/CVD/papers/10.1088/0957-4484/25/14/145101.pdf\n"
     ]
    },
    {
     "name": "stdout",
     "output_type": "stream",
     "text": [
      " 47% [=======================                           ] 2019328/4271349"
     ]
    },
    {
     "name": "stderr",
     "output_type": "stream",
     "text": [
      "[INFO] | 2023/06/23 00:58:09 | Choose scihub url [0]: https://sci-hub.ru\n"
     ]
    },
    {
     "name": "stdout",
     "output_type": "stream",
     "text": [
      " 34% [=================                                 ] 692224/20311169"
     ]
    },
    {
     "name": "stderr",
     "output_type": "stream",
     "text": [
      "[INFO] | 2023/06/23 00:58:09 | <- Request: scihub_url=https://sci-hub.ru, source=DoiSource[type=doi, id=doi.org/10.1016/j.actbio.2014.04.033], proxies={}\n"
     ]
    },
    {
     "name": "stdout",
     "output_type": "stream",
     "text": [
      " 67% [=================================                 ] 995328/14638899"
     ]
    },
    {
     "name": "stderr",
     "output_type": "stream",
     "text": [
      "[INFO] | 2023/06/23 00:58:09 | -> Response: status_code=200, content_length=7126\n"
     ]
    },
    {
     "name": "stdout",
     "output_type": "stream",
     "text": [
      " 50% [=========================                         ] 2146304/4271349"
     ]
    },
    {
     "name": "stderr",
     "output_type": "stream",
     "text": [
      "[INFO] | 2023/06/23 00:58:09 | * Extracted information: {'url': 'https://moscow.sci-hub.ru/2487/0c0b48b6555e1d781bba954c50c712eb/duan2013.pdf', 'title': 'Stiffness and adhesivity control aortic valve interstitial cell behavior within hyaluronic acid based hydrogels. Acta Biomaterialia, 9(8), 7640–7650'}\n"
     ]
    },
    {
     "name": "stdout",
     "output_type": "stream",
     "text": [
      " 57% [============================                      ] 1167360/2031116"
     ]
    },
    {
     "name": "stderr",
     "output_type": "stream",
     "text": [
      "[INFO] | 2023/06/23 00:58:09 | -> Response: status_code=200, content_length=7244\n"
     ]
    },
    {
     "name": "stdout",
     "output_type": "stream",
     "text": [
      " 95% [===============================================   ] 1396736/1463889"
     ]
    },
    {
     "name": "stderr",
     "output_type": "stream",
     "text": [
      "[INFO] | 2023/06/23 00:58:09 | * Extracted information: {'url': 'https://zero.sci-hub.ru/2525/2a457a5b71d387ca371913abb06dbdd3/10.1016@j.actbio.2014.04.033.pdf', 'title': 'Progress in developing a living human tissue-engineered tri-leaflet heart valve assembled from tissue produced by the self-assembly approach. Acta Biomaterialia, 10(8), 3563–3570'}\n"
     ]
    },
    {
     "name": "stdout",
     "output_type": "stream",
     "text": [
      "  0% [                                                  ] 20480/374745216\n",
      " 57% [============================                      ] 1875968/3242568"
     ]
    },
    {
     "name": "stderr",
     "output_type": "stream",
     "text": [
      "[INFO] | 2023/06/23 00:58:10 | ↓ Successfully download the url to: /home/antonkulaga/sources/non-animal-models/data/inputs/datasets/CVD/papers/10.1016/j.yjmcc.2017.12.014.pdf\n"
     ]
    },
    {
     "name": "stdout",
     "output_type": "stream",
     "text": [
      "  3% [=                                                 ] 114688/37474525"
     ]
    },
    {
     "name": "stderr",
     "output_type": "stream",
     "text": [
      "[INFO] | 2023/06/23 00:58:10 | Choose scihub url [0]: https://sci-hub.ru\n"
     ]
    },
    {
     "name": "stdout",
     "output_type": "stream",
     "text": [
      " 61% [==============================                    ] 1986560/3242568"
     ]
    },
    {
     "name": "stderr",
     "output_type": "stream",
     "text": [
      "[INFO] | 2023/06/23 00:58:10 | <- Request: scihub_url=https://sci-hub.ru, source=DoiSource[type=doi, id=doi.org/10.1016/j.jbiomech.2016.10.050], proxies={}\n"
     ]
    },
    {
     "name": "stdout",
     "output_type": "stream",
     "text": [
      " 44% [======================                            ] 729088/16461485"
     ]
    },
    {
     "name": "stderr",
     "output_type": "stream",
     "text": [
      "[INFO] | 2023/06/23 00:58:10 | -> Response: status_code=200, content_length=7145\n"
     ]
    },
    {
     "name": "stdout",
     "output_type": "stream",
     "text": [
      " 87% [===========================================       ] 1773568/2031116"
     ]
    },
    {
     "name": "stderr",
     "output_type": "stream",
     "text": [
      "[INFO] | 2023/06/23 00:58:10 | * Extracted information: {'url': 'https://zero.sci-hub.ru/6113/6bc2ee3610394fe3baaf937cb6bde56e/ducci2016.pdf', 'title': 'Transcatheter aortic valves produce unphysiological flows which may contribute to thromboembolic events  An in-vitro study. Journal of Biomechanics, 49(16), 4080–4089'}\n"
     ]
    },
    {
     "name": "stdout",
     "output_type": "stream",
     "text": [
      " 14% [=======                                           ] 532480/37474529\n",
      " 87% [===========================================       ] 1785856/2031116"
     ]
    },
    {
     "name": "stderr",
     "output_type": "stream",
     "text": [
      "[INFO] | 2023/06/23 00:58:10 | ↓ Successfully download the url to: /home/antonkulaga/sources/non-animal-models/data/inputs/datasets/CVD/papers/10.1007/s00348-016-2263-0.pdf\n"
     ]
    },
    {
     "name": "stdout",
     "output_type": "stream",
     "text": [
      " 75% [=====================================             ] 3215360/4271349"
     ]
    },
    {
     "name": "stderr",
     "output_type": "stream",
     "text": [
      "[INFO] | 2023/06/23 00:58:10 | Choose scihub url [0]: https://sci-hub.ru\n"
     ]
    },
    {
     "name": "stdout",
     "output_type": "stream",
     "text": [
      " 75% [=====================================             ] 3227648/4271349"
     ]
    },
    {
     "name": "stderr",
     "output_type": "stream",
     "text": [
      "[INFO] | 2023/06/23 00:58:10 | <- Request: scihub_url=https://sci-hub.ru, source=DoiSource[type=doi, id=doi.org/10.1016/j.jvs.2014.03.274], proxies={}\n"
     ]
    },
    {
     "name": "stdout",
     "output_type": "stream",
     "text": [
      " 81% [========================================          ] 2654208/3242568\n",
      " 79% [=======================================           ] 3391488/4271349"
     ]
    },
    {
     "name": "stderr",
     "output_type": "stream",
     "text": [
      "[INFO] | 2023/06/23 00:58:10 | ↓ Successfully download the url to: /home/antonkulaga/sources/non-animal-models/data/inputs/datasets/CVD/papers/10.1016/j.jvs.2017.08.094.pdf\n"
     ]
    },
    {
     "name": "stdout",
     "output_type": "stream",
     "text": [
      " 81% [========================================          ] 3489792/4271349"
     ]
    },
    {
     "name": "stderr",
     "output_type": "stream",
     "text": [
      "[INFO] | 2023/06/23 00:58:10 | Choose scihub url [0]: https://sci-hub.ru\n"
     ]
    },
    {
     "name": "stdout",
     "output_type": "stream",
     "text": [
      " 81% [========================================          ] 3502080/4271349"
     ]
    },
    {
     "name": "stderr",
     "output_type": "stream",
     "text": [
      "[INFO] | 2023/06/23 00:58:10 | <- Request: scihub_url=https://sci-hub.ru, source=DoiSource[type=doi, id=doi.org/10.1109/TBME.2012.2235440], proxies={}\n"
     ]
    },
    {
     "name": "stdout",
     "output_type": "stream",
     "text": [
      " 84% [==========================================        ] 3629056/4271349"
     ]
    },
    {
     "name": "stderr",
     "output_type": "stream",
     "text": [
      "[INFO] | 2023/06/23 00:58:11 | -> Response: status_code=200, content_length=7118\n"
     ]
    },
    {
     "name": "stdout",
     "output_type": "stream",
     "text": [
      " 75% [=====================================             ] 1249280/1646148"
     ]
    },
    {
     "name": "stderr",
     "output_type": "stream",
     "text": [
      "[INFO] | 2023/06/23 00:58:11 | * Extracted information: {'url': 'https://zero.sci-hub.ru/2494/3c847d3ad86c23ad68f6c871b14b7bf0/duellman2014.pdf', 'title': 'Analysis of multiple genetic polymorphisms in aggressive-growing and slow-growing abdominal aortic aneurysms. Journal of Vascular Surgery, 60(3), 613–621.e3'}\n"
     ]
    },
    {
     "name": "stdout",
     "output_type": "stream",
     "text": [
      " 22% [===========                                       ] 450560/20394798"
     ]
    },
    {
     "name": "stderr",
     "output_type": "stream",
     "text": [
      "[INFO] | 2023/06/23 00:58:11 | -> Response: status_code=200, content_length=7214\n"
     ]
    },
    {
     "name": "stdout",
     "output_type": "stream",
     "text": [
      " 97% [================================================  ] 3145728/3242568"
     ]
    },
    {
     "name": "stderr",
     "output_type": "stream",
     "text": [
      "[INFO] | 2023/06/23 00:58:11 | * Extracted information: {'url': 'https://dacemirror.sci-hub.ru/journal-article/59cb46d00899ccd178fa541a9bd80b74/dumenil2013.pdf', 'title': 'Finite-Element-Based Matching of Pre- and Intraoperative Data for Image-Guided Endovascular Aneurysm Repair. IEEE Transactions on Biomedical Engineering, 60(5), 1353–1362'}\n"
     ]
    },
    {
     "name": "stdout",
     "output_type": "stream",
     "text": [
      "  9% [====                                              ] 69632/699387798\n",
      " 10% [=====                                             ] 73728/699387799"
     ]
    },
    {
     "name": "stderr",
     "output_type": "stream",
     "text": [
      "[INFO] | 2023/06/23 00:58:11 | ↓ Successfully download the url to: /home/antonkulaga/sources/non-animal-models/data/inputs/datasets/CVD/papers/10.1016/j.medengphy.2014.03.006.pdf\n"
     ]
    },
    {
     "name": "stdout",
     "output_type": "stream",
     "text": [
      " 31% [===============                                   ] 643072/20394799\n",
      " 38% [===================                               ] 1441792/3747452"
     ]
    },
    {
     "name": "stderr",
     "output_type": "stream",
     "text": [
      "[INFO] | 2023/06/23 00:58:11 | Choose scihub url [0]: https://sci-hub.ru\n",
      "[INFO] | 2023/06/23 00:58:11 | ↓ Successfully download the url to: /home/antonkulaga/sources/non-animal-models/data/inputs/datasets/CVD/papers/10.1016/j.yjmcc.2014.05.013.pdf\n"
     ]
    },
    {
     "name": "stdout",
     "output_type": "stream",
     "text": [
      " 38% [===================                               ] 1458176/3747452"
     ]
    },
    {
     "name": "stderr",
     "output_type": "stream",
     "text": [
      "[INFO] | 2023/06/23 00:58:11 | <- Request: scihub_url=https://sci-hub.ru, source=DoiSource[type=doi, id=doi.org/10.1038/nature14670], proxies={}\n"
     ]
    },
    {
     "name": "stdout",
     "output_type": "stream",
     "text": [
      " 33% [================                                  ] 237568/69938752"
     ]
    },
    {
     "name": "stderr",
     "output_type": "stream",
     "text": [
      "[INFO] | 2023/06/23 00:58:11 | Choose scihub url [0]: https://sci-hub.ru\n"
     ]
    },
    {
     "name": "stdout",
     "output_type": "stream",
     "text": [
      " 36% [==================                                ] 745472/20394799"
     ]
    },
    {
     "name": "stderr",
     "output_type": "stream",
     "text": [
      "[INFO] | 2023/06/23 00:58:11 | <- Request: scihub_url=https://sci-hub.ru, source=DoiSource[type=doi, id=doi.org/10.1016/j.pbiomolbio.2017.02.007], proxies={}\n"
     ]
    },
    {
     "name": "stdout",
     "output_type": "stream",
     "text": [
      " 41% [====================                              ] 856064/20394794\n",
      " 67% [=================================                 ] 1449984/2160944"
     ]
    },
    {
     "name": "stderr",
     "output_type": "stream",
     "text": [
      "[INFO] | 2023/06/23 00:58:11 | ↓ Successfully download the url to: /home/antonkulaga/sources/non-animal-models/data/inputs/datasets/CVD/papers/10.1007/s10439-019-02201-8.pdf\n"
     ]
    },
    {
     "name": "stdout",
     "output_type": "stream",
     "text": [
      " 72% [====================================              ] 1564672/2160944"
     ]
    },
    {
     "name": "stderr",
     "output_type": "stream",
     "text": [
      "[INFO] | 2023/06/23 00:58:11 | Choose scihub url [0]: https://sci-hub.ru\n"
     ]
    },
    {
     "name": "stdout",
     "output_type": "stream",
     "text": [
      " 70% [===================================               ] 495616/69938752"
     ]
    },
    {
     "name": "stderr",
     "output_type": "stream",
     "text": [
      "[INFO] | 2023/06/23 00:58:11 | <- Request: scihub_url=https://sci-hub.ru, source=DoiSource[type=doi, id=doi.org/10.1016/j.jcin.2013.07.013], proxies={}\n"
     ]
    },
    {
     "name": "stdout",
     "output_type": "stream",
     "text": [
      " 77% [======================================            ] 1667072/2160944"
     ]
    },
    {
     "name": "stderr",
     "output_type": "stream",
     "text": [
      "[INFO] | 2023/06/23 00:58:12 | -> Response: status_code=200, content_length=7004\n"
     ]
    },
    {
     "name": "stdout",
     "output_type": "stream",
     "text": [
      " 78% [=======================================           ] 1691648/2160944"
     ]
    },
    {
     "name": "stderr",
     "output_type": "stream",
     "text": [
      "[INFO] | 2023/06/23 00:58:12 | * Extracted information: {'url': 'https://dacemirror.sci-hub.ru/journal-article/6591f59e92317fa7a60159dfd5e0c478/durst2015.pdf', 'title': 'Mutations in DCHS1 cause mitral valve prolapse. Nature, 525(7567), 109–113'}\n"
     ]
    },
    {
     "name": "stdout",
     "output_type": "stream",
     "text": [
      " 13% [======                                            ] 98304/748743944"
     ]
    },
    {
     "name": "stderr",
     "output_type": "stream",
     "text": [
      "[INFO] | 2023/06/23 00:58:12 | -> Response: status_code=200, content_length=7225\n"
     ]
    },
    {
     "name": "stdout",
     "output_type": "stream",
     "text": [
      " 57% [============================                      ] 1175552/2039479\n",
      " 81% [========================================          ] 1757184/2160944"
     ]
    },
    {
     "name": "stderr",
     "output_type": "stream",
     "text": [
      "[INFO] | 2023/06/23 00:58:12 | ↓ Successfully download the url to: /home/antonkulaga/sources/non-animal-models/data/inputs/datasets/CVD/papers/10.1016/j.jvs.2014.03.274.pdf\n"
     ]
    },
    {
     "name": "stdout",
     "output_type": "stream",
     "text": [
      " 81% [========================================          ] 1769472/2160944"
     ]
    },
    {
     "name": "stderr",
     "output_type": "stream",
     "text": [
      "[INFO] | 2023/06/23 00:58:12 | * Extracted information: {'url': 'https://dacemirror.sci-hub.ru/journal-article/45a0f47d900af95f1b9d000c70d1ec0e/dutta2017.pdf', 'title': 'Electrophysiological properties of computational human ventricular cell action potential models under acute ischemic conditions. Progress in Biophysics and Molecular Biology, 129, 40–52'}\n"
     ]
    },
    {
     "name": "stdout",
     "output_type": "stream",
     "text": [
      " 86% [===========================================       ] 1871872/2160944"
     ]
    },
    {
     "name": "stderr",
     "output_type": "stream",
     "text": [
      "[INFO] | 2023/06/23 00:58:12 | Choose scihub url [0]: https://sci-hub.ru\n"
     ]
    },
    {
     "name": "stdout",
     "output_type": "stream",
     "text": [
      " 55% [===========================                       ] 2097152/3747452"
     ]
    },
    {
     "name": "stderr",
     "output_type": "stream",
     "text": [
      "[INFO] | 2023/06/23 00:58:12 | <- Request: scihub_url=https://sci-hub.ru, source=DoiSource[type=doi, id=doi.org/10.1007/s10237-016-0836-8], proxies={}\n"
     ]
    },
    {
     "name": "stdout",
     "output_type": "stream",
     "text": [
      " 93% [==============================================    ] 2019328/2160944"
     ]
    },
    {
     "name": "stderr",
     "output_type": "stream",
     "text": [
      "[INFO] | 2023/06/23 00:58:12 | -> Response: status_code=200, content_length=7040\n"
     ]
    },
    {
     "name": "stdout",
     "output_type": "stream",
     "text": [
      " 49% [========================                          ] 372736/74874379"
     ]
    },
    {
     "name": "stderr",
     "output_type": "stream",
     "text": [
      "[INFO] | 2023/06/23 00:58:12 | * Extracted information: {'url': 'https://zero.sci-hub.ru/2280/6455dd7268a153a3e23868fe29ce15fa/10.1016@j.jcin.2013.07.013.pdf', 'title': 'The Absorb Bioresorbable Vascular Scaffold in Coronary Bifurcations. JACC  Cardiovascular Interventions, 7(1), 81–88'}\n"
     ]
    },
    {
     "name": "stdout",
     "output_type": "stream",
     "text": [
      " 67% [=================================                 ] 507904/74874344\n",
      " 78% [=======================================           ] 1609728/2039479"
     ]
    },
    {
     "name": "stderr",
     "output_type": "stream",
     "text": [
      "[INFO] | 2023/06/23 00:58:12 | ↓ Successfully download the url to: /home/antonkulaga/sources/non-animal-models/data/inputs/datasets/CVD/papers/10.1016/j.actbio.2014.04.033.pdf\n"
     ]
    },
    {
     "name": "stdout",
     "output_type": "stream",
     "text": [
      " 83% [=========================================         ] 1703936/2039479"
     ]
    },
    {
     "name": "stderr",
     "output_type": "stream",
     "text": [
      "[INFO] | 2023/06/23 00:58:12 | Choose scihub url [0]: https://sci-hub.ru\n"
     ]
    },
    {
     "name": "stdout",
     "output_type": "stream",
     "text": [
      " 67% [=================================                 ] 2510848/3747452"
     ]
    },
    {
     "name": "stderr",
     "output_type": "stream",
     "text": [
      "[INFO] | 2023/06/23 00:58:12 | <- Request: scihub_url=https://sci-hub.ru, source=DoiSource[type=doi, id=doi.org/10.1002/ccd.27488], proxies={}\n"
     ]
    },
    {
     "name": "stdout",
     "output_type": "stream",
     "text": [
      " 71% [===================================               ] 2666496/3747452\n",
      " 91% [=============================================     ] 1875968/2039479"
     ]
    },
    {
     "name": "stderr",
     "output_type": "stream",
     "text": [
      "[INFO] | 2023/06/23 00:58:12 | -> Response: status_code=200, content_length=7132\n",
      "[INFO] | 2023/06/23 00:58:12 | ↓ Successfully download the url to: /home/antonkulaga/sources/non-animal-models/data/inputs/datasets/CVD/papers/10.1109/TBME.2012.2235440.pdf\n"
     ]
    },
    {
     "name": "stdout",
     "output_type": "stream",
     "text": [
      " 92% [==============================================    ] 1884160/2039479"
     ]
    },
    {
     "name": "stderr",
     "output_type": "stream",
     "text": [
      "[INFO] | 2023/06/23 00:58:12 | * Extracted information: {'url': 'https://dacemirror.sci-hub.ru/journal-article/7184dee927fb41ee981df2c897c0eb20/ebrahiminejad2016.pdf', 'title': 'Model-based cardiovascular disease diagnosis  a preliminary in-silico study. Biomechanics and Modeling in Mechanobiology, 16(2), 549–560'}\n"
     ]
    },
    {
     "name": "stdout",
     "output_type": "stream",
     "text": [
      " 75% [=====================================             ] 2818048/3747452\n",
      "  0% [                                                  ] 16384/192037452"
     ]
    },
    {
     "name": "stderr",
     "output_type": "stream",
     "text": [
      "[INFO] | 2023/06/23 00:58:12 | ↓ Successfully download the url to: /home/antonkulaga/sources/non-animal-models/data/inputs/datasets/CVD/papers/10.1016/j.jbiomech.2016.10.050.pdf\n"
     ]
    },
    {
     "name": "stdout",
     "output_type": "stream",
     "text": [
      "  1% [                                                  ] 20480/192037452"
     ]
    },
    {
     "name": "stderr",
     "output_type": "stream",
     "text": [
      "[INFO] | 2023/06/23 00:58:12 | Choose scihub url [0]: https://sci-hub.ru\n"
     ]
    },
    {
     "name": "stdout",
     "output_type": "stream",
     "text": [
      "  4% [==                                                ] 81920/192037452"
     ]
    },
    {
     "name": "stderr",
     "output_type": "stream",
     "text": [
      "[INFO] | 2023/06/23 00:58:12 | <- Request: scihub_url=https://sci-hub.ru, source=DoiSource[type=doi, id=doi.org/10.1063/1.4978468], proxies={}\n"
     ]
    },
    {
     "name": "stdout",
     "output_type": "stream",
     "text": [
      " 78% [=======================================           ] 2949120/3747452"
     ]
    },
    {
     "name": "stderr",
     "output_type": "stream",
     "text": [
      "[INFO] | 2023/06/23 00:58:12 | Choose scihub url [0]: https://sci-hub.ru\n"
     ]
    },
    {
     "name": "stdout",
     "output_type": "stream",
     "text": [
      " 79% [=======================================           ] 2961408/3747452"
     ]
    },
    {
     "name": "stderr",
     "output_type": "stream",
     "text": [
      "[INFO] | 2023/06/23 00:58:12 | <- Request: scihub_url=https://sci-hub.ru, source=DoiSource[type=doi, id=doi.org/10.1093/icvts/ivz008], proxies={}\n"
     ]
    },
    {
     "name": "stdout",
     "output_type": "stream",
     "text": [
      " 84% [==========================================        ] 3178496/3747452"
     ]
    },
    {
     "name": "stderr",
     "output_type": "stream",
     "text": [
      "[INFO] | 2023/06/23 00:58:12 | -> Response: status_code=200, content_length=7225\n"
     ]
    },
    {
     "name": "stdout",
     "output_type": "stream",
     "text": [
      " 85% [==========================================        ] 3186688/3747452"
     ]
    },
    {
     "name": "stderr",
     "output_type": "stream",
     "text": [
      "[INFO] | 2023/06/23 00:58:12 | * Extracted information: {'url': 'https://zero.sci-hub.ru/6647/4350ec6b2d1dc51638824ff5f58248f6/elsabbagh2018.pdf', 'title': 'Three-dimensional prototyping for procedural simulation of transcatheter mitral valve replacement in patients with mitral annular calcification. Catheterization and Cardiovascular Interventions'}\n"
     ]
    },
    {
     "name": "stdout",
     "output_type": "stream",
     "text": [
      " 95% [===============================================   ] 3592192/3747452"
     ]
    },
    {
     "name": "stderr",
     "output_type": "stream",
     "text": [
      "[INFO] | 2023/06/23 00:58:13 | -> Response: status_code=200, content_length=7069\n"
     ]
    },
    {
     "name": "stdout",
     "output_type": "stream",
     "text": [
      " 96% [================================================  ] 3608576/3747452"
     ]
    },
    {
     "name": "stderr",
     "output_type": "stream",
     "text": [
      "[INFO] | 2023/06/23 00:58:13 | * Extracted information: {'url': 'https://dacemirror.sci-hub.ru/journal-article/3245be6d86239d50bdc0b4e2e8e7e577/ellis2017.pdf', 'title': 'Human iPSC-derived myocardium-on-chip with capillary-like flow for           personalized medicine. Biomicrofluidics, 11(2), 024105'}\n",
      "[INFO] | 2023/06/23 00:58:13 | -> Response: status_code=200, content_length=7131\n"
     ]
    },
    {
     "name": "stdout",
     "output_type": "stream",
     "text": [
      " 96% [================================================  ] 3616768/3747452"
     ]
    },
    {
     "name": "stderr",
     "output_type": "stream",
     "text": [
      "[INFO] | 2023/06/23 00:58:13 | * Extracted information: {'url': 'https://sci-hub.ru/downloads/2019-03-09/9a/10.1093@icvts@ivz008.pdf', 'title': 'Replicated mitral valve models from real patients offer training opportunities for minimally invasive mitral valve repair. Interactive Card'}\n"
     ]
    },
    {
     "name": "stdout",
     "output_type": "stream",
     "text": [
      " 13% [======                                            ] 507904/36382502\n",
      " 14% [=======                                           ] 512000/3638250"
     ]
    },
    {
     "name": "stderr",
     "output_type": "stream",
     "text": [
      "[INFO] | 2023/06/23 00:58:13 | ↓ Successfully download the url to: /home/antonkulaga/sources/non-animal-models/data/inputs/datasets/CVD/papers/10.1016/j.actbio.2013.04.050.pdf\n"
     ]
    },
    {
     "name": "stdout",
     "output_type": "stream",
     "text": [
      " 16% [========                                          ] 589824/35570624"
     ]
    },
    {
     "name": "stderr",
     "output_type": "stream",
     "text": [
      "[INFO] | 2023/06/23 00:58:13 | Choose scihub url [0]: https://sci-hub.ru\n"
     ]
    },
    {
     "name": "stdout",
     "output_type": "stream",
     "text": [
      "  6% [===                                               ] 139264/20501274"
     ]
    },
    {
     "name": "stderr",
     "output_type": "stream",
     "text": [
      "[INFO] | 2023/06/23 00:58:13 | <- Request: scihub_url=https://sci-hub.ru, source=DoiSource[type=doi, id=doi.org/10.1583/14-4695.1], proxies={}\n"
     ]
    },
    {
     "name": "stdout",
     "output_type": "stream",
     "text": [
      "  9% [====                                              ] 147456/15114840"
     ]
    },
    {
     "name": "stderr",
     "output_type": "stream",
     "text": [
      "[INFO] | 2023/06/23 00:58:13 | -> Response: status_code=200, content_length=7236\n"
     ]
    },
    {
     "name": "stdout",
     "output_type": "stream",
     "text": [
      " 29% [==============                                    ] 1056768/3638250"
     ]
    },
    {
     "name": "stderr",
     "output_type": "stream",
     "text": [
      "[INFO] | 2023/06/23 00:58:13 | * Extracted information: {'url': 'https://dacemirror.sci-hub.ru/journal-article/41f9f813662a732b6bf21ef2c5f2c1f7/erhart2014.pdf', 'title': 'Finite Element Analysis of Abdominal Aortic Aneurysms  Predicted Rupture Risk Correlates With Aortic Wall Histology in Individual Patients. Journal of Endovascular Therapy, 21(4), 556–564'}\n"
     ]
    },
    {
     "name": "stdout",
     "output_type": "stream",
     "text": [
      " 38% [===================                               ] 577536/15114847\n",
      " 38% [===================                               ] 585728/15114847"
     ]
    },
    {
     "name": "stderr",
     "output_type": "stream",
     "text": [
      "[INFO] | 2023/06/23 00:58:14 | ↓ Successfully download the url to: /home/antonkulaga/sources/non-animal-models/data/inputs/datasets/CVD/papers/10.1016/j.jcin.2013.07.013.pdf\n"
     ]
    },
    {
     "name": "stdout",
     "output_type": "stream",
     "text": [
      " 43% [=====================                             ] 1536000/3557062"
     ]
    },
    {
     "name": "stderr",
     "output_type": "stream",
     "text": [
      "[INFO] | 2023/06/23 00:58:14 | Choose scihub url [0]: https://sci-hub.ru\n"
     ]
    },
    {
     "name": "stdout",
     "output_type": "stream",
     "text": [
      "  3% [=                                                 ] 16384/543098250"
     ]
    },
    {
     "name": "stderr",
     "output_type": "stream",
     "text": [
      "[INFO] | 2023/06/23 00:58:14 | <- Request: scihub_url=https://sci-hub.ru, source=DoiSource[type=doi, id=doi.org/10.1016/j.ejvs.2014.11.010], proxies={}\n"
     ]
    },
    {
     "name": "stdout",
     "output_type": "stream",
     "text": [
      " 31% [===============                                   ] 1052672/3303396\n",
      " 75% [=====================================             ] 409600/54309884"
     ]
    },
    {
     "name": "stderr",
     "output_type": "stream",
     "text": [
      "[INFO] | 2023/06/23 00:58:14 | ↓ Successfully download the url to: /home/antonkulaga/sources/non-animal-models/data/inputs/datasets/CVD/papers/10.1002/ccd.27488.pdf\n"
     ]
    },
    {
     "name": "stdout",
     "output_type": "stream",
     "text": [
      " 77% [======================================            ] 1167360/1511484"
     ]
    },
    {
     "name": "stderr",
     "output_type": "stream",
     "text": [
      "[INFO] | 2023/06/23 00:58:14 | Choose scihub url [0]: https://sci-hub.ru\n"
     ]
    },
    {
     "name": "stdout",
     "output_type": "stream",
     "text": [
      " 78% [=======================================           ] 1613824/2050127"
     ]
    },
    {
     "name": "stderr",
     "output_type": "stream",
     "text": [
      "[INFO] | 2023/06/23 00:58:14 | <- Request: scihub_url=https://sci-hub.ru, source=DoiSource[type=doi, id=doi.org/10.1177/1526602815612196], proxies={}\n"
     ]
    },
    {
     "name": "stdout",
     "output_type": "stream",
     "text": [
      " 98% [================================================= ] 536576/54309862"
     ]
    },
    {
     "name": "stderr",
     "output_type": "stream",
     "text": [
      "[INFO] | 2023/06/23 00:58:15 | -> Response: status_code=200, content_length=7268\n"
     ]
    },
    {
     "name": "stdout",
     "output_type": "stream",
     "text": [
      " 57% [============================                      ] 2105344/3638250\n",
      " 58% [=============================                     ] 2080768/3557062"
     ]
    },
    {
     "name": "stderr",
     "output_type": "stream",
     "text": [
      "[INFO] | 2023/06/23 00:58:15 | ↓ Successfully download the url to: /home/antonkulaga/sources/non-animal-models/data/inputs/datasets/CVD/papers/10.1583/14-4695.1.pdf\n"
     ]
    },
    {
     "name": "stdout",
     "output_type": "stream",
     "text": [
      " 58% [=============================                     ] 2113536/3638250"
     ]
    },
    {
     "name": "stderr",
     "output_type": "stream",
     "text": [
      "[INFO] | 2023/06/23 00:58:15 | * Extracted information: {'url': 'https://zero.sci-hub.ru/3890/13c161727c18904b94c04712a3fdffa4/erhart2015.pdf', 'title': 'Finite Element Analysis in Asymptomatic, Symptomatic, and Ruptured Abdominal Aortic Aneurysms  In Search of New Rupture Risk Predictors. European Journal of Vascular and Endovascular Surgery, 49(3),'}\n"
     ]
    },
    {
     "name": "stdout",
     "output_type": "stream",
     "text": [
      " 60% [==============================                    ] 2158592/3557062"
     ]
    },
    {
     "name": "stderr",
     "output_type": "stream",
     "text": [
      "[INFO] | 2023/06/23 00:58:15 | Choose scihub url [0]: https://sci-hub.ru\n"
     ]
    },
    {
     "name": "stdout",
     "output_type": "stream",
     "text": [
      " 84% [==========================================        ] 1273856/1511484"
     ]
    },
    {
     "name": "stderr",
     "output_type": "stream",
     "text": [
      "[INFO] | 2023/06/23 00:58:15 | <- Request: scihub_url=https://sci-hub.ru, source=DoiSource[type=doi, id=doi.org/10.1177/0885328214530589], proxies={}\n"
     ]
    },
    {
     "name": "stdout",
     "output_type": "stream",
     "text": [
      " 68% [==================================                ] 2478080/3638250\n",
      " 68% [==================================                ] 2490368/3638250"
     ]
    },
    {
     "name": "stderr",
     "output_type": "stream",
     "text": [
      "[INFO] | 2023/06/23 00:58:15 | ↓ Successfully download the url to: /home/antonkulaga/sources/non-animal-models/data/inputs/datasets/CVD/papers/10.1093/icvts/ivz008.pdf\n"
     ]
    },
    {
     "name": "stdout",
     "output_type": "stream",
     "text": [
      " 46% [=======================                           ] 1540096/3303396"
     ]
    },
    {
     "name": "stderr",
     "output_type": "stream",
     "text": [
      "[INFO] | 2023/06/23 00:58:15 | -> Response: status_code=200, content_length=7134\n"
     ]
    },
    {
     "name": "stdout",
     "output_type": "stream",
     "text": [
      " 48% [========================                          ] 1605632/3303396\n",
      " 69% [==================================                ] 2469888/3557062"
     ]
    },
    {
     "name": "stderr",
     "output_type": "stream",
     "text": [
      "[INFO] | 2023/06/23 00:58:15 | ↓ Successfully download the url to: /home/antonkulaga/sources/non-animal-models/data/inputs/datasets/CVD/papers/10.1007/s10237-016-0836-8.pdf\n"
     ]
    },
    {
     "name": "stdout",
     "output_type": "stream",
     "text": [
      " 70% [===================================               ] 2572288/3638250"
     ]
    },
    {
     "name": "stderr",
     "output_type": "stream",
     "text": [
      "[INFO] | 2023/06/23 00:58:15 | * Extracted information: {'url': 'https://moscow.sci-hub.ru/4763/281b8938faf536cf3dedd11b6d8a6609/erhart2015.pdf', 'title': 'Prediction of Rupture Sites in Abdominal Aortic Aneurysms After Finite Element Analysis. Journal of Endovascular Therapy, 23(1), 115–120'}\n"
     ]
    },
    {
     "name": "stdout",
     "output_type": "stream",
     "text": [
      " 73% [====================================              ] 2662400/3638250"
     ]
    },
    {
     "name": "stderr",
     "output_type": "stream",
     "text": [
      "[INFO] | 2023/06/23 00:58:15 | Choose scihub url [0]: https://sci-hub.ru\n"
     ]
    },
    {
     "name": "stdout",
     "output_type": "stream",
     "text": [
      " 73% [====================================              ] 2670592/3638250"
     ]
    },
    {
     "name": "stderr",
     "output_type": "stream",
     "text": [
      "[INFO] | 2023/06/23 00:58:15 | <- Request: scihub_url=https://sci-hub.ru, source=DoiSource[type=doi, id=doi.org/10.1007/s10439-015-1476-3], proxies={}\n"
     ]
    },
    {
     "name": "stdout",
     "output_type": "stream",
     "text": [
      " 52% [==========================                        ] 1736704/3303396"
     ]
    },
    {
     "name": "stderr",
     "output_type": "stream",
     "text": [
      "[INFO] | 2023/06/23 00:58:15 | Choose scihub url [0]: https://sci-hub.ru\n"
     ]
    },
    {
     "name": "stdout",
     "output_type": "stream",
     "text": [
      " 73% [====================================              ] 2691072/3638250"
     ]
    },
    {
     "name": "stderr",
     "output_type": "stream",
     "text": [
      "[INFO] | 2023/06/23 00:58:15 | <- Request: scihub_url=https://sci-hub.ru, source=DoiSource[type=doi, id=doi.org/10.1016/j.jtcvs.2015.11.039], proxies={}\n"
     ]
    },
    {
     "name": "stdout",
     "output_type": "stream",
     "text": [
      " 75% [=====================================             ] 2748416/3638250"
     ]
    },
    {
     "name": "stderr",
     "output_type": "stream",
     "text": [
      "[INFO] | 2023/06/23 00:58:15 | -> Response: status_code=200, content_length=7087\n"
     ]
    },
    {
     "name": "stdout",
     "output_type": "stream",
     "text": [
      " 75% [=====================================             ] 2760704/3638250"
     ]
    },
    {
     "name": "stderr",
     "output_type": "stream",
     "text": [
      "[INFO] | 2023/06/23 00:58:15 | * Extracted information: {'url': 'https://zero.sci-hub.ru/2331/54fd7fd40f12f64b17ee3441b17a3487/eslami2014.pdf', 'title': 'Fiber-reinforced hydrogel scaffolds for heart valve tissue engineering. Journal of Biomaterials Applications, 29(3), 399–410'}\n"
     ]
    },
    {
     "name": "stdout",
     "output_type": "stream",
     "text": [
      " 89% [============================================      ] 3198976/3557062"
     ]
    },
    {
     "name": "stderr",
     "output_type": "stream",
     "text": [
      "[INFO] | 2023/06/23 00:58:15 | -> Response: status_code=200, content_length=7184\n"
     ]
    },
    {
     "name": "stdout",
     "output_type": "stream",
     "text": [
      " 64% [================================                  ] 679936/10526652"
     ]
    },
    {
     "name": "stderr",
     "output_type": "stream",
     "text": [
      "[INFO] | 2023/06/23 00:58:15 | * Extracted information: {'url': 'https://zero.sci-hub.ru/4985/8934437009c19a6f4773a75b97b285a2/everett2015.pdf', 'title': 'Structural Mechanics Predictions Relating to Clinical Coronary Stent Fracture in a 5\\xa0Year Period in FDA MAUDE Database. Annals of Biomedical Engineering, 44(2), 391–403'}\n"
     ]
    },
    {
     "name": "stdout",
     "output_type": "stream",
     "text": [
      " 64% [================================                  ] 684032/10526652"
     ]
    },
    {
     "name": "stderr",
     "output_type": "stream",
     "text": [
      "[INFO] | 2023/06/23 00:58:15 | -> Response: status_code=200, content_length=7100\n"
     ]
    },
    {
     "name": "stdout",
     "output_type": "stream",
     "text": [
      " 65% [================================                  ] 692224/10526652"
     ]
    },
    {
     "name": "stderr",
     "output_type": "stream",
     "text": [
      "[INFO] | 2023/06/23 00:58:15 | * Extracted information: {'url': 'https://moscow.sci-hub.ru/5296/1e48285e2b2fbb4a256b39dc8f4164f3/evin2016.pdf', 'title': 'Mitral valve-in-valve hemodynamic performance  An in\\xa0vitro study. The Journal of Thoracic and Cardiovascular Surgery, 151(4), 1051–1059.e6'}\n"
     ]
    },
    {
     "name": "stdout",
     "output_type": "stream",
     "text": [
      " 95% [===============================================   ] 1007616/1052665\n",
      " 98% [================================================= ] 3588096/3638250"
     ]
    },
    {
     "name": "stderr",
     "output_type": "stream",
     "text": [
      "[INFO] | 2023/06/23 00:58:16 | ↓ Successfully download the url to: /home/antonkulaga/sources/non-animal-models/data/inputs/datasets/CVD/papers/10.1016/j.pbiomolbio.2017.02.007.pdf\n"
     ]
    },
    {
     "name": "stdout",
     "output_type": "stream",
     "text": [
      " 84% [==========================================        ] 2801664/3303396\n",
      " 64% [================================                  ] 446464/68891096"
     ]
    },
    {
     "name": "stderr",
     "output_type": "stream",
     "text": [
      "[INFO] | 2023/06/23 00:58:16 | ↓ Successfully download the url to: /home/antonkulaga/sources/non-animal-models/data/inputs/datasets/CVD/papers/10.1016/j.ejvs.2014.11.010.pdf\n"
     ]
    },
    {
     "name": "stdout",
     "output_type": "stream",
     "text": [
      " 58% [=============================                     ] 421888/72246296\n",
      " 59% [=============================                     ] 430080/72246296"
     ]
    },
    {
     "name": "stderr",
     "output_type": "stream",
     "text": [
      "[INFO] | 2023/06/23 00:58:16 | ↓ Successfully download the url to: /home/antonkulaga/sources/non-animal-models/data/inputs/datasets/CVD/papers/10.1038/nature14670.pdf\n"
     ]
    },
    {
     "name": "stdout",
     "output_type": "stream",
     "text": [
      "  5% [==                                                ] 159744/31213676"
     ]
    },
    {
     "name": "stderr",
     "output_type": "stream",
     "text": [
      "[INFO] | 2023/06/23 00:58:16 | Choose scihub url [0]: https://sci-hub.ru\n"
     ]
    },
    {
     "name": "stdout",
     "output_type": "stream",
     "text": [
      "  5% [==                                                ] 163840/31213676"
     ]
    },
    {
     "name": "stderr",
     "output_type": "stream",
     "text": [
      "[INFO] | 2023/06/23 00:58:16 | Choose scihub url [0]: https://sci-hub.ru\n"
     ]
    },
    {
     "name": "stdout",
     "output_type": "stream",
     "text": [
      "  5% [==                                                ] 167936/3121367"
     ]
    },
    {
     "name": "stderr",
     "output_type": "stream",
     "text": [
      "[INFO] | 2023/06/23 00:58:16 | Choose scihub url [0]: https://sci-hub.ru\n"
     ]
    },
    {
     "name": "stdout",
     "output_type": "stream",
     "text": [
      " 89% [============================================      ] 2940928/3303396"
     ]
    },
    {
     "name": "stderr",
     "output_type": "stream",
     "text": [
      "[INFO] | 2023/06/23 00:58:16 | <- Request: scihub_url=https://sci-hub.ru, source=DoiSource[type=doi, id=doi.org/10.1007/s10237-018-1073-0], proxies={}\n"
     ]
    },
    {
     "name": "stdout",
     "output_type": "stream",
     "text": [
      "  5% [==                                                ] 180224/3121367"
     ]
    },
    {
     "name": "stderr",
     "output_type": "stream",
     "text": [
      "[INFO] | 2023/06/23 00:58:16 | <- Request: scihub_url=https://sci-hub.ru, source=DoiSource[type=doi, id=doi.org/10.1016/j.jconrel.2018.05.023], proxies={}\n"
     ]
    },
    {
     "name": "stdout",
     "output_type": "stream",
     "text": [
      " 86% [===========================================       ] 593920/688910"
     ]
    },
    {
     "name": "stderr",
     "output_type": "stream",
     "text": [
      "[INFO] | 2023/06/23 00:58:16 | <- Request: scihub_url=https://sci-hub.ru, source=DoiSource[type=doi, id=doi.org/10.1177/2150135115610285], proxies={}\n"
     ]
    },
    {
     "name": "stdout",
     "output_type": "stream",
     "text": [
      " 90% [=============================================     ] 651264/72246276\n",
      " 92% [==============================================    ] 3055616/3303396"
     ]
    },
    {
     "name": "stderr",
     "output_type": "stream",
     "text": [
      "[INFO] | 2023/06/23 00:58:16 | ↓ Successfully download the url to: /home/antonkulaga/sources/non-animal-models/data/inputs/datasets/CVD/papers/10.1177/1526602815612196.pdf\n"
     ]
    },
    {
     "name": "stdout",
     "output_type": "stream",
     "text": [
      " 94% [===============================================   ] 3133440/3303396\n",
      " 11% [=====                                             ] 372736/3121367"
     ]
    },
    {
     "name": "stderr",
     "output_type": "stream",
     "text": [
      "[INFO] | 2023/06/23 00:58:16 | ↓ Successfully download the url to: /home/antonkulaga/sources/non-animal-models/data/inputs/datasets/CVD/papers/10.1177/0885328214530589.pdf\n"
     ]
    },
    {
     "name": "stdout",
     "output_type": "stream",
     "text": [
      " 16% [========                                          ] 503808/31213676"
     ]
    },
    {
     "name": "stderr",
     "output_type": "stream",
     "text": [
      "[INFO] | 2023/06/23 00:58:16 | Choose scihub url [0]: https://sci-hub.ru\n"
     ]
    },
    {
     "name": "stdout",
     "output_type": "stream",
     "text": [
      " 16% [========                                          ] 520192/31213676"
     ]
    },
    {
     "name": "stderr",
     "output_type": "stream",
     "text": [
      "[INFO] | 2023/06/23 00:58:16 | <- Request: scihub_url=https://sci-hub.ru, source=DoiSource[type=doi, id=doi.org/10.3390/polym10020211], proxies={}\n"
     ]
    },
    {
     "name": "stdout",
     "output_type": "stream",
     "text": [
      " 99% [================================================= ] 3297280/3303396"
     ]
    },
    {
     "name": "stderr",
     "output_type": "stream",
     "text": [
      "[INFO] | 2023/06/23 00:58:16 | Choose scihub url [0]: https://sci-hub.ru\n"
     ]
    },
    {
     "name": "stdout",
     "output_type": "stream",
     "text": [
      " 17% [========                                          ] 536576/31213676\n"
     ]
    },
    {
     "name": "stderr",
     "output_type": "stream",
     "text": [
      "[INFO] | 2023/06/23 00:58:16 | <- Request: scihub_url=https://sci-hub.ru, source=DoiSource[type=doi, id=doi.org/10.1016/j.jbiomech.2019.01.053], proxies={}\n"
     ]
    },
    {
     "name": "stdout",
     "output_type": "stream",
     "text": [
      " 17% [========                                          ] 540672/3121367"
     ]
    },
    {
     "name": "stderr",
     "output_type": "stream",
     "text": [
      "[INFO] | 2023/06/23 00:58:16 | ↓ Successfully download the url to: /home/antonkulaga/sources/non-animal-models/data/inputs/datasets/CVD/papers/10.1063/1.4978468.pdf\n"
     ]
    },
    {
     "name": "stdout",
     "output_type": "stream",
     "text": [
      " 22% [===========                                       ] 688128/3121367"
     ]
    },
    {
     "name": "stderr",
     "output_type": "stream",
     "text": [
      "[INFO] | 2023/06/23 00:58:16 | Choose scihub url [0]: https://sci-hub.ru\n"
     ]
    },
    {
     "name": "stdout",
     "output_type": "stream",
     "text": [
      " 22% [===========                                       ] 696320/3121367"
     ]
    },
    {
     "name": "stderr",
     "output_type": "stream",
     "text": [
      "[INFO] | 2023/06/23 00:58:16 | <- Request: scihub_url=https://sci-hub.ru, source=DoiSource[type=doi, id=doi.org/10.1016/j.jcin.2015.05.016], proxies={}\n"
     ]
    },
    {
     "name": "stdout",
     "output_type": "stream",
     "text": [
      " 30% [===============                                   ] 942080/3121367"
     ]
    },
    {
     "name": "stderr",
     "output_type": "stream",
     "text": [
      "[INFO] | 2023/06/23 00:58:16 | -> Response: status_code=200, content_length=7049\n"
     ]
    },
    {
     "name": "stdout",
     "output_type": "stream",
     "text": [
      " 30% [===============                                   ] 950272/3121367"
     ]
    },
    {
     "name": "stderr",
     "output_type": "stream",
     "text": [
      "[INFO] | 2023/06/23 00:58:16 | * Extracted information: {'url': 'https://zero.sci-hub.ru/7086/014845dda846a785f05211bffcba176c/farzaneh2018.pdf', 'title': 'Inverse identification of local stiffness across ascending thoracic aortic aneurysms. Biomechanics and Modeling in Mechanobiology'}\n"
     ]
    },
    {
     "name": "stdout",
     "output_type": "stream",
     "text": [
      " 36% [==================                                ] 1138688/3121367"
     ]
    },
    {
     "name": "stderr",
     "output_type": "stream",
     "text": [
      "[INFO] | 2023/06/23 00:58:16 | -> Response: status_code=200, content_length=7158\n",
      "[INFO] | 2023/06/23 00:58:16 | -> Response: status_code=200, content_length=7068\n"
     ]
    },
    {
     "name": "stdout",
     "output_type": "stream",
     "text": [
      " 36% [==================                                ] 1142784/3121367"
     ]
    },
    {
     "name": "stderr",
     "output_type": "stream",
     "text": [
      "[INFO] | 2023/06/23 00:58:16 | * Extracted information: {'url': 'https://moscow.sci-hub.ru/5039/a7177bfbd96d21170798e4469cc00e2b/farooqi2016.pdf', 'title': 'Use of a Three Dimensional Printed Cardiac Model to Assess Suitability for Biventricular Repair. World Journal for Pediatric and Congenital Heart Surgery, 7(3), 414–416'}\n"
     ]
    },
    {
     "name": "stdout",
     "output_type": "stream",
     "text": [
      " 37% [==================                                ] 1155072/3121367"
     ]
    },
    {
     "name": "stderr",
     "output_type": "stream",
     "text": [
      "[INFO] | 2023/06/23 00:58:16 | * Extracted information: {'url': 'https://zero.sci-hub.ru/6880/0355b2ee11a1d647ba974dd7ed7e04c4/feiner2018.pdf', 'title': 'Multifunctional degradable electronic scaffolds for cardiac tissue engineering. Journal of Controlled Release, 281, 189–195'}\n"
     ]
    },
    {
     "name": "stdout",
     "output_type": "stream",
     "text": [
      " 73% [====================================              ] 2301952/3121367"
     ]
    },
    {
     "name": "stderr",
     "output_type": "stream",
     "text": [
      "[INFO] | 2023/06/23 00:58:17 | -> Response: status_code=200, content_length=7170\n"
     ]
    },
    {
     "name": "stdout",
     "output_type": "stream",
     "text": [
      " 73% [====================================              ] 2306048/3121367"
     ]
    },
    {
     "name": "stderr",
     "output_type": "stream",
     "text": [
      "[INFO] | 2023/06/23 00:58:17 | -> Response: status_code=200, content_length=7262\n"
     ]
    },
    {
     "name": "stdout",
     "output_type": "stream",
     "text": [
      " 74% [=====================================             ] 2310144/3121367"
     ]
    },
    {
     "name": "stderr",
     "output_type": "stream",
     "text": [
      "[INFO] | 2023/06/23 00:58:17 | * Extracted information: {'url': 'https://sci-hub.ru/downloads/2019-11-20/af/ferrari2019.pdf', 'title': 'Experiments on Dynamic Behaviour of a Dacron Aortic Graft in a Mock Circulatory Loop. Journal of Biomechanics'}\n"
     ]
    },
    {
     "name": "stdout",
     "output_type": "stream",
     "text": [
      " 74% [=====================================             ] 2314240/3121367"
     ]
    },
    {
     "name": "stderr",
     "output_type": "stream",
     "text": [
      "[INFO] | 2023/06/23 00:58:17 | * Extracted information: {'url': 'https://dacemirror.sci-hub.ru/journal-article/445f7fd0cd4a01dfea05f2c8391ead5c/finet2015.pdf', 'title': 'Comparative Analysis of Sequential Proximal Optimizing Technique Versus Kissing Balloon\\xa0Inflation Technique in Provisional Bifurcation Stenting. JACC  Cardiovascular Interventions, 8(10), 1308–1317'}\n"
     ]
    },
    {
     "name": "stdout",
     "output_type": "stream",
     "text": [
      " 74% [=====================================             ] 2318336/3121367"
     ]
    },
    {
     "name": "stderr",
     "output_type": "stream",
     "text": [
      "[INFO] | 2023/06/23 00:58:17 | -> Response: status_code=200, content_length=7199\n"
     ]
    },
    {
     "name": "stdout",
     "output_type": "stream",
     "text": [
      "  0% [                                                  ] 32768/343661067"
     ]
    },
    {
     "name": "stderr",
     "output_type": "stream",
     "text": [
      "[INFO] | 2023/06/23 00:58:17 | * Extracted information: {'url': 'https://dacemirror.sci-hub.ru/journal-article/47aee290f50dcf3dcafa7c51e176e8bb/10.3390@polym10020211.pdf', 'title': 'α-Cyclodextrin and α-Cyclodextrin Polymers as Oxygen Nanocarriers to Limit Hypoxia Reoxygenation Injury  Implications from an In Vitro Model. Polymers, 10(2), 211'}\n"
     ]
    },
    {
     "name": "stdout",
     "output_type": "stream",
     "text": [
      " 17% [========                                          ] 589824/34366107\n",
      " 17% [========                                          ] 598016/3436610"
     ]
    },
    {
     "name": "stderr",
     "output_type": "stream",
     "text": [
      "[INFO] | 2023/06/23 00:58:17 | ↓ Successfully download the url to: /home/antonkulaga/sources/non-animal-models/data/inputs/datasets/CVD/papers/10.1007/s10439-015-1476-3.pdf\n"
     ]
    },
    {
     "name": "stdout",
     "output_type": "stream",
     "text": [
      "  0% [                                                  ] 16384/34613580\n",
      " 15% [=======                                           ] 503808/3238113"
     ]
    },
    {
     "name": "stderr",
     "output_type": "stream",
     "text": [
      "[INFO] | 2023/06/23 00:58:17 | Choose scihub url [0]: https://sci-hub.ru\n",
      "[INFO] | 2023/06/23 00:58:17 | ↓ Successfully download the url to: /home/antonkulaga/sources/non-animal-models/data/inputs/datasets/CVD/papers/10.1177/2150135115610285.pdf\n"
     ]
    },
    {
     "name": "stdout",
     "output_type": "stream",
     "text": [
      " 22% [===========                                       ] 782336/3436610"
     ]
    },
    {
     "name": "stderr",
     "output_type": "stream",
     "text": [
      "[INFO] | 2023/06/23 00:58:17 | <- Request: scihub_url=https://sci-hub.ru, source=DoiSource[type=doi, id=doi.org/10.1016/j.scr.2018.08.015], proxies={}\n"
     ]
    },
    {
     "name": "stdout",
     "output_type": "stream",
     "text": [
      "  2% [=                                                 ] 69632/34613583"
     ]
    },
    {
     "name": "stderr",
     "output_type": "stream",
     "text": [
      "[INFO] | 2023/06/23 00:58:17 | Choose scihub url [0]: https://sci-hub.ru\n"
     ]
    },
    {
     "name": "stdout",
     "output_type": "stream",
     "text": [
      " 19% [=========                                         ] 634880/3238113"
     ]
    },
    {
     "name": "stderr",
     "output_type": "stream",
     "text": [
      "[INFO] | 2023/06/23 00:58:17 | <- Request: scihub_url=https://sci-hub.ru, source=DoiSource[type=doi, id=doi.org/10.4244/EIJ-D-16_00897], proxies={}\n"
     ]
    },
    {
     "name": "stdout",
     "output_type": "stream",
     "text": [
      " 51% [=========================                         ] 1785856/3436610"
     ]
    },
    {
     "name": "stderr",
     "output_type": "stream",
     "text": [
      "[INFO] | 2023/06/23 00:58:18 | -> Response: status_code=200, content_length=7068\n"
     ]
    },
    {
     "name": "stdout",
     "output_type": "stream",
     "text": [
      " 52% [==========================                        ] 1806336/3436610"
     ]
    },
    {
     "name": "stderr",
     "output_type": "stream",
     "text": [
      "[INFO] | 2023/06/23 00:58:18 | * Extracted information: {'url': 'https://zero.sci-hub.ru/7116/d9aa06d8955acb19c3b301c9b93df999/fischer2018.pdf', 'title': 'A complete workflow for the differentiation and the dissociation of hiPSC-derived cardiospheres. Stem Cell Research'}\n"
     ]
    },
    {
     "name": "stdout",
     "output_type": "stream",
     "text": [
      " 53% [==========================                        ] 1839104/3436610"
     ]
    },
    {
     "name": "stderr",
     "output_type": "stream",
     "text": [
      "[INFO] | 2023/06/23 00:58:18 | -> Response: status_code=200, content_length=5831\n"
     ]
    },
    {
     "name": "stdout",
     "output_type": "stream",
     "text": [
      " 55% [===========================                       ] 1908736/3436610"
     ]
    },
    {
     "name": "stderr",
     "output_type": "stream",
     "text": [
      "[WARNING] | 2023/06/23 00:58:18 | Error occurs, task status: extracting_failed, error: No pdf tag was found in the given content with the selector: #pdf\n"
     ]
    },
    {
     "name": "stdout",
     "output_type": "stream",
     "text": [
      " 51% [=========================                         ] 1667072/3238113"
     ]
    },
    {
     "name": "stderr",
     "output_type": "stream",
     "text": [
      "[INFO] | 2023/06/23 00:58:18 | Choose scihub url [1]: http://sci-hub.st\n"
     ]
    },
    {
     "name": "stdout",
     "output_type": "stream",
     "text": [
      " 56% [============================                      ] 1929216/3436610"
     ]
    },
    {
     "name": "stderr",
     "output_type": "stream",
     "text": [
      "[INFO] | 2023/06/23 00:58:18 | <- Request: scihub_url=http://sci-hub.st, source=DoiSource[type=doi, id=doi.org/10.4244/EIJ-D-16_00897], proxies={}\n"
     ]
    },
    {
     "name": "stdout",
     "output_type": "stream",
     "text": [
      " 36% [==================                                ] 741376/20340243"
     ]
    },
    {
     "name": "stderr",
     "output_type": "stream",
     "text": [
      "[INFO] | 2023/06/23 00:58:18 | -> Response: status_code=200, content_length=5831\n"
     ]
    },
    {
     "name": "stdout",
     "output_type": "stream",
     "text": [
      " 84% [==========================================        ] 2887680/3436610"
     ]
    },
    {
     "name": "stderr",
     "output_type": "stream",
     "text": [
      "[WARNING] | 2023/06/23 00:58:18 | Error occurs, task status: extracting_failed, error: No pdf tag was found in the given content with the selector: #pdf\n"
     ]
    },
    {
     "name": "stdout",
     "output_type": "stream",
     "text": [
      " 40% [====================                              ] 815104/20340240"
     ]
    },
    {
     "name": "stderr",
     "output_type": "stream",
     "text": [
      "[INFO] | 2023/06/23 00:58:18 | Choose scihub url [2]: http://sci-hub.se\n"
     ]
    },
    {
     "name": "stdout",
     "output_type": "stream",
     "text": [
      " 84% [==========================================        ] 2908160/3436610"
     ]
    },
    {
     "name": "stderr",
     "output_type": "stream",
     "text": [
      "[INFO] | 2023/06/23 00:58:18 | <- Request: scihub_url=http://sci-hub.se, source=DoiSource[type=doi, id=doi.org/10.4244/EIJ-D-16_00897], proxies={}\n"
     ]
    },
    {
     "name": "stdout",
     "output_type": "stream",
     "text": [
      " 55% [===========================                       ] 1933312/3462473\n",
      " 75% [=====================================             ] 2609152/3461358"
     ]
    },
    {
     "name": "stderr",
     "output_type": "stream",
     "text": [
      "[INFO] | 2023/06/23 00:58:19 | ↓ Successfully download the url to: /home/antonkulaga/sources/non-animal-models/data/inputs/datasets/CVD/papers/10.1007/s10237-018-1073-0.pdf\n"
     ]
    },
    {
     "name": "stdout",
     "output_type": "stream",
     "text": [
      " 68% [==================================                ] 1400832/2034024\n",
      " 77% [======================================            ] 2678784/3461358"
     ]
    },
    {
     "name": "stderr",
     "output_type": "stream",
     "text": [
      "[INFO] | 2023/06/23 00:58:19 | ↓ Successfully download the url to: /home/antonkulaga/sources/non-animal-models/data/inputs/datasets/CVD/papers/10.1016/j.jtcvs.2015.11.039.pdf\n"
     ]
    },
    {
     "name": "stdout",
     "output_type": "stream",
     "text": [
      " 62% [===============================                   ] 2150400/3462473"
     ]
    },
    {
     "name": "stderr",
     "output_type": "stream",
     "text": [
      "[INFO] | 2023/06/23 00:58:19 | Choose scihub url [0]: https://sci-hub.ru\n"
     ]
    },
    {
     "name": "stdout",
     "output_type": "stream",
     "text": [
      " 62% [===============================                   ] 2166784/3462473"
     ]
    },
    {
     "name": "stderr",
     "output_type": "stream",
     "text": [
      "[INFO] | 2023/06/23 00:58:19 | <- Request: scihub_url=https://sci-hub.ru, source=DoiSource[type=doi, id=doi.org/10.15388/NA.2019.4.1], proxies={}\n"
     ]
    },
    {
     "name": "stdout",
     "output_type": "stream",
     "text": [
      " 62% [===============================                   ] 2170880/3462473"
     ]
    },
    {
     "name": "stderr",
     "output_type": "stream",
     "text": [
      "[INFO] | 2023/06/23 00:58:19 | Choose scihub url [0]: https://sci-hub.ru\n"
     ]
    },
    {
     "name": "stdout",
     "output_type": "stream",
     "text": [
      " 63% [===============================                   ] 2183168/3462473"
     ]
    },
    {
     "name": "stderr",
     "output_type": "stream",
     "text": [
      "[INFO] | 2023/06/23 00:58:19 | <- Request: scihub_url=https://sci-hub.ru, source=DoiSource[type=doi, id=doi.org/10.3174/ajnr.A4486], proxies={}\n"
     ]
    },
    {
     "name": "stdout",
     "output_type": "stream",
     "text": [
      " 84% [==========================================        ] 2912256/3461358"
     ]
    },
    {
     "name": "stderr",
     "output_type": "stream",
     "text": [
      "[INFO] | 2023/06/23 00:58:19 | -> Response: status_code=200, content_length=5831\n"
     ]
    },
    {
     "name": "stdout",
     "output_type": "stream",
     "text": [
      " 67% [=================================                 ] 2334720/3462473"
     ]
    },
    {
     "name": "stderr",
     "output_type": "stream",
     "text": [
      "[WARNING] | 2023/06/23 00:58:19 | Error occurs, task status: extracting_failed, error: No pdf tag was found in the given content with the selector: #pdf\n"
     ]
    },
    {
     "name": "stdout",
     "output_type": "stream",
     "text": [
      " 82% [=========================================         ] 1687552/2034024"
     ]
    },
    {
     "name": "stderr",
     "output_type": "stream",
     "text": [
      "[INFO] | 2023/06/23 00:58:19 | Choose scihub url [3]: https://sci-hub.st\n"
     ]
    },
    {
     "name": "stdout",
     "output_type": "stream",
     "text": [
      " 67% [=================================                 ] 2347008/3462473"
     ]
    },
    {
     "name": "stderr",
     "output_type": "stream",
     "text": [
      "[INFO] | 2023/06/23 00:58:19 | <- Request: scihub_url=https://sci-hub.st, source=DoiSource[type=doi, id=doi.org/10.4244/EIJ-D-16_00897], proxies={}\n"
     ]
    },
    {
     "name": "stdout",
     "output_type": "stream",
     "text": [
      "100% [==================================================] 2034024/2034024\n",
      " 77% [======================================            ] 2678784/3462473"
     ]
    },
    {
     "name": "stderr",
     "output_type": "stream",
     "text": [
      "[INFO] | 2023/06/23 00:58:19 | ↓ Successfully download the url to: /home/antonkulaga/sources/non-animal-models/data/inputs/datasets/CVD/papers/10.1016/j.jcin.2015.05.016.pdf\n"
     ]
    },
    {
     "name": "stdout",
     "output_type": "stream",
     "text": [
      " 80% [========================================          ] 2797568/3462473\n"
     ]
    },
    {
     "name": "stderr",
     "output_type": "stream",
     "text": [
      "[INFO] | 2023/06/23 00:58:19 | -> Response: status_code=200, content_length=5829\n"
     ]
    },
    {
     "name": "stdout",
     "output_type": "stream",
     "text": [
      " 80% [========================================          ] 2801664/3462473"
     ]
    },
    {
     "name": "stderr",
     "output_type": "stream",
     "text": [
      "[INFO] | 2023/06/23 00:58:19 | ↓ Successfully download the url to: /home/antonkulaga/sources/non-animal-models/data/inputs/datasets/CVD/papers/10.1016/j.jbiomech.2019.01.053.pdf\n"
     ]
    },
    {
     "name": "stdout",
     "output_type": "stream",
     "text": [
      " 81% [========================================          ] 2805760/3462473"
     ]
    },
    {
     "name": "stderr",
     "output_type": "stream",
     "text": [
      "[INFO] | 2023/06/23 00:58:19 | -> Response: status_code=200, content_length=7158\n"
     ]
    },
    {
     "name": "stdout",
     "output_type": "stream",
     "text": [
      " 84% [==========================================        ] 2940928/3462473"
     ]
    },
    {
     "name": "stderr",
     "output_type": "stream",
     "text": [
      "[INFO] | 2023/06/23 00:58:19 | * Extracted information: {'url': 'https://moscow.sci-hub.ru/4442/456450c1aa5f8bfde3d01f2287861fce/10.3174@ajnr.A4486.pdf', 'title': '3D Printing of Intracranial Aneurysms Using Fused Deposition Modeling Offers Highly Accurate Replications. American Journal of Neuroradiology, 37(1), 120–124'}\n"
     ]
    },
    {
     "name": "stdout",
     "output_type": "stream",
     "text": [
      " 86% [===========================================       ] 2977792/3462473"
     ]
    },
    {
     "name": "stderr",
     "output_type": "stream",
     "text": [
      "[INFO] | 2023/06/23 00:58:19 | -> Response: status_code=200, content_length=5831\n"
     ]
    },
    {
     "name": "stdout",
     "output_type": "stream",
     "text": [
      " 87% [===========================================       ] 3014656/3462473"
     ]
    },
    {
     "name": "stderr",
     "output_type": "stream",
     "text": [
      "[WARNING] | 2023/06/23 00:58:19 | Error occurs, task status: extracting_failed, error: No pdf tag was found in the given content with the selector: #pdf\n"
     ]
    },
    {
     "name": "stdout",
     "output_type": "stream",
     "text": [
      " 87% [===========================================       ] 3018752/3462473"
     ]
    },
    {
     "name": "stderr",
     "output_type": "stream",
     "text": [
      "[INFO] | 2023/06/23 00:58:19 | Choose scihub url [1]: http://sci-hub.st\n"
     ]
    },
    {
     "name": "stdout",
     "output_type": "stream",
     "text": [
      " 87% [===========================================       ] 3031040/3462473"
     ]
    },
    {
     "name": "stderr",
     "output_type": "stream",
     "text": [
      "[INFO] | 2023/06/23 00:58:19 | <- Request: scihub_url=http://sci-hub.st, source=DoiSource[type=doi, id=doi.org/10.15388/NA.2019.4.1], proxies={}\n"
     ]
    },
    {
     "name": "stdout",
     "output_type": "stream",
     "text": [
      " 87% [===========================================       ] 3039232/3462473"
     ]
    },
    {
     "name": "stderr",
     "output_type": "stream",
     "text": [
      "[INFO] | 2023/06/23 00:58:19 | Choose scihub url [0]: https://sci-hub.ru\n"
     ]
    },
    {
     "name": "stdout",
     "output_type": "stream",
     "text": [
      " 87% [===========================================       ] 3043328/3462473"
     ]
    },
    {
     "name": "stderr",
     "output_type": "stream",
     "text": [
      "[INFO] | 2023/06/23 00:58:19 | Choose scihub url [0]: https://sci-hub.ru\n"
     ]
    },
    {
     "name": "stdout",
     "output_type": "stream",
     "text": [
      " 92% [==============================================    ] 3190784/3462473"
     ]
    },
    {
     "name": "stderr",
     "output_type": "stream",
     "text": [
      "[WARNING] | 2023/06/23 00:58:19 | Error occurs, task status: extracting_failed, error: No pdf tag was found in the given content with the selector: #pdf\n",
      "[INFO] | 2023/06/23 00:58:19 | Choose scihub url [4]: http://sci-hub.ru\n"
     ]
    },
    {
     "name": "stdout",
     "output_type": "stream",
     "text": [
      " 92% [==============================================    ] 3198976/3462473"
     ]
    },
    {
     "name": "stderr",
     "output_type": "stream",
     "text": [
      "[INFO] | 2023/06/23 00:58:19 | <- Request: scihub_url=http://sci-hub.ru, source=DoiSource[type=doi, id=doi.org/10.4244/EIJ-D-16_00897], proxies={}\n"
     ]
    },
    {
     "name": "stdout",
     "output_type": "stream",
     "text": [
      " 92% [==============================================    ] 3207168/3462473"
     ]
    },
    {
     "name": "stderr",
     "output_type": "stream",
     "text": [
      "[INFO] | 2023/06/23 00:58:19 | <- Request: scihub_url=https://sci-hub.ru, source=DoiSource[type=doi, id=doi.org/10.1007/s00330-014-3323-6], proxies={}\n"
     ]
    },
    {
     "name": "stdout",
     "output_type": "stream",
     "text": [
      " 92% [==============================================    ] 3211264/3462473"
     ]
    },
    {
     "name": "stderr",
     "output_type": "stream",
     "text": [
      "[INFO] | 2023/06/23 00:58:19 | <- Request: scihub_url=https://sci-hub.ru, source=DoiSource[type=doi, id=doi.org/10.1007/s10237-013-0471-6], proxies={}\n"
     ]
    },
    {
     "name": "stdout",
     "output_type": "stream",
     "text": [
      "100% [==================================================] 3462473/3462473\n"
     ]
    },
    {
     "name": "stderr",
     "output_type": "stream",
     "text": [
      "[INFO] | 2023/06/23 00:58:19 | ↓ Successfully download the url to: /home/antonkulaga/sources/non-animal-models/data/inputs/datasets/CVD/papers/10.3390/polym10020211.pdf\n",
      "[INFO] | 2023/06/23 00:58:19 | Choose scihub url [0]: https://sci-hub.ru\n",
      "[INFO] | 2023/06/23 00:58:19 | <- Request: scihub_url=https://sci-hub.ru, source=DoiSource[type=doi, id=doi.org/10.1016/j.ejvs.2013.12.018], proxies={}\n",
      "[INFO] | 2023/06/23 00:58:20 | -> Response: status_code=200, content_length=7147\n",
      "[INFO] | 2023/06/23 00:58:20 | * Extracted information: {'url': 'https://dacemirror.sci-hub.ru/journal-article/26ad4564a024199ae55f046c0be463b8/10.1007@s10237-013-0471-6.pdf', 'title': 'Modelling and numerical simulation of the human aortic arch under in vivo conditions. Biomechanics and Modeling in Mechanobiology, 12(6), 1143–1154'}\n",
      "[INFO] | 2023/06/23 00:58:20 | -> Response: status_code=200, content_length=5829\n"
     ]
    },
    {
     "name": "stdout",
     "output_type": "stream",
     "text": [
      "  2% [=                                                 ] 12288/536439"
     ]
    },
    {
     "name": "stderr",
     "output_type": "stream",
     "text": [
      "[INFO] | 2023/06/23 00:58:20 | -> Response: status_code=200, content_length=7095\n",
      "[WARNING] | 2023/06/23 00:58:20 | Error occurs, task status: extracting_failed, error: No pdf tag was found in the given content with the selector: #pdf\n",
      "[INFO] | 2023/06/23 00:58:20 | Choose scihub url [2]: http://sci-hub.se\n",
      "[INFO] | 2023/06/23 00:58:20 | <- Request: scihub_url=http://sci-hub.se, source=DoiSource[type=doi, id=doi.org/10.15388/NA.2019.4.1], proxies={}\n",
      "[INFO] | 2023/06/23 00:58:20 | * Extracted information: {'url': 'https://zero.sci-hub.ru/2789/b37f6988697a19469a7ff5c5d1b0d68e/gassenmaier2014.pdf', 'title': 'Next generation coronary CT angiography  in vitro evaluation of 27 coronary stents. European Radiology, 24(11), 2953–2961'}\n"
     ]
    },
    {
     "name": "stdout",
     "output_type": "stream",
     "text": [
      " 11% [=====                                             ] 61440/536439"
     ]
    },
    {
     "name": "stderr",
     "output_type": "stream",
     "text": [
      "[INFO] | 2023/06/23 00:58:20 | -> Response: status_code=200, content_length=5831\n",
      "[INFO] | 2023/06/23 00:58:20 | -> Response: status_code=200, content_length=7348\n"
     ]
    },
    {
     "name": "stdout",
     "output_type": "stream",
     "text": [
      " 17% [========                                          ] 94208/536439"
     ]
    },
    {
     "name": "stderr",
     "output_type": "stream",
     "text": [
      "[WARNING] | 2023/06/23 00:58:20 | Error occurs, task status: extracting_failed, error: No pdf tag was found in the given content with the selector: #pdf\n",
      "[INFO] | 2023/06/23 00:58:20 | Choose scihub url [5]: https://sci-hub.se\n"
     ]
    },
    {
     "name": "stdout",
     "output_type": "stream",
     "text": [
      " 18% [=========                                         ] 98304/536439"
     ]
    },
    {
     "name": "stderr",
     "output_type": "stream",
     "text": [
      "[INFO] | 2023/06/23 00:58:20 | * Extracted information: {'url': 'https://dacemirror.sci-hub.ru/journal-article/6e80cffec0b3f53b83fa7014171762bc/gasser2014.pdf', 'title': 'A Novel Strategy to Translate the Biomechanical Rupture Risk of Abdominal Aortic Aneurysms to their Equivalent Diameter Risk  Method and Retrospective Validation. European Journal of Vascular and End'}\n"
     ]
    },
    {
     "name": "stdout",
     "output_type": "stream",
     "text": [
      " 19% [=========                                         ] 102400/536439"
     ]
    },
    {
     "name": "stderr",
     "output_type": "stream",
     "text": [
      "[INFO] | 2023/06/23 00:58:20 | <- Request: scihub_url=https://sci-hub.se, source=DoiSource[type=doi, id=doi.org/10.4244/EIJ-D-16_00897], proxies={}\n"
     ]
    },
    {
     "name": "stdout",
     "output_type": "stream",
     "text": [
      "100% [==================================================] 536439/536439\n"
     ]
    },
    {
     "name": "stderr",
     "output_type": "stream",
     "text": [
      "[INFO] | 2023/06/23 00:58:20 | ↓ Successfully download the url to: /home/antonkulaga/sources/non-animal-models/data/inputs/datasets/CVD/papers/10.3174/ajnr.A4486.pdf\n",
      "[INFO] | 2023/06/23 00:58:20 | Choose scihub url [0]: https://sci-hub.ru\n",
      "[INFO] | 2023/06/23 00:58:20 | <- Request: scihub_url=https://sci-hub.ru, source=DoiSource[type=doi, id=doi.org/10.1007/s00348-013-1528-0], proxies={}\n",
      "[INFO] | 2023/06/23 00:58:20 | -> Response: status_code=200, content_length=5831\n",
      "[WARNING] | 2023/06/23 00:58:20 | Error occurs, task status: extracting_failed, error: No pdf tag was found in the given content with the selector: #pdf\n",
      "[ERROR] | 2023/06/23 00:58:20 | Failed to download the paper: https://doi.org/10.4244/EIJ-D-16_00897. Please try again.\n",
      "[INFO] | 2023/06/23 00:58:20 | Choose scihub url [0]: https://sci-hub.ru\n",
      "[INFO] | 2023/06/23 00:58:20 | <- Request: scihub_url=https://sci-hub.ru, source=DoiSource[type=doi, id=doi.org/10.1109/TBME.2013.2273496], proxies={}\n",
      "[INFO] | 2023/06/23 00:58:20 | -> Response: status_code=200, content_length=7084\n",
      "[INFO] | 2023/06/23 00:58:20 | * Extracted information: {'url': 'https://dacemirror.sci-hub.ru/journal-article/c98b58f211ca33c3b2747ef8c1951ffc/geoghegan2013.pdf', 'title': 'Time-resolved PIV measurements of the flow field in a stenosed, compliant arterial model. Experiments in Fluids, 54(5)'}\n"
     ]
    },
    {
     "name": "stdout",
     "output_type": "stream",
     "text": [
      "  1% [                                                  ] 28672/1541605"
     ]
    },
    {
     "name": "stderr",
     "output_type": "stream",
     "text": [
      "[INFO] | 2023/06/23 00:58:20 | -> Response: status_code=200, content_length=7187\n",
      "[INFO] | 2023/06/23 00:58:20 | * Extracted information: {'url': 'https://moscow.sci-hub.ru/2281/fe3e3dfcacd385058615c25c28c8ba69/gessat2014.pdf', 'title': 'Image-Based Mechanical Analysis of Stent Deformation  Concept and Exemplary Implementation for Aortic Valve Stents. IEEE Transactions on Biomedical Engineering, 61(1), 4–15'}\n"
     ]
    },
    {
     "name": "stdout",
     "output_type": "stream",
     "text": [
      " 70% [===================================               ] 1093632/1541605\n"
     ]
    },
    {
     "name": "stderr",
     "output_type": "stream",
     "text": [
      "[INFO] | 2023/06/23 00:58:21 | ↓ Successfully download the url to: /home/antonkulaga/sources/non-animal-models/data/inputs/datasets/CVD/papers/10.1016/j.ejvs.2013.12.018.pdf\n"
     ]
    },
    {
     "name": "stdout",
     "output_type": "stream",
     "text": [
      " 81% [========================================          ] 1253376/1541605"
     ]
    },
    {
     "name": "stderr",
     "output_type": "stream",
     "text": [
      "[INFO] | 2023/06/23 00:58:21 | Choose scihub url [0]: https://sci-hub.ru\n"
     ]
    },
    {
     "name": "stdout",
     "output_type": "stream",
     "text": [
      " 22% [===========                                       ] 274432/12162055"
     ]
    },
    {
     "name": "stderr",
     "output_type": "stream",
     "text": [
      "[INFO] | 2023/06/23 00:58:21 | <- Request: scihub_url=https://sci-hub.ru, source=DoiSource[type=doi, id=doi.org/10.1007/s13239-018-0340-7], proxies={}\n"
     ]
    },
    {
     "name": "stdout",
     "output_type": "stream",
     "text": [
      "100% [==================================================] 1541605/1541605\n",
      " 43% [=====================                             ] 532480/1216205"
     ]
    },
    {
     "name": "stderr",
     "output_type": "stream",
     "text": [
      "[INFO] | 2023/06/23 00:58:21 | ↓ Successfully download the url to: /home/antonkulaga/sources/non-animal-models/data/inputs/datasets/CVD/papers/10.1007/s10237-013-0471-6.pdf\n"
     ]
    },
    {
     "name": "stdout",
     "output_type": "stream",
     "text": [
      " 65% [================================                  ] 798720/1216205"
     ]
    },
    {
     "name": "stderr",
     "output_type": "stream",
     "text": [
      "[INFO] | 2023/06/23 00:58:21 | Choose scihub url [0]: https://sci-hub.ru\n"
     ]
    },
    {
     "name": "stdout",
     "output_type": "stream",
     "text": [
      " 66% [=================================                 ] 806912/1216205"
     ]
    },
    {
     "name": "stderr",
     "output_type": "stream",
     "text": [
      "[INFO] | 2023/06/23 00:58:21 | <- Request: scihub_url=https://sci-hub.ru, source=DoiSource[type=doi, id=doi.org/10.1115/1.4040600], proxies={}\n"
     ]
    },
    {
     "name": "stdout",
     "output_type": "stream",
     "text": [
      "100% [==================================================] 1216205/1216205\n"
     ]
    },
    {
     "name": "stderr",
     "output_type": "stream",
     "text": [
      "[INFO] | 2023/06/23 00:58:21 | ↓ Successfully download the url to: /home/antonkulaga/sources/non-animal-models/data/inputs/datasets/CVD/papers/10.1109/TBME.2013.2273496.pdf\n"
     ]
    },
    {
     "name": "stdout",
     "output_type": "stream",
     "text": [
      "  0% [                                                  ] 12288/2062391"
     ]
    },
    {
     "name": "stderr",
     "output_type": "stream",
     "text": [
      "[INFO] | 2023/06/23 00:58:21 | Choose scihub url [0]: https://sci-hub.ru\n",
      "[INFO] | 2023/06/23 00:58:21 | <- Request: scihub_url=https://sci-hub.ru, source=DoiSource[type=doi, id=doi.org/10.1016/j.taap.2015.07.024], proxies={}\n"
     ]
    },
    {
     "name": "stdout",
     "output_type": "stream",
     "text": [
      "  3% [=                                                 ] 77824/2062391"
     ]
    },
    {
     "name": "stderr",
     "output_type": "stream",
     "text": [
      "[INFO] | 2023/06/23 00:58:21 | -> Response: status_code=200, content_length=7155\n"
     ]
    },
    {
     "name": "stdout",
     "output_type": "stream",
     "text": [
      "  4% [==                                                ] 86016/2062391"
     ]
    },
    {
     "name": "stderr",
     "output_type": "stream",
     "text": [
      "[INFO] | 2023/06/23 00:58:21 | * Extracted information: {'url': 'https://zero.sci-hub.ru/6636/a2b016772590df55ba886a973391e187/gharaie2018.pdf', 'title': 'In Vitro Validation of a Numerical Simulation of Leaflet Kinematics in a Polymeric Aortic Valve Under Physiological Conditions. Cardiovascular Engineering and Technology, 9(1), 42–52'}\n"
     ]
    },
    {
     "name": "stdout",
     "output_type": "stream",
     "text": [
      " 10% [=====                                             ] 208896/2062391"
     ]
    },
    {
     "name": "stderr",
     "output_type": "stream",
     "text": [
      "[INFO] | 2023/06/23 00:58:21 | -> Response: status_code=200, content_length=7172\n",
      "[INFO] | 2023/06/23 00:58:21 | * Extracted information: {'url': 'https://zero.sci-hub.ru/7007/74f2f684612ee137462e768188cb0546/ghosh2018.pdf', 'title': 'Comparative Fluid-Structure Interaction Analysis of Polymeric Transcatheter and Surgical Aortic Valves’ Hemodynamics and Structural Mechanics. Journal of Biomechanical Engineering'}\n"
     ]
    },
    {
     "name": "stdout",
     "output_type": "stream",
     "text": [
      " 17% [========                                          ] 356352/2062391"
     ]
    },
    {
     "name": "stderr",
     "output_type": "stream",
     "text": [
      "[INFO] | 2023/06/23 00:58:22 | -> Response: status_code=200, content_length=7197\n"
     ]
    },
    {
     "name": "stdout",
     "output_type": "stream",
     "text": [
      " 18% [=========                                         ] 372736/2062391"
     ]
    },
    {
     "name": "stderr",
     "output_type": "stream",
     "text": [
      "[INFO] | 2023/06/23 00:58:22 | * Extracted information: {'url': 'https://moscow.sci-hub.ru/4493/5a475eacbecce53a8b344b0f610910d4/gilchrist2015.pdf', 'title': 'High-throughput cardiac safety evaluation and multi-parameter arrhythmia profiling of cardiomyocytes using microelectrode arrays. Toxicology and Applied Pharmacology, 288(2), 249–257'}\n"
     ]
    },
    {
     "name": "stdout",
     "output_type": "stream",
     "text": [
      " 38% [===================                               ] 802816/20864856\n",
      " 38% [===================                               ] 806912/20864850"
     ]
    },
    {
     "name": "stderr",
     "output_type": "stream",
     "text": [
      "[INFO] | 2023/06/23 00:58:23 | ↓ Successfully download the url to: /home/antonkulaga/sources/non-animal-models/data/inputs/datasets/CVD/papers/10.1007/s00348-013-1528-0.pdf\n"
     ]
    },
    {
     "name": "stdout",
     "output_type": "stream",
     "text": [
      "  9% [====                                              ] 888832/90408846"
     ]
    },
    {
     "name": "stderr",
     "output_type": "stream",
     "text": [
      "[INFO] | 2023/06/23 00:58:23 | -> Response: status_code=200, content_length=5829\n"
     ]
    },
    {
     "name": "stdout",
     "output_type": "stream",
     "text": [
      " 15% [=======                                           ] 1216512/7995585"
     ]
    },
    {
     "name": "stderr",
     "output_type": "stream",
     "text": [
      "[WARNING] | 2023/06/23 00:58:23 | Error occurs, task status: extracting_failed, error: No pdf tag was found in the given content with the selector: #pdf\n"
     ]
    },
    {
     "name": "stdout",
     "output_type": "stream",
     "text": [
      " 10% [=====                                             ] 978944/90408846"
     ]
    },
    {
     "name": "stderr",
     "output_type": "stream",
     "text": [
      "[INFO] | 2023/06/23 00:58:23 | Choose scihub url [3]: https://sci-hub.st\n"
     ]
    },
    {
     "name": "stdout",
     "output_type": "stream",
     "text": [
      " 35% [=================                                 ] 1236992/3495236"
     ]
    },
    {
     "name": "stderr",
     "output_type": "stream",
     "text": [
      "[INFO] | 2023/06/23 00:58:23 | <- Request: scihub_url=https://sci-hub.st, source=DoiSource[type=doi, id=doi.org/10.15388/NA.2019.4.1], proxies={}\n"
     ]
    },
    {
     "name": "stdout",
     "output_type": "stream",
     "text": [
      " 11% [=====                                             ] 1007616/9040884"
     ]
    },
    {
     "name": "stderr",
     "output_type": "stream",
     "text": [
      "[INFO] | 2023/06/23 00:58:23 | Choose scihub url [0]: https://sci-hub.ru\n"
     ]
    },
    {
     "name": "stdout",
     "output_type": "stream",
     "text": [
      " 45% [======================                            ] 958464/20864854"
     ]
    },
    {
     "name": "stderr",
     "output_type": "stream",
     "text": [
      "[INFO] | 2023/06/23 00:58:23 | <- Request: scihub_url=https://sci-hub.ru, source=DoiSource[type=doi, id=doi.org/10.1109/TBME.2016.2587362], proxies={}\n"
     ]
    },
    {
     "name": "stdout",
     "output_type": "stream",
     "text": [
      " 22% [===========                                       ] 1810432/7995585"
     ]
    },
    {
     "name": "stderr",
     "output_type": "stream",
     "text": [
      "[INFO] | 2023/06/23 00:58:23 | -> Response: status_code=200, content_length=5829\n"
     ]
    },
    {
     "name": "stdout",
     "output_type": "stream",
     "text": [
      " 23% [===========                                       ] 1900544/7995585"
     ]
    },
    {
     "name": "stderr",
     "output_type": "stream",
     "text": [
      "[WARNING] | 2023/06/23 00:58:23 | Error occurs, task status: extracting_failed, error: No pdf tag was found in the given content with the selector: #pdf\n"
     ]
    },
    {
     "name": "stdout",
     "output_type": "stream",
     "text": [
      " 18% [=========                                         ] 1662976/9040884"
     ]
    },
    {
     "name": "stderr",
     "output_type": "stream",
     "text": [
      "[INFO] | 2023/06/23 00:58:23 | Choose scihub url [4]: http://sci-hub.ru\n"
     ]
    },
    {
     "name": "stdout",
     "output_type": "stream",
     "text": [
      " 55% [===========================                       ] 1925120/3495236"
     ]
    },
    {
     "name": "stderr",
     "output_type": "stream",
     "text": [
      "[INFO] | 2023/06/23 00:58:23 | <- Request: scihub_url=http://sci-hub.ru, source=DoiSource[type=doi, id=doi.org/10.15388/NA.2019.4.1], proxies={}\n"
     ]
    },
    {
     "name": "stdout",
     "output_type": "stream",
     "text": [
      " 20% [==========                                        ] 1871872/9040884"
     ]
    },
    {
     "name": "stderr",
     "output_type": "stream",
     "text": [
      "[INFO] | 2023/06/23 00:58:23 | -> Response: status_code=200, content_length=7084\n"
     ]
    },
    {
     "name": "stdout",
     "output_type": "stream",
     "text": [
      " 26% [=============                                     ] 2121728/7995585"
     ]
    },
    {
     "name": "stderr",
     "output_type": "stream",
     "text": [
      "[INFO] | 2023/06/23 00:58:23 | * Extracted information: {'url': 'https://dacemirror.sci-hub.ru/journal-article/f14d8380be9996953d8fe8fe17e7209b/gindre2016.pdf', 'title': ''}\n"
     ]
    },
    {
     "name": "stdout",
     "output_type": "stream",
     "text": [
      " 70% [===================================               ] 2465792/3495236\n",
      " 70% [===================================               ] 2469888/3495236"
     ]
    },
    {
     "name": "stderr",
     "output_type": "stream",
     "text": [
      "[INFO] | 2023/06/23 00:58:24 | ↓ Successfully download the url to: /home/antonkulaga/sources/non-animal-models/data/inputs/datasets/CVD/papers/10.1016/j.taap.2015.07.024.pdf\n"
     ]
    },
    {
     "name": "stdout",
     "output_type": "stream",
     "text": [
      " 25% [============                                      ] 2260992/9040884\n",
      " 25% [============                                      ] 2269184/9040884"
     ]
    },
    {
     "name": "stderr",
     "output_type": "stream",
     "text": [
      "[INFO] | 2023/06/23 00:58:24 | ↓ Successfully download the url to: /home/antonkulaga/sources/non-animal-models/data/inputs/datasets/CVD/papers/10.1007/s00330-014-3323-6.pdf\n"
     ]
    },
    {
     "name": "stdout",
     "output_type": "stream",
     "text": [
      " 75% [=====================================             ] 2646016/3495236"
     ]
    },
    {
     "name": "stderr",
     "output_type": "stream",
     "text": [
      "[INFO] | 2023/06/23 00:58:24 | Choose scihub url [0]: https://sci-hub.ru\n"
     ]
    },
    {
     "name": "stdout",
     "output_type": "stream",
     "text": [
      " 76% [======================================            ] 2658304/3495236"
     ]
    },
    {
     "name": "stderr",
     "output_type": "stream",
     "text": [
      "[INFO] | 2023/06/23 00:58:24 | Choose scihub url [0]: https://sci-hub.ru\n"
     ]
    },
    {
     "name": "stdout",
     "output_type": "stream",
     "text": [
      " 77% [======================================            ] 2842624/3682030"
     ]
    },
    {
     "name": "stderr",
     "output_type": "stream",
     "text": [
      "[INFO] | 2023/06/23 00:58:24 | <- Request: scihub_url=https://sci-hub.ru, source=DoiSource[type=doi, id=doi.org/10.1161/CIRCRESAHA.115.304458], proxies={}\n"
     ]
    },
    {
     "name": "stdout",
     "output_type": "stream",
     "text": [
      " 26% [=============                                     ] 2363392/9040884"
     ]
    },
    {
     "name": "stderr",
     "output_type": "stream",
     "text": [
      "[INFO] | 2023/06/23 00:58:24 | <- Request: scihub_url=https://sci-hub.ru, source=DoiSource[type=doi, id=doi.org/10.1016/j.tiv.2018.03.006], proxies={}\n"
     ]
    },
    {
     "name": "stdout",
     "output_type": "stream",
     "text": [
      " 40% [====================                              ] 3260416/7995585"
     ]
    },
    {
     "name": "stderr",
     "output_type": "stream",
     "text": [
      "[INFO] | 2023/06/23 00:58:24 | -> Response: status_code=200, content_length=7314\n"
     ]
    },
    {
     "name": "stdout",
     "output_type": "stream",
     "text": [
      " 95% [===============================================   ] 3522560/3682030"
     ]
    },
    {
     "name": "stderr",
     "output_type": "stream",
     "text": [
      "[INFO] | 2023/06/23 00:58:24 | * Extracted information: {'url': 'https://dacemirror.sci-hub.ru/journal-article/6def57472b511f1f111cb9ae8a1a48b0/glessner2014.pdf', 'title': 'Increased Frequency of De Novo Copy Number Variants in Congenital Heart Disease by Integrative Analysis of Single Nucleotide Polymorphism Array and Exome Sequence Data. Circulation Research, 115(10),'}\n"
     ]
    },
    {
     "name": "stdout",
     "output_type": "stream",
     "text": [
      " 98% [================================================= ] 3457024/3495236\n",
      " 42% [=====================                             ] 3424256/7995585"
     ]
    },
    {
     "name": "stderr",
     "output_type": "stream",
     "text": [
      "[INFO] | 2023/06/23 00:58:24 | ↓ Successfully download the url to: /home/antonkulaga/sources/non-animal-models/data/inputs/datasets/CVD/papers/10.1007/s13239-018-0340-7.pdf\n"
     ]
    },
    {
     "name": "stdout",
     "output_type": "stream",
     "text": [
      " 35% [=================                                 ] 3186688/9040884\n",
      " 43% [=====================                             ] 3457024/7995585"
     ]
    },
    {
     "name": "stderr",
     "output_type": "stream",
     "text": [
      "[INFO] | 2023/06/23 00:58:24 | ↓ Successfully download the url to: /home/antonkulaga/sources/non-animal-models/data/inputs/datasets/CVD/papers/10.1016/j.scr.2018.08.015.pdf\n"
     ]
    },
    {
     "name": "stdout",
     "output_type": "stream",
     "text": [
      " 36% [==================                                ] 3338240/9040884"
     ]
    },
    {
     "name": "stderr",
     "output_type": "stream",
     "text": [
      "[INFO] | 2023/06/23 00:58:24 | Choose scihub url [0]: https://sci-hub.ru\n"
     ]
    },
    {
     "name": "stdout",
     "output_type": "stream",
     "text": [
      " 45% [======================                            ] 3600384/7995585"
     ]
    },
    {
     "name": "stderr",
     "output_type": "stream",
     "text": [
      "[INFO] | 2023/06/23 00:58:24 | Choose scihub url [0]: https://sci-hub.ru\n"
     ]
    },
    {
     "name": "stdout",
     "output_type": "stream",
     "text": [
      " 37% [==================                                ] 3354624/9040884"
     ]
    },
    {
     "name": "stderr",
     "output_type": "stream",
     "text": [
      "[INFO] | 2023/06/23 00:58:24 | <- Request: scihub_url=https://sci-hub.ru, source=DoiSource[type=doi, id=doi.org/10.1097/MAT.0b013e31827db6d4], proxies={}\n"
     ]
    },
    {
     "name": "stdout",
     "output_type": "stream",
     "text": [
      " 45% [======================                            ] 3620864/7995585"
     ]
    },
    {
     "name": "stderr",
     "output_type": "stream",
     "text": [
      "[INFO] | 2023/06/23 00:58:24 | <- Request: scihub_url=https://sci-hub.ru, source=DoiSource[type=doi, id=doi.org/10.1007/s10439-017-1803-y], proxies={}\n"
     ]
    },
    {
     "name": "stdout",
     "output_type": "stream",
     "text": [
      " 44% [======================                            ] 3989504/9040884"
     ]
    },
    {
     "name": "stderr",
     "output_type": "stream",
     "text": [
      "[INFO] | 2023/06/23 00:58:25 | -> Response: status_code=200, content_length=7124\n"
     ]
    },
    {
     "name": "stdout",
     "output_type": "stream",
     "text": [
      " 52% [==========================                        ] 4218880/7995585"
     ]
    },
    {
     "name": "stderr",
     "output_type": "stream",
     "text": [
      "[INFO] | 2023/06/23 00:58:25 | * Extracted information: {'url': 'https://dacemirror.sci-hub.ru/journal-article/f1fe29cd122e78e2719dbd60c9985515/10.1016@j.tiv.2018.03.006.pdf', 'title': 'Tributyltin role on the serotonin and histamine receptors in human umbilical artery. Toxicology in Vitro, 50, 210–216'}\n"
     ]
    },
    {
     "name": "stdout",
     "output_type": "stream",
     "text": [
      " 44% [======================                            ] 3997696/9040884"
     ]
    },
    {
     "name": "stderr",
     "output_type": "stream",
     "text": [
      "[INFO] | 2023/06/23 00:58:25 | -> Response: status_code=200, content_length=5829\n"
     ]
    },
    {
     "name": "stdout",
     "output_type": "stream",
     "text": [
      " 45% [======================                            ] 4141056/9040884"
     ]
    },
    {
     "name": "stderr",
     "output_type": "stream",
     "text": [
      "[WARNING] | 2023/06/23 00:58:25 | Error occurs, task status: extracting_failed, error: No pdf tag was found in the given content with the selector: #pdf\n",
      "[INFO] | 2023/06/23 00:58:25 | Choose scihub url [5]: https://sci-hub.se\n"
     ]
    },
    {
     "name": "stdout",
     "output_type": "stream",
     "text": [
      " 45% [======================                            ] 4157440/9040884"
     ]
    },
    {
     "name": "stderr",
     "output_type": "stream",
     "text": [
      "[INFO] | 2023/06/23 00:58:25 | <- Request: scihub_url=https://sci-hub.se, source=DoiSource[type=doi, id=doi.org/10.15388/NA.2019.4.1], proxies={}\n"
     ]
    },
    {
     "name": "stdout",
     "output_type": "stream",
     "text": [
      " 56% [============================                      ] 4517888/7995585"
     ]
    },
    {
     "name": "stderr",
     "output_type": "stream",
     "text": [
      "[INFO] | 2023/06/23 00:58:25 | -> Response: status_code=200, content_length=7272\n"
     ]
    },
    {
     "name": "stdout",
     "output_type": "stream",
     "text": [
      " 56% [============================                      ] 4534272/7995585"
     ]
    },
    {
     "name": "stderr",
     "output_type": "stream",
     "text": [
      "[INFO] | 2023/06/23 00:58:25 | -> Response: status_code=200, content_length=7334\n"
     ]
    },
    {
     "name": "stdout",
     "output_type": "stream",
     "text": [
      "  1% [                                                  ] 40960/234730884"
     ]
    },
    {
     "name": "stderr",
     "output_type": "stream",
     "text": [
      "[INFO] | 2023/06/23 00:58:25 | * Extracted information: {'url': 'https://moscow.sci-hub.ru/3773/75cde49977cecf805c07e7d006418d70/gohean2013.pdf', 'title': 'Verification of a Computational Cardiovascular System Model Comparing the Hemodynamics of a Continuous Flow to a Synchronous Valveless Pulsatile Flow Left Ventricular Assist Device. ASAIO Journal, 59'}\n"
     ]
    },
    {
     "name": "stdout",
     "output_type": "stream",
     "text": [
      " 47% [=======================                           ] 4321280/9040884"
     ]
    },
    {
     "name": "stderr",
     "output_type": "stream",
     "text": [
      "[INFO] | 2023/06/23 00:58:25 | * Extracted information: {'url': 'https://dacemirror.sci-hub.ru/journal-article/7ba66d968e3632c17729aefb524566b7/10.1007@s10439-017-1803-y.pdf', 'title': 'Numerical Modeling of Nitinol Stent Oversizing in Arteries with Clinically Relevant Levels of Peripheral Arterial Disease  The Influence of Plaque Type on the Outcomes of Endovascular Therapy. Annals'}\n"
     ]
    },
    {
     "name": "stdout",
     "output_type": "stream",
     "text": [
      " 12% [======                                            ] 299008/23473085"
     ]
    },
    {
     "name": "stderr",
     "output_type": "stream",
     "text": [
      "[INFO] | 2023/06/23 00:58:25 | -> Response: status_code=200, content_length=5829\n"
     ]
    },
    {
     "name": "stdout",
     "output_type": "stream",
     "text": [
      " 66% [=================================                 ] 5292032/7995585"
     ]
    },
    {
     "name": "stderr",
     "output_type": "stream",
     "text": [
      "[WARNING] | 2023/06/23 00:58:25 | Error occurs, task status: extracting_failed, error: No pdf tag was found in the given content with the selector: #pdf\n"
     ]
    },
    {
     "name": "stdout",
     "output_type": "stream",
     "text": [
      " 56% [============================                      ] 5070848/9040884"
     ]
    },
    {
     "name": "stderr",
     "output_type": "stream",
     "text": [
      "[ERROR] | 2023/06/23 00:58:25 | Failed to download the paper: https://doi.org/10.15388/NA.2019.4.1. Please try again.\n"
     ]
    },
    {
     "name": "stdout",
     "output_type": "stream",
     "text": [
      " 17% [========                                          ] 409600/23473084"
     ]
    },
    {
     "name": "stderr",
     "output_type": "stream",
     "text": [
      "[INFO] | 2023/06/23 00:58:25 | Choose scihub url [0]: https://sci-hub.ru\n"
     ]
    },
    {
     "name": "stdout",
     "output_type": "stream",
     "text": [
      " 66% [=================================                 ] 5324800/7995585"
     ]
    },
    {
     "name": "stderr",
     "output_type": "stream",
     "text": [
      "[INFO] | 2023/06/23 00:58:25 | <- Request: scihub_url=https://sci-hub.ru, source=DoiSource[type=doi, id=doi.org/10.1007/s10439-014-1116-3], proxies={}\n"
     ]
    },
    {
     "name": "stdout",
     "output_type": "stream",
     "text": [
      " 51% [=========================                         ] 368640/71449295"
     ]
    },
    {
     "name": "stderr",
     "output_type": "stream",
     "text": [
      "[INFO] | 2023/06/23 00:58:26 | -> Response: status_code=200, content_length=7150\n"
     ]
    },
    {
     "name": "stdout",
     "output_type": "stream",
     "text": [
      " 61% [==============================                    ] 544768/88144984"
     ]
    },
    {
     "name": "stderr",
     "output_type": "stream",
     "text": [
      "[INFO] | 2023/06/23 00:58:26 | * Extracted information: {'url': 'https://dacemirror.sci-hub.ru/journal-article/d64641317decccfac0e8344b8aa9c7bd/goubergrits2014.pdf', 'title': 'Is MRI-Based CFD Able to Improve Clinical Treatment of Coarctations of Aorta  Annals of Biomedical Engineering, 43(1), 168–176'}\n"
     ]
    },
    {
     "name": "stdout",
     "output_type": "stream",
     "text": [
      "100% [==================================================] 881449/88144985\n",
      " 63% [===============================                   ] 5758976/9040884"
     ]
    },
    {
     "name": "stderr",
     "output_type": "stream",
     "text": [
      "[INFO] | 2023/06/23 00:58:26 | ↓ Successfully download the url to: /home/antonkulaga/sources/non-animal-models/data/inputs/datasets/CVD/papers/10.1109/TBME.2016.2587362.pdf\n"
     ]
    },
    {
     "name": "stdout",
     "output_type": "stream",
     "text": [
      " 50% [=========================                         ] 544768/10686695\n",
      " 63% [===============================                   ] 5779456/9040884"
     ]
    },
    {
     "name": "stderr",
     "output_type": "stream",
     "text": [
      "[INFO] | 2023/06/23 00:58:26 | ↓ Successfully download the url to: /home/antonkulaga/sources/non-animal-models/data/inputs/datasets/CVD/papers/10.1097/MAT.0b013e31827db6d4.pdf\n"
     ]
    },
    {
     "name": "stdout",
     "output_type": "stream",
     "text": [
      " 32% [================                                  ] 622592/19217995"
     ]
    },
    {
     "name": "stderr",
     "output_type": "stream",
     "text": [
      "[INFO] | 2023/06/23 00:58:26 | Choose scihub url [0]: https://sci-hub.ru\n"
     ]
    },
    {
     "name": "stdout",
     "output_type": "stream",
     "text": [
      " 53% [==========================                        ] 1249280/2347308"
     ]
    },
    {
     "name": "stderr",
     "output_type": "stream",
     "text": [
      "[INFO] | 2023/06/23 00:58:26 | <- Request: scihub_url=https://sci-hub.ru, source=DoiSource[type=doi, id=doi.org/10.1016/j.atherosclerosis.2014.01.043], proxies={}\n"
     ]
    },
    {
     "name": "stdout",
     "output_type": "stream",
     "text": [
      " 65% [================================                  ] 5914624/9040884"
     ]
    },
    {
     "name": "stderr",
     "output_type": "stream",
     "text": [
      "[INFO] | 2023/06/23 00:58:26 | Choose scihub url [0]: https://sci-hub.ru\n"
     ]
    },
    {
     "name": "stdout",
     "output_type": "stream",
     "text": [
      " 76% [======================================            ] 6148096/7995585"
     ]
    },
    {
     "name": "stderr",
     "output_type": "stream",
     "text": [
      "[INFO] | 2023/06/23 00:58:26 | <- Request: scihub_url=https://sci-hub.ru, source=DoiSource[type=doi, id=doi.org/10.1007/s12265-017-9747-z], proxies={}\n"
     ]
    },
    {
     "name": "stdout",
     "output_type": "stream",
     "text": [
      " 69% [==================================                ] 6303744/9040884\n",
      " 69% [==================================                ] 1630208/2347308"
     ]
    },
    {
     "name": "stderr",
     "output_type": "stream",
     "text": [
      "[INFO] | 2023/06/23 00:58:26 | ↓ Successfully download the url to: /home/antonkulaga/sources/non-animal-models/data/inputs/datasets/CVD/papers/10.1016/j.tiv.2018.03.006.pdf\n"
     ]
    },
    {
     "name": "stdout",
     "output_type": "stream",
     "text": [
      " 28% [==============                                    ] 385024/13632925"
     ]
    },
    {
     "name": "stderr",
     "output_type": "stream",
     "text": [
      "[INFO] | 2023/06/23 00:58:26 | -> Response: status_code=200, content_length=7170\n"
     ]
    },
    {
     "name": "stdout",
     "output_type": "stream",
     "text": [
      " 70% [===================================               ] 6410240/9040884"
     ]
    },
    {
     "name": "stderr",
     "output_type": "stream",
     "text": [
      "[INFO] | 2023/06/23 00:58:26 | -> Response: status_code=200, content_length=7253\n"
     ]
    },
    {
     "name": "stdout",
     "output_type": "stream",
     "text": [
      " 74% [=====================================             ] 1748992/2347308"
     ]
    },
    {
     "name": "stderr",
     "output_type": "stream",
     "text": [
      "[INFO] | 2023/06/23 00:58:26 | * Extracted information: {'url': 'https://zero.sci-hub.ru/6344/7f19b9f5d4f15ac980927bcb4281c712/granados2017.pdf', 'title': 'Development and Characterization of a Porcine Mitral Valve Scaffold for Tissue Engineering. Journal of Cardiovascular Translational Research, 10(4), 374–390'}\n"
     ]
    },
    {
     "name": "stdout",
     "output_type": "stream",
     "text": [
      " 58% [=============================                     ] 1122304/1921799"
     ]
    },
    {
     "name": "stderr",
     "output_type": "stream",
     "text": [
      "[INFO] | 2023/06/23 00:58:26 | * Extracted information: {'url': 'https://moscow.sci-hub.ru/2296/057029ece78b96d677c52a24de71dbe0/govindaraju2014.pdf', 'title': 'Effect of porous media of the stenosed artery wall to the coronary physiological diagnostic parameter  A computational fluid dynamic analysis. Atherosclerosis, 233(2), 630–635'}\n"
     ]
    },
    {
     "name": "stdout",
     "output_type": "stream",
     "text": [
      " 83% [=========================================         ] 6639616/7995585"
     ]
    },
    {
     "name": "stderr",
     "output_type": "stream",
     "text": [
      "[INFO] | 2023/06/23 00:58:26 | Choose scihub url [0]: https://sci-hub.ru\n"
     ]
    },
    {
     "name": "stdout",
     "output_type": "stream",
     "text": [
      " 59% [=============================                     ] 1138688/1921799"
     ]
    },
    {
     "name": "stderr",
     "output_type": "stream",
     "text": [
      "[INFO] | 2023/06/23 00:58:26 | <- Request: scihub_url=https://sci-hub.ru, source=DoiSource[type=doi, id=doi.org/10.1109/TBME.2015.2489188], proxies={}\n"
     ]
    },
    {
     "name": "stdout",
     "output_type": "stream",
     "text": [
      " 76% [======================================            ] 1044480/1363292\n",
      " 76% [======================================            ] 1048576/1363292"
     ]
    },
    {
     "name": "stderr",
     "output_type": "stream",
     "text": [
      "[INFO] | 2023/06/23 00:58:27 | ↓ Successfully download the url to: /home/antonkulaga/sources/non-animal-models/data/inputs/datasets/CVD/papers/10.1161/CIRCRESAHA.115.304458.pdf\n"
     ]
    },
    {
     "name": "stdout",
     "output_type": "stream",
     "text": [
      " 82% [=========================================         ] 1130496/1363292"
     ]
    },
    {
     "name": "stderr",
     "output_type": "stream",
     "text": [
      "[INFO] | 2023/06/23 00:58:27 | Choose scihub url [0]: https://sci-hub.ru\n"
     ]
    },
    {
     "name": "stdout",
     "output_type": "stream",
     "text": [
      " 92% [==============================================    ] 7356416/7995585"
     ]
    },
    {
     "name": "stderr",
     "output_type": "stream",
     "text": [
      "[INFO] | 2023/06/23 00:58:27 | <- Request: scihub_url=https://sci-hub.ru, source=DoiSource[type=doi, id=doi.org/10.1111/aor.12167], proxies={}\n"
     ]
    },
    {
     "name": "stdout",
     "output_type": "stream",
     "text": [
      " 92% [==============================================    ] 1265664/1363292\n",
      "  2% [=                                                 ] 606208/20913449"
     ]
    },
    {
     "name": "stderr",
     "output_type": "stream",
     "text": [
      "[INFO] | 2023/06/23 00:58:27 | ↓ Successfully download the url to: /home/antonkulaga/sources/non-animal-models/data/inputs/datasets/CVD/papers/10.1007/s10439-017-1803-y.pdf\n"
     ]
    },
    {
     "name": "stdout",
     "output_type": "stream",
     "text": [
      " 56% [============================                      ] 524288/92541149\n",
      "  3% [=                                                 ] 696320/20913449"
     ]
    },
    {
     "name": "stderr",
     "output_type": "stream",
     "text": [
      "[INFO] | 2023/06/23 00:58:27 | ↓ Successfully download the url to: /home/antonkulaga/sources/non-animal-models/data/inputs/datasets/CVD/papers/10.1007/s10439-014-1116-3.pdf\n"
     ]
    },
    {
     "name": "stdout",
     "output_type": "stream",
     "text": [
      "  3% [=                                                 ] 794624/20913449"
     ]
    },
    {
     "name": "stderr",
     "output_type": "stream",
     "text": [
      "[INFO] | 2023/06/23 00:58:27 | Choose scihub url [0]: https://sci-hub.ru\n"
     ]
    },
    {
     "name": "stdout",
     "output_type": "stream",
     "text": [
      " 82% [=========================================         ] 7446528/9040884"
     ]
    },
    {
     "name": "stderr",
     "output_type": "stream",
     "text": [
      "[INFO] | 2023/06/23 00:58:27 | Choose scihub url [0]: https://sci-hub.ru\n"
     ]
    },
    {
     "name": "stdout",
     "output_type": "stream",
     "text": [
      " 95% [===============================================   ] 7663616/7995585"
     ]
    },
    {
     "name": "stderr",
     "output_type": "stream",
     "text": [
      "[INFO] | 2023/06/23 00:58:27 | <- Request: scihub_url=https://sci-hub.ru, source=DoiSource[type=doi, id=doi.org/10.1016/j.media.2016.03.011], proxies={}\n"
     ]
    },
    {
     "name": "stdout",
     "output_type": "stream",
     "text": [
      "  3% [=                                                 ] 811008/20913449"
     ]
    },
    {
     "name": "stderr",
     "output_type": "stream",
     "text": [
      "[INFO] | 2023/06/23 00:58:27 | <- Request: scihub_url=https://sci-hub.ru, source=DoiSource[type=doi, id=doi.org/10.1161/HYPERTENSIONAHA.116.08964], proxies={}\n"
     ]
    },
    {
     "name": "stdout",
     "output_type": "stream",
     "text": [
      " 99% [================================================= ] 7974912/79955859\n",
      "  4% [==                                                ] 1044480/20913449"
     ]
    },
    {
     "name": "stderr",
     "output_type": "stream",
     "text": [
      "[INFO] | 2023/06/23 00:58:28 | ↓ Successfully download the url to: /home/antonkulaga/sources/non-animal-models/data/inputs/datasets/CVD/papers/10.1016/j.atherosclerosis.2014.01.043.pdf\n"
     ]
    },
    {
     "name": "stdout",
     "output_type": "stream",
     "text": [
      "100% [==================================================] 7995585/79955859\n",
      "  5% [==                                                ] 1069056/20913449"
     ]
    },
    {
     "name": "stderr",
     "output_type": "stream",
     "text": [
      "[INFO] | 2023/06/23 00:58:28 | ↓ Successfully download the url to: /home/antonkulaga/sources/non-animal-models/data/inputs/datasets/CVD/papers/10.1115/1.4040600.pdf\n"
     ]
    },
    {
     "name": "stdout",
     "output_type": "stream",
     "text": [
      "  6% [===                                               ] 1257472/20913449"
     ]
    },
    {
     "name": "stderr",
     "output_type": "stream",
     "text": [
      "[INFO] | 2023/06/23 00:58:28 | Choose scihub url [0]: https://sci-hub.ru\n"
     ]
    },
    {
     "name": "stdout",
     "output_type": "stream",
     "text": [
      " 88% [============================================      ] 7970816/90408849"
     ]
    },
    {
     "name": "stderr",
     "output_type": "stream",
     "text": [
      "[INFO] | 2023/06/23 00:58:28 | -> Response: status_code=200, content_length=7025\n"
     ]
    },
    {
     "name": "stdout",
     "output_type": "stream",
     "text": [
      " 88% [============================================      ] 7974912/90408849"
     ]
    },
    {
     "name": "stderr",
     "output_type": "stream",
     "text": [
      "[INFO] | 2023/06/23 00:58:28 | Choose scihub url [0]: https://sci-hub.ru\n"
     ]
    },
    {
     "name": "stdout",
     "output_type": "stream",
     "text": [
      "  6% [===                                               ] 1269760/20913449"
     ]
    },
    {
     "name": "stderr",
     "output_type": "stream",
     "text": [
      "[INFO] | 2023/06/23 00:58:28 | <- Request: scihub_url=https://sci-hub.ru, source=DoiSource[type=doi, id=doi.org/10.1016/j.jbiomech.2015.11.009], proxies={}\n"
     ]
    },
    {
     "name": "stdout",
     "output_type": "stream",
     "text": [
      " 88% [============================================      ] 7983104/90408849"
     ]
    },
    {
     "name": "stderr",
     "output_type": "stream",
     "text": [
      "[INFO] | 2023/06/23 00:58:28 | <- Request: scihub_url=https://sci-hub.ru, source=DoiSource[type=doi, id=doi.org/10.1016/j.jmbbm.2016.01.009], proxies={}\n"
     ]
    },
    {
     "name": "stdout",
     "output_type": "stream",
     "text": [
      "  6% [===                                               ] 1277952/20913449"
     ]
    },
    {
     "name": "stderr",
     "output_type": "stream",
     "text": [
      "[INFO] | 2023/06/23 00:58:28 | * Extracted information: {'url': 'https://zero.sci-hub.ru/2279/e3b60ff494c4b17409108810d4de30a7/granegger2013.pdf', 'title': 'Assessment of Aortic Valve Opening During Rotary Blood Pump Support Using Pump Signals. Artificial Organs, 38(4), 290–297'}\n"
     ]
    },
    {
     "name": "stdout",
     "output_type": "stream",
     "text": [
      " 98% [================================================= ] 8929280/90408849"
     ]
    },
    {
     "name": "stderr",
     "output_type": "stream",
     "text": [
      "[INFO] | 2023/06/23 00:58:28 | -> Response: status_code=200, content_length=6991\n"
     ]
    },
    {
     "name": "stdout",
     "output_type": "stream",
     "text": [
      " 10% [=====                                             ] 2244608/20913449"
     ]
    },
    {
     "name": "stderr",
     "output_type": "stream",
     "text": [
      "[INFO] | 2023/06/23 00:58:28 | * Extracted information: {'url': 'https://zero.sci-hub.ru/4686/80644951ae72c58401d0ef75d7546ccf/granegger2015.pdf', 'title': ''}\n"
     ]
    },
    {
     "name": "stdout",
     "output_type": "stream",
     "text": [
      " 11% [=====                                             ] 2342912/20913449\n",
      " 11% [=====                                             ] 2347008/20913449"
     ]
    },
    {
     "name": "stderr",
     "output_type": "stream",
     "text": [
      "[INFO] | 2023/06/23 00:58:28 | ↓ Successfully download the url to: /home/antonkulaga/sources/non-animal-models/data/inputs/datasets/CVD/papers/10.1016/j.jconrel.2018.05.023.pdf\n"
     ]
    },
    {
     "name": "stdout",
     "output_type": "stream",
     "text": [
      " 12% [======                                            ] 2633728/20913449"
     ]
    },
    {
     "name": "stderr",
     "output_type": "stream",
     "text": [
      "[INFO] | 2023/06/23 00:58:28 | Choose scihub url [0]: https://sci-hub.ru\n",
      "[INFO] | 2023/06/23 00:58:28 | <- Request: scihub_url=https://sci-hub.ru, source=DoiSource[type=doi, id=doi.org/10.1007/s10439-014-1008-6], proxies={}\n"
     ]
    },
    {
     "name": "stdout",
     "output_type": "stream",
     "text": [
      " 12% [======                                            ] 2691072/20913449"
     ]
    },
    {
     "name": "stderr",
     "output_type": "stream",
     "text": [
      "[INFO] | 2023/06/23 00:58:28 | -> Response: status_code=200, content_length=7215\n"
     ]
    },
    {
     "name": "stdout",
     "output_type": "stream",
     "text": [
      " 12% [======                                            ] 2699264/20913449"
     ]
    },
    {
     "name": "stderr",
     "output_type": "stream",
     "text": [
      "[INFO] | 2023/06/23 00:58:28 | -> Response: status_code=200, content_length=6982\n"
     ]
    },
    {
     "name": "stdout",
     "output_type": "stream",
     "text": [
      " 12% [======                                            ] 2703360/20913449"
     ]
    },
    {
     "name": "stderr",
     "output_type": "stream",
     "text": [
      "[INFO] | 2023/06/23 00:58:28 | * Extracted information: {'url': 'https://zero.sci-hub.ru/6304/050d8a052ea2316a2cd51718b5848e7d/greaney2017.pdf', 'title': 'Impaired Hydrogen Sulfide–Mediated Vasodilation Contributes to Microvascular Endothelial Dysfunction in Hypertensive AdultsNovelty and Significance. Hypertension, 69(5), 902–909'}\n"
     ]
    },
    {
     "name": "stdout",
     "output_type": "stream",
     "text": [
      " 12% [======                                            ] 2707456/20913449"
     ]
    },
    {
     "name": "stderr",
     "output_type": "stream",
     "text": [
      "[INFO] | 2023/06/23 00:58:28 | * Extracted information: {'url': 'https://moscow.sci-hub.ru/5227/d28382dbe3cb043f3d74cda8253d5db5/grbic2016.pdf', 'title': ''}\n"
     ]
    },
    {
     "name": "stdout",
     "output_type": "stream",
     "text": [
      " 16% [========                                          ] 3346432/20913449"
     ]
    },
    {
     "name": "stderr",
     "output_type": "stream",
     "text": [
      "[INFO] | 2023/06/23 00:58:28 | -> Response: status_code=200, content_length=7117\n"
     ]
    },
    {
     "name": "stdout",
     "output_type": "stream",
     "text": [
      " 16% [========                                          ] 3350528/20913449"
     ]
    },
    {
     "name": "stderr",
     "output_type": "stream",
     "text": [
      "[INFO] | 2023/06/23 00:58:28 | -> Response: status_code=200, content_length=7203\n"
     ]
    },
    {
     "name": "stdout",
     "output_type": "stream",
     "text": [
      " 16% [========                                          ] 3362816/20913449"
     ]
    },
    {
     "name": "stderr",
     "output_type": "stream",
     "text": [
      "[INFO] | 2023/06/23 00:58:28 | * Extracted information: {'url': 'https://zero.sci-hub.ru/5166/7ec42285ed5114fa2aed8bf55aacc549/guerciotti2016.pdf', 'title': 'Computational study of the fluid-dynamics in carotids before and after endarterectomy. Journal of Biomechanics, 49(1), 26–38'}\n"
     ]
    },
    {
     "name": "stdout",
     "output_type": "stream",
     "text": [
      " 16% [========                                          ] 3366912/20913449"
     ]
    },
    {
     "name": "stderr",
     "output_type": "stream",
     "text": [
      "[INFO] | 2023/06/23 00:58:28 | * Extracted information: {'url': 'https://moscow.sci-hub.ru/5104/92f456c4c5eaecaae6be2aaa3b1e3c88/gunning2016.pdf', 'title': 'The effects of decellularization and cross-linking techniques on the fatigue life and calcification of mitral valve chordae tendineae. Journal of the Mechanical Behavior of Biomedical Materials, 57,'}\n"
     ]
    },
    {
     "name": "stdout",
     "output_type": "stream",
     "text": [
      " 33% [================                                  ] 253952/767806449"
     ]
    },
    {
     "name": "stderr",
     "output_type": "stream",
     "text": [
      "[INFO] | 2023/06/23 00:58:29 | -> Response: status_code=200, content_length=7133\n"
     ]
    },
    {
     "name": "stdout",
     "output_type": "stream",
     "text": [
      " 34% [=================                                 ] 262144/767806449"
     ]
    },
    {
     "name": "stderr",
     "output_type": "stream",
     "text": [
      "[INFO] | 2023/06/23 00:58:29 | * Extracted information: {'url': 'https://moscow.sci-hub.ru/2633/f8f4ea3aab4bb224515a67e928555882/gunning2014.pdf', 'title': 'An In Vitro Evaluation of the Impact of Eccentric Deployment on Transcatheter Aortic Valve Hemodynamics. Annals of Biomedical Engineering, 42(6), 1195–1206'}\n"
     ]
    },
    {
     "name": "stdout",
     "output_type": "stream",
     "text": [
      " 62% [===============================                   ] 524288/840569849\n",
      "  6% [===                                               ] 585728/899956849"
     ]
    },
    {
     "name": "stderr",
     "output_type": "stream",
     "text": [
      "[INFO] | 2023/06/23 00:58:30 | ↓ Successfully download the url to: /home/antonkulaga/sources/non-animal-models/data/inputs/datasets/CVD/papers/10.1109/TBME.2015.2489188.pdf\n"
     ]
    },
    {
     "name": "stdout",
     "output_type": "stream",
     "text": [
      "  8% [====                                              ] 724992/899956849"
     ]
    },
    {
     "name": "stderr",
     "output_type": "stream",
     "text": [
      "[INFO] | 2023/06/23 00:58:30 | Choose scihub url [0]: https://sci-hub.ru\n"
     ]
    },
    {
     "name": "stdout",
     "output_type": "stream",
     "text": [
      "  6% [===                                               ] 364544/586541349"
     ]
    },
    {
     "name": "stderr",
     "output_type": "stream",
     "text": [
      "[INFO] | 2023/06/23 00:58:30 | <- Request: scihub_url=https://sci-hub.ru, source=DoiSource[type=doi, id=doi.org/10.1093/toxsci/kft205], proxies={}\n"
     ]
    },
    {
     "name": "stdout",
     "output_type": "stream",
     "text": [
      "100% [==================================================] 840569/840569349\n",
      " 21% [==========                                        ] 417792/193304849"
     ]
    },
    {
     "name": "stderr",
     "output_type": "stream",
     "text": [
      "[INFO] | 2023/06/23 00:58:30 | ↓ Successfully download the url to: /home/antonkulaga/sources/non-animal-models/data/inputs/datasets/CVD/papers/10.1161/HYPERTENSIONAHA.116.08964.pdf\n"
     ]
    },
    {
     "name": "stdout",
     "output_type": "stream",
     "text": [
      " 10% [=====                                             ] 970752/899956849"
     ]
    },
    {
     "name": "stderr",
     "output_type": "stream",
     "text": [
      "[INFO] | 2023/06/23 00:58:30 | Choose scihub url [0]: https://sci-hub.ru\n"
     ]
    },
    {
     "name": "stdout",
     "output_type": "stream",
     "text": [
      " 34% [=================                                 ] 7118848/20913449"
     ]
    },
    {
     "name": "stderr",
     "output_type": "stream",
     "text": [
      "[INFO] | 2023/06/23 00:58:30 | <- Request: scihub_url=https://sci-hub.ru, source=DoiSource[type=doi, id=doi.org/10.1161/CIRCRESAHA.115.306874], proxies={}\n"
     ]
    },
    {
     "name": "stdout",
     "output_type": "stream",
     "text": [
      " 33% [================                                  ] 643072/193304889"
     ]
    },
    {
     "name": "stderr",
     "output_type": "stream",
     "text": [
      "[INFO] | 2023/06/23 00:58:30 | -> Response: status_code=200, content_length=7031\n"
     ]
    },
    {
     "name": "stdout",
     "output_type": "stream",
     "text": [
      " 33% [================                                  ] 655360/193304849"
     ]
    },
    {
     "name": "stderr",
     "output_type": "stream",
     "text": [
      "[INFO] | 2023/06/23 00:58:30 | * Extracted information: {'url': 'https://zero.sci-hub.ru/3795/bae3c857b5f91a4c33823a2647786ce9/guo2013.pdf', 'title': 'Refining the Human iPSC-Cardiomyocyte Arrhythmic Risk Assessment Model. Toxicological Sciences, 136(2), 581–594'}\n"
     ]
    },
    {
     "name": "stdout",
     "output_type": "stream",
     "text": [
      " 13% [======                                            ] 1245184/89995689\n",
      " 39% [===================                               ] 765952/193304849"
     ]
    },
    {
     "name": "stderr",
     "output_type": "stream",
     "text": [
      "[INFO] | 2023/06/23 00:58:30 | ↓ Successfully download the url to: /home/antonkulaga/sources/non-animal-models/data/inputs/datasets/CVD/papers/10.1111/aor.12167.pdf\n"
     ]
    },
    {
     "name": "stdout",
     "output_type": "stream",
     "text": [
      " 14% [=======                                           ] 1343488/89995689"
     ]
    },
    {
     "name": "stderr",
     "output_type": "stream",
     "text": [
      "[INFO] | 2023/06/23 00:58:30 | Choose scihub url [0]: https://sci-hub.ru\n"
     ]
    },
    {
     "name": "stdout",
     "output_type": "stream",
     "text": [
      " 35% [=================                                 ] 7487488/20913449"
     ]
    },
    {
     "name": "stderr",
     "output_type": "stream",
     "text": [
      "[INFO] | 2023/06/23 00:58:30 | -> Response: status_code=200, content_length=7112\n"
     ]
    },
    {
     "name": "stdout",
     "output_type": "stream",
     "text": [
      " 16% [========                                          ] 974848/586541349"
     ]
    },
    {
     "name": "stderr",
     "output_type": "stream",
     "text": [
      "[INFO] | 2023/06/23 00:58:30 | <- Request: scihub_url=https://sci-hub.ru, source=DoiSource[type=doi, id=doi.org/10.1161/CIRCULATIONAHA.116.023116], proxies={}\n"
     ]
    },
    {
     "name": "stdout",
     "output_type": "stream",
     "text": [
      " 35% [=================                                 ] 7503872/20913449"
     ]
    },
    {
     "name": "stderr",
     "output_type": "stream",
     "text": [
      "[INFO] | 2023/06/23 00:58:30 | * Extracted information: {'url': 'https://moscow.sci-hub.ru/4588/0768fb3ea99570f25eb690f390d73c5d/guyette2015.pdf', 'title': 'Bioengineering Human Myocardium on Native Extracellular MatrixNovelty and Significance. Circulation Research, 118(1), 56–72'}\n"
     ]
    },
    {
     "name": "stdout",
     "output_type": "stream",
     "text": [
      "  9% [====                                              ] 823296/885235439"
     ]
    },
    {
     "name": "stderr",
     "output_type": "stream",
     "text": [
      "[INFO] | 2023/06/23 00:58:31 | -> Response: status_code=200, content_length=7371\n"
     ]
    },
    {
     "name": "stdout",
     "output_type": "stream",
     "text": [
      "  3% [=                                                 ] 356352/115302539"
     ]
    },
    {
     "name": "stderr",
     "output_type": "stream",
     "text": [
      "[INFO] | 2023/06/23 00:58:31 | * Extracted information: {'url': 'https://zero.sci-hub.ru/6097/c512cfe34b7f54c409d93c546fe5a6a1/hadji2016.pdf', 'title': 'Altered DNA Methylation of Long Noncoding RNA\\n            H19\\n            in Calcific Aortic Valve Disease Promotes Mineralization by Silencing\\n            NOTCH1\\n            Clinical Pe'}\n"
     ]
    },
    {
     "name": "stdout",
     "output_type": "stream",
     "text": [
      " 34% [=================                                 ] 2039808/58654139\n",
      "  4% [==                                                ] 131072/274504149"
     ]
    },
    {
     "name": "stderr",
     "output_type": "stream",
     "text": [
      "[INFO] | 2023/06/23 00:58:31 | ↓ Successfully download the url to: /home/antonkulaga/sources/non-animal-models/data/inputs/datasets/CVD/papers/10.1007/s10439-014-1008-6.pdf\n"
     ]
    },
    {
     "name": "stdout",
     "output_type": "stream",
     "text": [
      " 36% [==================                                ] 2162688/58654133"
     ]
    },
    {
     "name": "stderr",
     "output_type": "stream",
     "text": [
      "[INFO] | 2023/06/23 00:58:31 | Choose scihub url [0]: https://sci-hub.ru\n"
     ]
    },
    {
     "name": "stdout",
     "output_type": "stream",
     "text": [
      "  9% [====                                              ] 1040384/11530253"
     ]
    },
    {
     "name": "stderr",
     "output_type": "stream",
     "text": [
      "[INFO] | 2023/06/23 00:58:31 | <- Request: scihub_url=https://sci-hub.ru, source=DoiSource[type=doi, id=doi.org/10.1007/s10439-016-1721-4], proxies={}\n"
     ]
    },
    {
     "name": "stdout",
     "output_type": "stream",
     "text": [
      " 32% [================                                  ] 2949120/89995686"
     ]
    },
    {
     "name": "stderr",
     "output_type": "stream",
     "text": [
      "[INFO] | 2023/06/23 00:58:32 | -> Response: status_code=200, content_length=7296\n"
     ]
    },
    {
     "name": "stdout",
     "output_type": "stream",
     "text": [
      " 12% [======                                            ] 1466368/11530253"
     ]
    },
    {
     "name": "stderr",
     "output_type": "stream",
     "text": [
      "[INFO] | 2023/06/23 00:58:32 | * Extracted information: {'url': 'https://zero.sci-hub.ru/6459/1dd9c89a8a6079e2beb41f050d5d7501/hadjicharalambous2016.pdf', 'title': 'Non-invasive Model-Based Assessment of Passive Left-Ventricular Myocardial Stiffness in Healthy Subjects and in Patients with Non-ischemic Dilated Cardiomyopathy. Annals of Biomedical Engineering, 45'}\n"
     ]
    },
    {
     "name": "stdout",
     "output_type": "stream",
     "text": [
      " 81% [========================================          ] 4759552/586541339\n",
      " 45% [======================                            ] 4046848/885235469"
     ]
    },
    {
     "name": "stderr",
     "output_type": "stream",
     "text": [
      "[INFO] | 2023/06/23 00:58:34 | ↓ Successfully download the url to: /home/antonkulaga/sources/non-animal-models/data/inputs/datasets/CVD/papers/10.1161/CIRCULATIONAHA.116.023116.pdf\n"
     ]
    },
    {
     "name": "stdout",
     "output_type": "stream",
     "text": [
      " 57% [============================                      ] 5189632/899956849"
     ]
    },
    {
     "name": "stderr",
     "output_type": "stream",
     "text": [
      "[INFO] | 2023/06/23 00:58:34 | Choose scihub url [0]: https://sci-hub.ru\n"
     ]
    },
    {
     "name": "stdout",
     "output_type": "stream",
     "text": [
      " 54% [===========================                       ] 11464704/20913449"
     ]
    },
    {
     "name": "stderr",
     "output_type": "stream",
     "text": [
      "[INFO] | 2023/06/23 00:58:34 | <- Request: scihub_url=https://sci-hub.ru, source=DoiSource[type=doi, id=doi.org/10.1016/j.jtcvs.2013.11.060], proxies={}\n"
     ]
    },
    {
     "name": "stdout",
     "output_type": "stream",
     "text": [
      " 62% [===============================                   ] 5619712/899956839\n",
      " 37% [==================                                ] 4272128/115302539"
     ]
    },
    {
     "name": "stderr",
     "output_type": "stream",
     "text": [
      "[INFO] | 2023/06/23 00:58:34 | ↓ Successfully download the url to: /home/antonkulaga/sources/non-animal-models/data/inputs/datasets/CVD/papers/10.1007/s10439-016-1721-4.pdf\n"
     ]
    },
    {
     "name": "stdout",
     "output_type": "stream",
     "text": [
      " 57% [============================                      ] 11980800/20913449"
     ]
    },
    {
     "name": "stderr",
     "output_type": "stream",
     "text": [
      "[INFO] | 2023/06/23 00:58:34 | -> Response: status_code=200, content_length=7260\n"
     ]
    },
    {
     "name": "stdout",
     "output_type": "stream",
     "text": [
      " 37% [==================                                ] 4325376/115302539"
     ]
    },
    {
     "name": "stderr",
     "output_type": "stream",
     "text": [
      "[INFO] | 2023/06/23 00:58:34 | * Extracted information: {'url': 'https://zero.sci-hub.ru/2318/0cd06dc6d2d84e9a7ec50cc602110927/haggerty2014.pdf', 'title': 'Fontan hemodynamics from 100 patient-specific cardiac magnetic resonance studies  A computational fluid dynamics analysis. The Journal of Thoracic and Cardiovascular Surgery, 148(4), 1481–1489'}\n"
     ]
    },
    {
     "name": "stdout",
     "output_type": "stream",
     "text": [
      " 53% [==========================                        ] 4706304/885235469"
     ]
    },
    {
     "name": "stderr",
     "output_type": "stream",
     "text": [
      "[INFO] | 2023/06/23 00:58:34 | Choose scihub url [0]: https://sci-hub.ru\n"
     ]
    },
    {
     "name": "stdout",
     "output_type": "stream",
     "text": [
      " 37% [==================                                ] 4374528/115302539"
     ]
    },
    {
     "name": "stderr",
     "output_type": "stream",
     "text": [
      "[INFO] | 2023/06/23 00:58:34 | <- Request: scihub_url=https://sci-hub.ru, source=DoiSource[type=doi, id=doi.org/10.1093/cvr/cvt083], proxies={}\n"
     ]
    },
    {
     "name": "stdout",
     "output_type": "stream",
     "text": [
      " 26% [=============                                     ] 4513792/167730969\n",
      " 68% [==================================                ] 6180864/899956849"
     ]
    },
    {
     "name": "stderr",
     "output_type": "stream",
     "text": [
      "[INFO] | 2023/06/23 00:58:35 | ↓ Successfully download the url to: /home/antonkulaga/sources/non-animal-models/data/inputs/datasets/CVD/papers/10.1016/j.jmbbm.2016.01.009.pdf\n"
     ]
    },
    {
     "name": "stdout",
     "output_type": "stream",
     "text": [
      " 60% [==============================                    ] 12640256/20913449"
     ]
    },
    {
     "name": "stderr",
     "output_type": "stream",
     "text": [
      "[INFO] | 2023/06/23 00:58:35 | Choose scihub url [0]: https://sci-hub.ru\n"
     ]
    },
    {
     "name": "stdout",
     "output_type": "stream",
     "text": [
      " 27% [=============                                     ] 4628480/167730969"
     ]
    },
    {
     "name": "stderr",
     "output_type": "stream",
     "text": [
      "[INFO] | 2023/06/23 00:58:35 | -> Response: status_code=200, content_length=7158\n"
     ]
    },
    {
     "name": "stdout",
     "output_type": "stream",
     "text": [
      " 59% [=============================                     ] 5287936/885235449"
     ]
    },
    {
     "name": "stderr",
     "output_type": "stream",
     "text": [
      "[INFO] | 2023/06/23 00:58:35 | <- Request: scihub_url=https://sci-hub.ru, source=DoiSource[type=doi, id=doi.org/10.1115/1.4040338], proxies={}\n"
     ]
    },
    {
     "name": "stdout",
     "output_type": "stream",
     "text": [
      " 43% [=====================                             ] 4972544/115302539"
     ]
    },
    {
     "name": "stderr",
     "output_type": "stream",
     "text": [
      "[INFO] | 2023/06/23 00:58:35 | * Extracted information: {'url': 'https://dacemirror.sci-hub.ru/journal-article/20fc700266f98c9d2ef127e3dcbd4852/hagler2013.pdf', 'title': 'TGF-β signalling and reactive oxygen species drive fibrosis and matrix remodelling in myxomatous mitral valves. Cardiovascular Research, 99(1), 175–184'}\n"
     ]
    },
    {
     "name": "stdout",
     "output_type": "stream",
     "text": [
      " 41% [====================                              ] 901120/2184411869"
     ]
    },
    {
     "name": "stderr",
     "output_type": "stream",
     "text": [
      "[INFO] | 2023/06/23 00:58:35 | -> Response: status_code=200, content_length=6922\n"
     ]
    },
    {
     "name": "stdout",
     "output_type": "stream",
     "text": [
      " 50% [=========================                         ] 5844992/115302539"
     ]
    },
    {
     "name": "stderr",
     "output_type": "stream",
     "text": [
      "[INFO] | 2023/06/23 00:58:35 | * Extracted information: {'url': 'https://zero.sci-hub.ru/7015/b404893c7df389d5394a5262ac0157b6/10.1115@1.4040338.pdf', 'title': ''}\n"
     ]
    },
    {
     "name": "stdout",
     "output_type": "stream",
     "text": [
      " 77% [======================================            ] 6823936/885235469"
     ]
    }
   ],
   "source": [
    "cvd_papers = cvd.download(8)\n",
    "cvd_papers"
   ],
   "metadata": {
    "collapsed": false,
    "ExecuteTime": {
     "start_time": "2023-06-22T21:57:18.610539106Z"
    }
   }
  },
  {
   "cell_type": "code",
   "execution_count": 10,
   "outputs": [
    {
     "name": "stdout",
     "output_type": "stream",
     "text": [
      "still working?\n"
     ]
    }
   ],
   "source": [
    "print(\"still working?\")"
   ],
   "metadata": {
    "collapsed": false,
    "ExecuteTime": {
     "end_time": "2023-06-23T00:05:21.735226976Z",
     "start_time": "2023-06-23T00:05:21.688289469Z"
    }
   }
  },
  {
   "cell_type": "code",
   "execution_count": null,
   "outputs": [],
   "source": [],
   "metadata": {
    "collapsed": false
   }
  }
 ],
 "metadata": {
  "kernelspec": {
   "display_name": "Python 3",
   "language": "python",
   "name": "python3"
  },
  "language_info": {
   "codemirror_mode": {
    "name": "ipython",
    "version": 2
   },
   "file_extension": ".py",
   "mimetype": "text/x-python",
   "name": "python",
   "nbconvert_exporter": "python",
   "pygments_lexer": "ipython2",
   "version": "2.7.6"
  }
 },
 "nbformat": 4,
 "nbformat_minor": 0
}
